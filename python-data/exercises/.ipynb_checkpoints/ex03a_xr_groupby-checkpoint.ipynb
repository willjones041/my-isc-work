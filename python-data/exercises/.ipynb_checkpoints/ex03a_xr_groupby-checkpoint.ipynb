{
 "cells": [
  {
   "cell_type": "markdown",
   "id": "7e3a36bd-b713-4a08-9f6c-a6a0260c42c0",
   "metadata": {
    "editable": true,
    "slideshow": {
     "slide_type": ""
    },
    "tags": []
   },
   "source": [
    "# Exercise 3a: Grouping"
   ]
  },
  {
   "cell_type": "markdown",
   "id": "1770f8c8-7d27-4536-aac8-f1e773dc0c86",
   "metadata": {
    "editable": true,
    "slideshow": {
     "slide_type": ""
    },
    "tags": []
   },
   "source": [
    "## Aim: Work with data which has been grouped."
   ]
  },
  {
   "cell_type": "markdown",
   "id": "b5a92dc3-6d27-4723-bba5-cdc30b5f2b0d",
   "metadata": {},
   "source": [
    "Find the teaching resources here: https://tutorial.xarray.dev/fundamentals/03.2_groupby_with_xarray.html"
   ]
  },
  {
   "cell_type": "markdown",
   "id": "06944527-8b86-4881-9c21-67013b11af9f",
   "metadata": {
    "editable": true,
    "slideshow": {
     "slide_type": ""
    },
    "tags": []
   },
   "source": [
    "### Issues Covered:\n",
    "- Grouping data with `.groupby()`\n",
    "- Finding the mean of grouped data."
   ]
  },
  {
   "cell_type": "markdown",
   "id": "1fbfc303-a5c7-490f-887a-30ed1d93ffb6",
   "metadata": {
    "editable": true,
    "slideshow": {
     "slide_type": ""
    },
    "tags": []
   },
   "source": [
    "## GroupBy processing"
   ]
  },
  {
   "cell_type": "markdown",
   "id": "3ad0ac92-b9c2-43e5-9235-dae178be3186",
   "metadata": {
    "editable": true,
    "slideshow": {
     "slide_type": ""
    },
    "tags": []
   },
   "source": [
    "Our ocean model dataset has no time dimension, so for this exercise we are going to use the NOAA ERSSST dataset from the tutorial. Load it using the command below."
   ]
  },
  {
   "cell_type": "code",
   "execution_count": 1,
   "id": "39c8e656-1f55-49c3-ba9b-51bb4004191e",
   "metadata": {
    "editable": true,
    "execution": {
     "iopub.execute_input": "2024-11-08T14:55:08.296789Z",
     "iopub.status.busy": "2024-11-08T14:55:08.296544Z",
     "iopub.status.idle": "2024-11-08T14:55:18.999081Z",
     "shell.execute_reply": "2024-11-08T14:55:18.998377Z"
    },
    "slideshow": {
     "slide_type": ""
    },
    "tags": []
   },
   "outputs": [],
   "source": [
    "import xarray as xr\n",
    "ds = xr.tutorial.load_dataset(\"ersstv5\")"
   ]
  },
  {
   "cell_type": "markdown",
   "id": "db58d1ca-84dd-4933-9498-551bd60f21a6",
   "metadata": {
    "editable": true,
    "slideshow": {
     "slide_type": ""
    },
    "tags": []
   },
   "source": [
    "Have a quick explore of the dataset and see what it contains."
   ]
  },
  {
   "cell_type": "code",
   "execution_count": 2,
   "id": "181322e6-af04-42c4-94f4-f0d8c00a9c66",
   "metadata": {
    "editable": true,
    "execution": {
     "iopub.execute_input": "2024-11-08T14:55:19.003385Z",
     "iopub.status.busy": "2024-11-08T14:55:19.002653Z",
     "iopub.status.idle": "2024-11-08T14:55:19.032353Z",
     "shell.execute_reply": "2024-11-08T14:55:19.031755Z"
    },
    "slideshow": {
     "slide_type": ""
    },
    "tags": [
     "clear_answer_cell"
    ]
   },
   "outputs": [],
   "source": []
  },
  {
   "cell_type": "markdown",
   "id": "bda96f3c-3fef-4aa4-b801-53e34c647f71",
   "metadata": {
    "editable": true,
    "slideshow": {
     "slide_type": ""
    },
    "tags": []
   },
   "source": [
    "Q1. First, lets group our dataset by year."
   ]
  },
  {
   "cell_type": "code",
   "execution_count": 3,
   "id": "976836af-ec0b-49b8-8dbc-349139e5db77",
   "metadata": {
    "editable": true,
    "execution": {
     "iopub.execute_input": "2024-11-08T14:55:19.035872Z",
     "iopub.status.busy": "2024-11-08T14:55:19.035560Z",
     "iopub.status.idle": "2024-11-08T14:55:19.042702Z",
     "shell.execute_reply": "2024-11-08T14:55:19.041969Z"
    },
    "slideshow": {
     "slide_type": ""
    },
    "tags": [
     "clear_answer_cell"
    ]
   },
   "outputs": [],
   "source": []
  },
  {
   "cell_type": "markdown",
   "id": "1c47c5a9-7c59-470b-b54c-00fb328dc1f0",
   "metadata": {
    "editable": true,
    "slideshow": {
     "slide_type": ""
    },
    "tags": []
   },
   "source": [
    "Q2. Lets take the mean of each group, to give the annual mean."
   ]
  },
  {
   "cell_type": "code",
   "execution_count": 4,
   "id": "ef15b52c-8cd8-46cf-87e6-814936ce280c",
   "metadata": {
    "editable": true,
    "execution": {
     "iopub.execute_input": "2024-11-08T14:55:19.045489Z",
     "iopub.status.busy": "2024-11-08T14:55:19.044962Z",
     "iopub.status.idle": "2024-11-08T14:55:19.178623Z",
     "shell.execute_reply": "2024-11-08T14:55:19.177989Z"
    },
    "slideshow": {
     "slide_type": ""
    },
    "tags": [
     "clear_answer_cell"
    ]
   },
   "outputs": [],
   "source": []
  },
  {
   "cell_type": "markdown",
   "id": "2c7da30c-5f09-4173-b306-10e26def81e0",
   "metadata": {
    "editable": true,
    "slideshow": {
     "slide_type": ""
    },
    "tags": []
   },
   "source": [
    "Q3. To see what we've done, lets plot the mean for the year 1960."
   ]
  },
  {
   "cell_type": "code",
   "execution_count": null,
   "id": "2c4dfcd3-1d9e-4f2c-843b-ebd934fe324a",
   "metadata": {
    "editable": true,
    "slideshow": {
     "slide_type": ""
    },
    "tags": []
   },
   "outputs": [],
   "source": []
  },
  {
   "cell_type": "markdown",
   "id": "3a6924bf-ebef-4b91-bfb7-95d286b2972e",
   "metadata": {
    "editable": true,
    "slideshow": {
     "slide_type": ""
    },
    "tags": []
   },
   "source": [
    "Q4. Next, lets plot an annual mean time seties for the point in the Atlantic ocean latitude=-50.625, longitude=0."
   ]
  },
  {
   "cell_type": "code",
   "execution_count": null,
   "id": "b8797acf-2e92-48ea-9a77-0118cd6e552f",
   "metadata": {
    "editable": true,
    "slideshow": {
     "slide_type": ""
    },
    "tags": []
   },
   "outputs": [],
   "source": []
  }
 ],
 "metadata": {
  "kernelspec": {
   "display_name": "Python 3 + Jaspy",
   "language": "python",
   "name": "jaspy"
  },
  "language_info": {
   "codemirror_mode": {
    "name": "ipython",
    "version": 3
   },
   "file_extension": ".py",
   "mimetype": "text/x-python",
   "name": "python",
   "nbconvert_exporter": "python",
   "pygments_lexer": "ipython3",
   "version": "3.11.9"
  }
 },
 "nbformat": 4,
 "nbformat_minor": 5
}
