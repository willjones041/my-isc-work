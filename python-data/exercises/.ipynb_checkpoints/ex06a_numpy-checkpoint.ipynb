{
 "cells": [
  {
   "cell_type": "markdown",
   "id": "de2a613e-7102-4e10-8fee-4d07c0e1f9eb",
   "metadata": {
    "editable": true,
    "slideshow": {
     "slide_type": ""
    },
    "tags": []
   },
   "source": [
    "# Exercise 6a: numpy"
   ]
  },
  {
   "cell_type": "markdown",
   "id": "ea1f5d14-d8ac-4c83-a0fa-54b2309f8cd1",
   "metadata": {},
   "source": [
    "## Aim: Get an overview of NumPy and some useful functions."
   ]
  },
  {
   "cell_type": "markdown",
   "id": "bd5f0117-b46f-475a-b6da-f4918a40f284",
   "metadata": {
    "editable": true,
    "slideshow": {
     "slide_type": ""
    },
    "tags": []
   },
   "source": [
    "You can find the teaching resources for this lesson here: https://numpy.org/doc/stable/user/quickstart.html"
   ]
  },
  {
   "cell_type": "markdown",
   "id": "8e3500eb-400a-45e4-b108-27a337b2fb84",
   "metadata": {},
   "source": [
    "### Issues covered:\n",
    "- Importing NumPy\n",
    "- Array creation\n",
    "- Array indexing and slicing\n",
    "- Array operations"
   ]
  },
  {
   "cell_type": "markdown",
   "id": "91d90486-6b89-495c-b5bb-fb610dc73e15",
   "metadata": {
    "editable": true,
    "slideshow": {
     "slide_type": ""
    },
    "tags": []
   },
   "source": [
    "## 1. Basics"
   ]
  },
  {
   "cell_type": "markdown",
   "id": "564704e3-b77a-45d3-a3ee-cb00feac6275",
   "metadata": {},
   "source": [
    "### Importing NumPy"
   ]
  },
  {
   "cell_type": "markdown",
   "id": "cb507a6c-6946-4916-80ba-6996f79b32a4",
   "metadata": {},
   "source": [
    "Q1. First, let's use the conventional way to import NumPy into our notebook. You'll need to run this cell to get the rest of the notebook to work!"
   ]
  },
  {
   "cell_type": "code",
   "execution_count": 2,
   "id": "b7b2c772-9185-4fa7-9cf7-61f5b53d56aa",
   "metadata": {},
   "outputs": [],
   "source": [
    "import numpy as np"
   ]
  },
  {
   "cell_type": "markdown",
   "id": "743d7668-3ea1-4d4f-82d6-89ba93d5915f",
   "metadata": {},
   "source": [
    "### Array creation"
   ]
  },
  {
   "cell_type": "markdown",
   "id": "f78525c3-6a0a-44be-a898-84f5af46a25e",
   "metadata": {},
   "source": [
    "Q2. Let's start by creating some arrays - try to create an array using `a = np.array(1, 2, 3, 4)`. Does this work? Can you edit it to make it work?"
   ]
  },
  {
   "cell_type": "code",
   "execution_count": 4,
   "id": "56419349-939c-48df-b696-2f7c08ae7f41",
   "metadata": {
    "allow_errors": true,
    "editable": true,
    "slideshow": {
     "slide_type": ""
    },
    "tags": [
     "allow_errors",
     "clear_answer_cell"
    ]
   },
   "outputs": [],
   "source": [
    "a = np.array([1,2,3,4])"
   ]
  },
  {
   "cell_type": "markdown",
   "id": "c7db7e8a-cdf5-4eaa-b1a5-301d89d170c6",
   "metadata": {
    "editable": true,
    "slideshow": {
     "slide_type": ""
    },
    "tags": []
   },
   "source": [
    "Q3. Take a look at the following numpy array:\n",
    "```\n",
    "[[7.0, 8.0, 4.0, 2.0],\n",
    " [12.0, 1.0, 0.0, 10.0],\n",
    " [0.0, 0.0, 0.0, 0.0]]\n",
    "```\n",
    "- How many axes does it have?\n",
    "- What is the length of the array?\n",
    "\n",
    "Hint: you can use `.ndim` and `.shape` to help if you enclose the array in `np.array()` to define the array."
   ]
  },
  {
   "cell_type": "code",
   "execution_count": 6,
   "id": "0c33dc0e-fd79-4839-ac13-79ba785e78d3",
   "metadata": {
    "editable": true,
    "slideshow": {
     "slide_type": ""
    },
    "tags": [
     "clear_answer_cell"
    ]
   },
   "outputs": [
    {
     "data": {
      "text/plain": [
       "(4,)"
      ]
     },
     "execution_count": 6,
     "metadata": {},
     "output_type": "execute_result"
    }
   ],
   "source": [
    "a.ndim\n",
    "a.shape"
   ]
  },
  {
   "cell_type": "markdown",
   "id": "861d15c0-c5fa-4d34-84bf-154980a66088",
   "metadata": {},
   "source": [
    "Q4. Can you come up with an example of what a 3D array would look like? Use `np.zeros` to make it then print it out and have a look at `.ndim` and `.shape`"
   ]
  },
  {
   "cell_type": "code",
   "execution_count": 14,
   "id": "1756a861-f70d-4889-9244-a229d9b2e7b7",
   "metadata": {
    "editable": true,
    "slideshow": {
     "slide_type": ""
    },
    "tags": [
     "clear_answer_cell"
    ]
   },
   "outputs": [
    {
     "data": {
      "text/plain": [
       "(3, 3, 3)"
      ]
     },
     "execution_count": 14,
     "metadata": {},
     "output_type": "execute_result"
    }
   ],
   "source": [
    "bones = np.zeros((3,3,3))\n",
    "bones.ndim\n",
    "bones.shape"
   ]
  },
  {
   "cell_type": "markdown",
   "id": "73d932df-887b-455f-93b2-ec265546b6cf",
   "metadata": {},
   "source": [
    "Q5.\n",
    "- How many elements are in your array? Use `.size` to check.\n",
    "- What type are the elements in the array? Use `.dtype` to check.\n",
    "- How many bites are in each element of the array? Use `.itemsize` to check."
   ]
  },
  {
   "cell_type": "code",
   "execution_count": 17,
   "id": "3d3c5463-aa6a-4167-9154-7b7f133e7bc3",
   "metadata": {
    "editable": true,
    "slideshow": {
     "slide_type": ""
    },
    "tags": [
     "clear_answer_cell"
    ]
   },
   "outputs": [
    {
     "data": {
      "text/plain": [
       "8"
      ]
     },
     "execution_count": 17,
     "metadata": {},
     "output_type": "execute_result"
    }
   ],
   "source": [
    "bones.size\n",
    "bones.dtype\n",
    "bones.itemsize"
   ]
  },
  {
   "cell_type": "markdown",
   "id": "cb62bfcd-e67a-42ed-9980-1578002f9d3f",
   "metadata": {},
   "source": [
    "Q6. Create a 1D array of nine numbers 1-9 using `a = np.linspace(1, 9, 9)`. Reshape this to be a 3x3 array and print it."
   ]
  },
  {
   "cell_type": "code",
   "execution_count": 19,
   "id": "aacebcbe-ef1a-4813-bc35-a65b061c4f8b",
   "metadata": {
    "editable": true,
    "slideshow": {
     "slide_type": ""
    },
    "tags": [
     "clear_answer_cell"
    ]
   },
   "outputs": [
    {
     "data": {
      "text/plain": [
       "array([[1., 2., 3.],\n",
       "       [4., 5., 6.],\n",
       "       [7., 8., 9.]])"
      ]
     },
     "execution_count": 19,
     "metadata": {},
     "output_type": "execute_result"
    }
   ],
   "source": [
    "a = np.linspace(1,9,9)\n",
    "a.reshape((3,3))"
   ]
  },
  {
   "cell_type": "markdown",
   "id": "2f2f3bfe-4776-46a1-ad0c-8995322aba55",
   "metadata": {},
   "source": [
    "### Basic operations"
   ]
  },
  {
   "cell_type": "markdown",
   "id": "63700027-be94-4a47-9600-ef5ea449e1b4",
   "metadata": {},
   "source": [
    "Q7. What happens if you multiply the previous array by 2 using `b = a*2`?"
   ]
  },
  {
   "cell_type": "code",
   "execution_count": 22,
   "id": "13b608bb-39cb-47cc-a97e-87c33cb4fe2a",
   "metadata": {
    "editable": true,
    "slideshow": {
     "slide_type": ""
    },
    "tags": [
     "clear_answer_cell"
    ]
   },
   "outputs": [
    {
     "data": {
      "text/plain": [
       "array([ 2.,  4.,  6.,  8., 10., 12., 14., 16., 18.])"
      ]
     },
     "execution_count": 22,
     "metadata": {},
     "output_type": "execute_result"
    }
   ],
   "source": [
    "b=a*2\n",
    "b"
   ]
  },
  {
   "cell_type": "markdown",
   "id": "6ac2f29e-b42c-4e0b-9809-07938ae3aa5e",
   "metadata": {},
   "source": [
    "Q8. How do you do matrix multiplication? Try doing the matrix product of `a` and `b`."
   ]
  },
  {
   "cell_type": "code",
   "execution_count": 23,
   "id": "80b1fc56-e095-435c-b3c6-25afce442071",
   "metadata": {
    "editable": true,
    "slideshow": {
     "slide_type": ""
    },
    "tags": [
     "clear_answer_cell"
    ]
   },
   "outputs": [
    {
     "data": {
      "text/plain": [
       "570.0"
      ]
     },
     "execution_count": 23,
     "metadata": {},
     "output_type": "execute_result"
    }
   ],
   "source": [
    "a@b"
   ]
  },
  {
   "cell_type": "markdown",
   "id": "6b76ea97-318a-4bfd-964c-f72d85459f85",
   "metadata": {},
   "source": [
    "Q9. When performing operations between arrays of different data types, numpy automatically converts the result to the more precise type - this is called upcasting. Let's demonstrate this concept:\n",
    "- Create an array with 3 elements all set to one using `a = np.ones(3, dtype=np.int32)` and set the data type to `np.int32`\n",
    "- Create a float array of 3 elements evenly spaced between 0 and π using `b = np.linspace(0, np.pi, 3)`. The data type will be `float64` by default\n",
    "- Check the data type of both arrays\n",
    "- Add the arrays `a` and `b` to make a new array `c`. Print the resulting array `c` and its data type."
   ]
  },
  {
   "cell_type": "code",
   "execution_count": 29,
   "id": "8ec1bb60-82f6-4152-9e47-c1d45ab955b0",
   "metadata": {
    "editable": true,
    "slideshow": {
     "slide_type": ""
    },
    "tags": [
     "clear_answer_cell"
    ]
   },
   "outputs": [
    {
     "data": {
      "text/plain": [
       "dtype('float64')"
      ]
     },
     "execution_count": 29,
     "metadata": {},
     "output_type": "execute_result"
    }
   ],
   "source": [
    "a = np.ones(3,dtype=np.int32)\n",
    "b = np.linspace(0,np.pi,3)\n",
    "a.dtype\n",
    "b.dtype\n",
    "c = a +b\n",
    "c.dtype\n"
   ]
  },
  {
   "cell_type": "markdown",
   "id": "b824fbf3-7184-45fc-8219-a50712941091",
   "metadata": {},
   "source": [
    "Q10. For matrix `a` in the previous question, what do you think `a.sum()` would be? Check your answer."
   ]
  },
  {
   "cell_type": "code",
   "execution_count": 32,
   "id": "91507ae1-8b08-45f1-bd8d-7fbeb5b9dd2c",
   "metadata": {
    "editable": true,
    "slideshow": {
     "slide_type": ""
    },
    "tags": [
     "clear_answer_cell"
    ]
   },
   "outputs": [
    {
     "data": {
      "text/plain": [
       "dtype('int64')"
      ]
     },
     "execution_count": 32,
     "metadata": {},
     "output_type": "execute_result"
    }
   ],
   "source": [
    "a.sum().dtype"
   ]
  },
  {
   "cell_type": "markdown",
   "id": "f0fedf38-dff2-43df-8057-4998d7219e31",
   "metadata": {},
   "source": [
    "Q11. Create an array using `np.ones(6).reshape(3,2)`. If we only want to sum each column, how would we do that?"
   ]
  },
  {
   "cell_type": "code",
   "execution_count": 36,
   "id": "84d7b08c-5cfe-4662-b7c2-ee9a1fd5cf1d",
   "metadata": {
    "editable": true,
    "slideshow": {
     "slide_type": ""
    },
    "tags": [
     "clear_answer_cell"
    ]
   },
   "outputs": [
    {
     "name": "stdout",
     "output_type": "stream",
     "text": [
      "[[1. 1.]\n",
      " [1. 1.]\n",
      " [1. 1.]]\n"
     ]
    },
    {
     "data": {
      "text/plain": [
       "array([3., 3.])"
      ]
     },
     "execution_count": 36,
     "metadata": {},
     "output_type": "execute_result"
    }
   ],
   "source": [
    "d = np.ones(6).reshape(3,2)\n",
    "print(d)\n",
    "d.sum(axis=0)"
   ]
  },
  {
   "cell_type": "markdown",
   "id": "c6d39222-c0a5-4013-83ce-182dfab3ea2e",
   "metadata": {},
   "source": [
    "### Indexing"
   ]
  },
  {
   "cell_type": "markdown",
   "id": "7b2b1a58-8c3e-480f-950a-ccf3a813b8cd",
   "metadata": {
    "editable": true,
    "slideshow": {
     "slide_type": ""
    },
    "tags": []
   },
   "source": [
    "Q12.\n",
    "- Create a 1D array of size 20 where each element is the cube of its index.\n",
    "- Print the 5th element of `a`. Hint: your answer should be 64 - remember where we start indexing."
   ]
  },
  {
   "cell_type": "code",
   "execution_count": 63,
   "id": "f50807ff-0025-4e89-8a17-1ea2988cc367",
   "metadata": {
    "editable": true,
    "slideshow": {
     "slide_type": ""
    },
    "tags": [
     "clear_answer_cell"
    ]
   },
   "outputs": [
    {
     "data": {
      "text/plain": [
       "array([   0,    1,    8,   27,   64,  125,  216,  343,  512,  729, 1000,\n",
       "       1331, 1728, 2197, 2744, 3375, 4096, 4913, 5832, 6859])"
      ]
     },
     "execution_count": 63,
     "metadata": {},
     "output_type": "execute_result"
    }
   ],
   "source": [
    "a=np.array([i**3 for i in range(0,20)])\n",
    "a"
   ]
  },
  {
   "cell_type": "markdown",
   "id": "8793e6ef-144a-440f-aa9e-5b49dc4a583d",
   "metadata": {},
   "source": [
    "Q13. Slice the array to get elements from index 3 to index 7 (inclusive)."
   ]
  },
  {
   "cell_type": "code",
   "execution_count": 51,
   "id": "7c45834d-1a39-4037-9bf1-ca97c8dab09d",
   "metadata": {
    "editable": true,
    "slideshow": {
     "slide_type": ""
    },
    "tags": [
     "clear_answer_cell"
    ]
   },
   "outputs": [
    {
     "data": {
      "text/plain": [
       "[8, 27, 64, 125, 216]"
      ]
     },
     "execution_count": 51,
     "metadata": {},
     "output_type": "execute_result"
    }
   ],
   "source": [
    "a[2:7]"
   ]
  },
  {
   "cell_type": "markdown",
   "id": "3be02020-6449-4a8c-a1f6-bf6fafb6ec12",
   "metadata": {},
   "source": [
    "Q14. Change every 3rd element to -1. This should give: `[ -1, 1, 8, -1, 64, 125, -1, ... ]`"
   ]
  },
  {
   "cell_type": "code",
   "execution_count": 65,
   "id": "f16bfe38-1f6f-47fd-a7f2-2a9da0333a8b",
   "metadata": {
    "editable": true,
    "slideshow": {
     "slide_type": ""
    },
    "tags": [
     "clear_answer_cell"
    ]
   },
   "outputs": [
    {
     "data": {
      "text/plain": [
       "array([  -1,    1,    8,   -1,   64,  125,   -1,  343,  512,   -1, 1000,\n",
       "       1331,   -1, 2197, 2744,   -1, 4096, 4913,   -1, 6859])"
      ]
     },
     "execution_count": 65,
     "metadata": {},
     "output_type": "execute_result"
    }
   ],
   "source": [
    "a[::3] =-1\n",
    "a"
   ]
  },
  {
   "cell_type": "markdown",
   "id": "eb80452e-cd4f-4971-825d-86cb4747d9da",
   "metadata": {},
   "source": [
    "Q15. Reverse the array and print the result."
   ]
  },
  {
   "cell_type": "code",
   "execution_count": 69,
   "id": "169e63ce-9d74-4a35-b386-d2bd07bad3a7",
   "metadata": {
    "editable": true,
    "slideshow": {
     "slide_type": ""
    },
    "tags": [
     "clear_answer_cell"
    ]
   },
   "outputs": [
    {
     "data": {
      "text/plain": [
       "array([6859,   -1, 4913, 4096,   -1, 2744, 2197,   -1, 1331, 1000,   -1,\n",
       "        512,  343,   -1,  125,   64,   -1,    8,    1,   -1])"
      ]
     },
     "execution_count": 69,
     "metadata": {},
     "output_type": "execute_result"
    }
   ],
   "source": [
    "np.flip(a)"
   ]
  },
  {
   "cell_type": "markdown",
   "id": "1cd5271c-8a90-49ae-979b-d89575491b01",
   "metadata": {},
   "source": [
    "Q16. Create a 3x4 numpy array `b` using `b = np.array([[2 * i + j for j in range(4)] for i in range(3)])`."
   ]
  },
  {
   "cell_type": "code",
   "execution_count": 72,
   "id": "5536dff6-d6c2-4dab-a4e6-869629e0edeb",
   "metadata": {
    "editable": true,
    "slideshow": {
     "slide_type": ""
    },
    "tags": [
     "clear_answer_cell"
    ]
   },
   "outputs": [
    {
     "data": {
      "text/plain": [
       "array([[0, 1, 2, 3],\n",
       "       [2, 3, 4, 5],\n",
       "       [4, 5, 6, 7]])"
      ]
     },
     "execution_count": 72,
     "metadata": {},
     "output_type": "execute_result"
    }
   ],
   "source": [
    "b=np.array([[2*i + j for j in range(4)] for i in range(3)])\n",
    "b"
   ]
  },
  {
   "cell_type": "markdown",
   "id": "3983a14f-de1d-490b-b6fd-4f4d7eda14fb",
   "metadata": {},
   "source": [
    "Q17. Print the element in the second row and third column. This should be 4."
   ]
  },
  {
   "cell_type": "code",
   "execution_count": 73,
   "id": "a734ee36-b794-4260-808c-575518b4a34e",
   "metadata": {
    "editable": true,
    "slideshow": {
     "slide_type": ""
    },
    "tags": [
     "clear_answer_cell"
    ]
   },
   "outputs": [
    {
     "name": "stdout",
     "output_type": "stream",
     "text": [
      "4\n"
     ]
    }
   ],
   "source": [
    "print(b[1,2])"
   ]
  },
  {
   "cell_type": "markdown",
   "id": "3e4d5ba7-1abe-4285-bd7b-29bca9febbf1",
   "metadata": {},
   "source": [
    "Q18. Extract and print the second column as a 1D array."
   ]
  },
  {
   "cell_type": "code",
   "execution_count": 75,
   "id": "e190b233-124d-40c3-b928-c66f015217df",
   "metadata": {
    "editable": true,
    "slideshow": {
     "slide_type": ""
    },
    "tags": [
     "clear_answer_cell"
    ]
   },
   "outputs": [
    {
     "name": "stdout",
     "output_type": "stream",
     "text": [
      "[1 3 5]\n"
     ]
    }
   ],
   "source": [
    "print(b[:,1])"
   ]
  },
  {
   "cell_type": "markdown",
   "id": "24b839b8-a010-4bd5-afdc-f7046c7acc26",
   "metadata": {},
   "source": [
    "Q19. Extract and print a sub-array containing the last two rows."
   ]
  },
  {
   "cell_type": "code",
   "execution_count": 109,
   "id": "6efa59b9-0bc1-4a8b-ae32-4ffbe75512cb",
   "metadata": {
    "editable": true,
    "slideshow": {
     "slide_type": ""
    },
    "tags": [
     "clear_answer_cell"
    ]
   },
   "outputs": [
    {
     "name": "stdout",
     "output_type": "stream",
     "text": [
      "[[2 3 4 5]\n",
      " [4 5 6 7]]\n"
     ]
    }
   ],
   "source": [
    "print(b[1:3,:])"
   ]
  },
  {
   "cell_type": "markdown",
   "id": "d4fb0210-2031-4435-bdae-b567a6010c42",
   "metadata": {},
   "source": [
    "Q20. Use slicing to replace the last row with the values `[7, 7, 7, 7]`."
   ]
  },
  {
   "cell_type": "code",
   "execution_count": 111,
   "id": "d2e59188-020a-4c03-a373-9d50b0def22f",
   "metadata": {
    "editable": true,
    "slideshow": {
     "slide_type": ""
    },
    "tags": [
     "clear_answer_cell"
    ]
   },
   "outputs": [
    {
     "data": {
      "text/plain": [
       "array([[0, 1, 2, 3],\n",
       "       [2, 3, 4, 5],\n",
       "       [7, 7, 7, 7]])"
      ]
     },
     "execution_count": 111,
     "metadata": {},
     "output_type": "execute_result"
    }
   ],
   "source": [
    "b[-1,:]=[7,7,7,7]\n",
    "b"
   ]
  },
  {
   "cell_type": "markdown",
   "id": "161545bc-06dd-40cb-b598-36de4f5378e3",
   "metadata": {},
   "source": [
    "Q21. Iterate over the elements of the array using the `.flat` attribute and print them."
   ]
  },
  {
   "cell_type": "code",
   "execution_count": 114,
   "id": "78081cb7-6c73-466b-a736-1aca4c652f49",
   "metadata": {
    "editable": true,
    "slideshow": {
     "slide_type": ""
    },
    "tags": [
     "clear_answer_cell"
    ]
   },
   "outputs": [
    {
     "name": "stdout",
     "output_type": "stream",
     "text": [
      "0\n",
      "1\n",
      "2\n",
      "3\n",
      "2\n",
      "3\n",
      "4\n",
      "5\n",
      "7\n",
      "7\n",
      "7\n",
      "7\n"
     ]
    }
   ],
   "source": [
    "for i in b.flat:\n",
    "    print(i)"
   ]
  },
  {
   "cell_type": "markdown",
   "id": "0ea93892-c626-4e4e-b91c-763daf6bb7e1",
   "metadata": {},
   "source": [
    "Q22. Create a 3D array `c` using `c = np.array([[[i * 10 + j * 5 + k for k in range(4)] for j in range(3)] for i in range(2)])`"
   ]
  },
  {
   "cell_type": "code",
   "execution_count": 117,
   "id": "15632b1d-f44e-4a1e-9efb-e6fde75e266b",
   "metadata": {
    "editable": true,
    "slideshow": {
     "slide_type": ""
    },
    "tags": [
     "clear_answer_cell"
    ]
   },
   "outputs": [
    {
     "data": {
      "text/plain": [
       "array([[[ 0,  1,  2,  3],\n",
       "        [ 5,  6,  7,  8],\n",
       "        [10, 11, 12, 13]],\n",
       "\n",
       "       [[10, 11, 12, 13],\n",
       "        [15, 16, 17, 18],\n",
       "        [20, 21, 22, 23]]])"
      ]
     },
     "execution_count": 117,
     "metadata": {},
     "output_type": "execute_result"
    }
   ],
   "source": [
    "c=np.array([[[i*10 +j*5 + k for k in range(4)] for j in range(3)] for i in range(2)])\n",
    "c"
   ]
  },
  {
   "cell_type": "markdown",
   "id": "d48d62f7-5ccc-4dc6-a441-cac5ebc4cb10",
   "metadata": {},
   "source": [
    "Q23. Print all elements of the first layer of the array."
   ]
  },
  {
   "cell_type": "code",
   "execution_count": 119,
   "id": "53d8f855-bba0-40a4-aeba-2b719b87b363",
   "metadata": {
    "editable": true,
    "slideshow": {
     "slide_type": ""
    },
    "tags": [
     "clear_answer_cell"
    ]
   },
   "outputs": [
    {
     "name": "stdout",
     "output_type": "stream",
     "text": [
      "[[ 0  1  2  3]\n",
      " [ 5  6  7  8]\n",
      " [10 11 12 13]]\n"
     ]
    }
   ],
   "source": [
    "print(c[0,:,:])"
   ]
  },
  {
   "cell_type": "markdown",
   "id": "96fcfb26-8c72-476b-b030-9e1f61a143ab",
   "metadata": {},
   "source": [
    "Q24. Use `...` to print the last element of each 1D array contained within c."
   ]
  },
  {
   "cell_type": "code",
   "execution_count": 120,
   "id": "59fcba5b-3772-4326-9f82-da576e8e6f5d",
   "metadata": {
    "editable": true,
    "slideshow": {
     "slide_type": ""
    },
    "tags": [
     "clear_answer_cell"
    ]
   },
   "outputs": [
    {
     "name": "stdout",
     "output_type": "stream",
     "text": [
      "[13 23]\n"
     ]
    }
   ],
   "source": [
    "print(c[...,-1,-1])"
   ]
  },
  {
   "cell_type": "markdown",
   "id": "c96b71dd-bb47-41aa-9403-cc51f660aa0d",
   "metadata": {},
   "source": [
    "Q25. Modify the first column of the second layer to `[0, 0, 0]`."
   ]
  },
  {
   "cell_type": "code",
   "execution_count": 122,
   "id": "495e40c1-5584-4e58-9db3-70b380b1fae5",
   "metadata": {
    "editable": true,
    "slideshow": {
     "slide_type": ""
    },
    "tags": [
     "clear_answer_cell"
    ]
   },
   "outputs": [
    {
     "data": {
      "text/plain": [
       "array([[[ 0,  1,  2,  3],\n",
       "        [ 5,  6,  7,  8],\n",
       "        [10, 11, 12, 13]],\n",
       "\n",
       "       [[ 0, 11, 12, 13],\n",
       "        [ 0, 16, 17, 18],\n",
       "        [ 0, 21, 22, 23]]])"
      ]
     },
     "execution_count": 122,
     "metadata": {},
     "output_type": "execute_result"
    }
   ],
   "source": [
    "c[1,:,0]=[0,0,0]\n",
    "c"
   ]
  },
  {
   "cell_type": "code",
   "execution_count": null,
   "id": "6132faa9-c5a5-40ee-aabf-315b1a92bcf8",
   "metadata": {},
   "outputs": [],
   "source": []
  }
 ],
 "metadata": {
  "kernelspec": {
   "display_name": "Python 3 + Jaspy",
   "language": "python",
   "name": "jaspy"
  },
  "language_info": {
   "codemirror_mode": {
    "name": "ipython",
    "version": 3
   },
   "file_extension": ".py",
   "mimetype": "text/x-python",
   "name": "python",
   "nbconvert_exporter": "python",
   "pygments_lexer": "ipython3",
   "version": "3.11.9"
  }
 },
 "nbformat": 4,
 "nbformat_minor": 5
}
