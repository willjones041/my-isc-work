{
 "cells": [
  {
   "cell_type": "markdown",
   "id": "3058f71b-e62e-4301-ab43-d93a996e7cd1",
   "metadata": {
    "editable": true,
    "slideshow": {
     "slide_type": ""
    },
    "tags": []
   },
   "source": [
    "# Exercise 3b: Masking"
   ]
  },
  {
   "cell_type": "markdown",
   "id": "000d2f40-7df5-4425-9869-d41d9b5cb356",
   "metadata": {},
   "source": [
    "## Aim: Learn to mask data in xarray"
   ]
  },
  {
   "cell_type": "markdown",
   "id": "18b86830-4c51-4561-b228-00b893296566",
   "metadata": {},
   "source": [
    "Find the teaching material here: https://tutorial.xarray.dev/intermediate/indexing/boolean-masking-indexing.html"
   ]
  },
  {
   "cell_type": "markdown",
   "id": "ee494cac-6ae1-4c16-a730-cbbd277e4744",
   "metadata": {},
   "source": [
    "### Issues covered: \n",
    "- Create re-usable masks for data\n",
    "- Plot masked data"
   ]
  },
  {
   "cell_type": "markdown",
   "id": "372af117-a045-4830-b91f-9124107cff6e",
   "metadata": {
    "editable": true,
    "slideshow": {
     "slide_type": ""
    },
    "tags": []
   },
   "source": [
    "Q1. For masking, we're back to using our ocean dataset. Load it now from `../data/vbhubo.pgc0apr.nc`."
   ]
  },
  {
   "cell_type": "code",
   "execution_count": 1,
   "id": "5bbad328-b6fe-4d9e-aacd-d5d2bcaac2c3",
   "metadata": {
    "editable": true,
    "execution": {
     "iopub.execute_input": "2024-11-08T14:54:24.404131Z",
     "iopub.status.busy": "2024-11-08T14:54:24.403855Z",
     "iopub.status.idle": "2024-11-08T14:54:32.860391Z",
     "shell.execute_reply": "2024-11-08T14:54:32.859756Z"
    },
    "slideshow": {
     "slide_type": ""
    },
    "tags": [
     "clear_answer_cell"
    ]
   },
   "outputs": [],
   "source": []
  },
  {
   "cell_type": "markdown",
   "id": "36531d5e-1969-46cd-a093-a0f1d538827e",
   "metadata": {
    "editable": true,
    "slideshow": {
     "slide_type": ""
    },
    "tags": []
   },
   "source": [
    "Q2. Determine which grid cells sea surface temperaturevis more than the mean."
   ]
  },
  {
   "cell_type": "code",
   "execution_count": 2,
   "id": "b6358593-814b-4574-9dd1-a44c4c4cec9c",
   "metadata": {
    "editable": true,
    "execution": {
     "iopub.execute_input": "2024-11-08T14:54:32.863370Z",
     "iopub.status.busy": "2024-11-08T14:54:32.862901Z",
     "iopub.status.idle": "2024-11-08T14:54:33.291924Z",
     "shell.execute_reply": "2024-11-08T14:54:33.291420Z"
    },
    "slideshow": {
     "slide_type": ""
    },
    "tags": [
     "clear_answer_cell"
    ]
   },
   "outputs": [],
   "source": []
  },
  {
   "cell_type": "markdown",
   "id": "9bc58a98-fb38-4703-a313-5263c0773183",
   "metadata": {
    "editable": true,
    "slideshow": {
     "slide_type": ""
    },
    "tags": []
   },
   "source": [
    "Q3. Combine this with another .where() lookup to show only cells where the temperature is more than the mean and salinity is more than the mean."
   ]
  },
  {
   "cell_type": "code",
   "execution_count": 3,
   "id": "d8fb7ec8-b129-443a-b469-95a61ff1c5db",
   "metadata": {
    "editable": true,
    "execution": {
     "iopub.execute_input": "2024-11-08T14:54:33.294676Z",
     "iopub.status.busy": "2024-11-08T14:54:33.294332Z",
     "iopub.status.idle": "2024-11-08T14:54:33.805169Z",
     "shell.execute_reply": "2024-11-08T14:54:33.804649Z"
    },
    "slideshow": {
     "slide_type": ""
    },
    "tags": [
     "clear_answer_cell"
    ]
   },
   "outputs": [],
   "source": []
  },
  {
   "cell_type": "markdown",
   "id": "b3322279-7489-43b2-b9e8-dc41093c34a6",
   "metadata": {
    "editable": true,
    "slideshow": {
     "slide_type": ""
    },
    "tags": []
   },
   "source": [
    "Q4. Masks are just boolean arrays. Create a re-usuable mask for the temperature and sst criteia above, and a combined one."
   ]
  },
  {
   "cell_type": "code",
   "execution_count": 4,
   "id": "61e20222-b105-4438-8ba2-c54bd9aa1d54",
   "metadata": {
    "editable": true,
    "execution": {
     "iopub.execute_input": "2024-11-08T14:54:33.807832Z",
     "iopub.status.busy": "2024-11-08T14:54:33.807570Z",
     "iopub.status.idle": "2024-11-08T14:54:33.814723Z",
     "shell.execute_reply": "2024-11-08T14:54:33.814173Z"
    },
    "slideshow": {
     "slide_type": ""
    },
    "tags": [
     "clear_answer_cell"
    ]
   },
   "outputs": [],
   "source": []
  },
  {
   "cell_type": "markdown",
   "id": "aa4f780b-b22a-48bf-b165-7bedd9a4c011",
   "metadata": {
    "editable": true,
    "slideshow": {
     "slide_type": ""
    },
    "tags": []
   },
   "source": [
    "Q5. Use this mask to make the same temperature plot, and a similar one for sst."
   ]
  },
  {
   "cell_type": "code",
   "execution_count": 5,
   "id": "850cffc7-f47e-432d-a0cd-25f40370f5cd",
   "metadata": {
    "editable": true,
    "execution": {
     "iopub.execute_input": "2024-11-08T14:54:33.817140Z",
     "iopub.status.busy": "2024-11-08T14:54:33.816637Z",
     "iopub.status.idle": "2024-11-08T14:54:34.193250Z",
     "shell.execute_reply": "2024-11-08T14:54:34.192692Z"
    },
    "slideshow": {
     "slide_type": ""
    },
    "tags": [
     "clear_answer_cell"
    ]
   },
   "outputs": [],
   "source": []
  }
 ],
 "metadata": {
  "kernelspec": {
   "display_name": "Python 3 + Jaspy",
   "language": "python",
   "name": "jaspy"
  },
  "language_info": {
   "codemirror_mode": {
    "name": "ipython",
    "version": 3
   },
   "file_extension": ".py",
   "mimetype": "text/x-python",
   "name": "python",
   "nbconvert_exporter": "python",
   "pygments_lexer": "ipython3",
   "version": "3.11.9"
  }
 },
 "nbformat": 4,
 "nbformat_minor": 5
}
