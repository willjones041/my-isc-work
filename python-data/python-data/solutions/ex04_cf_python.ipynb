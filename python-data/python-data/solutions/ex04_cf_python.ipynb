{
 "cells": [
  {
   "cell_type": "markdown",
   "id": "2762201c-7657-4894-9e07-aaa62c49efec",
   "metadata": {},
   "source": [
    "# Exercise 4"
   ]
  }
 ],
 "metadata": {
  "kernelspec": {
   "display_name": "Python 3 + Jaspy",
   "language": "python",
   "name": "jaspy"
  },
  "language_info": {
   "codemirror_mode": {
    "name": "ipython",
    "version": 3
   },
   "file_extension": ".py",
   "mimetype": "text/x-python",
   "name": "python",
   "nbconvert_exporter": "python",
   "pygments_lexer": "ipython3",
   "version": "3.11.9"
  }
 },
 "nbformat": 4,
 "nbformat_minor": 5
}
