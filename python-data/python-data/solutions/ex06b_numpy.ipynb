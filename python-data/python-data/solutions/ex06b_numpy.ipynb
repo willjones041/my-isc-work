{
 "cells": [
  {
   "cell_type": "markdown",
   "id": "93699150-662a-4a21-bc2b-7836c39d0e0d",
   "metadata": {
    "editable": true,
    "slideshow": {
     "slide_type": ""
    },
    "tags": []
   },
   "source": [
    "# Exercise 6b: numpy (continued)"
   ]
  },
  {
   "cell_type": "markdown",
   "id": "0465143d-b368-4fcb-baec-017e5aaf801b",
   "metadata": {},
   "source": [
    "## Aim: Get an overview of NumPy and some useful functions."
   ]
  },
  {
   "cell_type": "markdown",
   "id": "0364bf4f-20d1-49bc-8e2e-90f636e579ea",
   "metadata": {},
   "source": [
    "You can find the teaching resources for this lesson here: https://numpy.org/doc/stable/user/quickstart.html"
   ]
  },
  {
   "cell_type": "markdown",
   "id": "b169c5eb-8467-4830-ba53-8707ad9642d0",
   "metadata": {},
   "source": [
    "### Issues covered:\n",
    "- Shape manipulation: changing shape, stacking, splitting\n",
    "- Copies and views"
   ]
  },
  {
   "cell_type": "markdown",
   "id": "bd16b618-3891-4613-9257-a3fbaba8f53f",
   "metadata": {},
   "source": [
    "## 2. Shape manipulation"
   ]
  },
  {
   "cell_type": "markdown",
   "id": "776d6a74-7fd7-4a76-9388-694a241fcfdf",
   "metadata": {},
   "source": [
    "### Changing the shape"
   ]
  },
  {
   "cell_type": "markdown",
   "id": "34b119db-ac4b-44cb-96a8-ca00e89cb2db",
   "metadata": {},
   "source": [
    "Q1. Use the following to create a 3x4 array: \n",
    "```\n",
    "rg = np.random.default_rng(1)\n",
    "a = np.floor(10 * rg.random((3, 4)))\n",
    "```\n",
    "Then use the `ravel` method to flatten the array and print it."
   ]
  },
  {
   "cell_type": "code",
   "execution_count": 1,
   "id": "addaf639-10ae-402b-a6e8-6dbbdab747f7",
   "metadata": {
    "editable": true,
    "execution": {
     "iopub.execute_input": "2024-11-07T16:44:43.926389Z",
     "iopub.status.busy": "2024-11-07T16:44:43.925221Z",
     "iopub.status.idle": "2024-11-07T16:44:44.456971Z",
     "shell.execute_reply": "2024-11-07T16:44:44.455705Z"
    },
    "slideshow": {
     "slide_type": ""
    },
    "tags": [
     "clear_answer_cell"
    ]
   },
   "outputs": [
    {
     "name": "stdout",
     "output_type": "stream",
     "text": [
      "[[5. 9. 1. 9.]\n",
      " [3. 4. 8. 4.]\n",
      " [5. 0. 7. 5.]]\n"
     ]
    },
    {
     "data": {
      "text/plain": [
       "array([5., 9., 1., 9., 3., 4., 8., 4., 5., 0., 7., 5.])"
      ]
     },
     "execution_count": 1,
     "metadata": {},
     "output_type": "execute_result"
    }
   ],
   "source": [
    "import numpy as np\n",
    "rg = np.random.default_rng(1)\n",
    "a = np.floor(10 * rg.random((3, 4)))\n",
    "print(a)\n",
    "a.ravel()"
   ]
  },
  {
   "cell_type": "markdown",
   "id": "4d060d03-973b-4916-80d9-29382400419f",
   "metadata": {},
   "source": [
    "Q2. Reshape the array so it has the shape (2,6) and print it."
   ]
  },
  {
   "cell_type": "code",
   "execution_count": 2,
   "id": "ddd29757-7974-4a25-a3ad-34fbe2910a62",
   "metadata": {
    "editable": true,
    "execution": {
     "iopub.execute_input": "2024-11-07T16:44:44.460969Z",
     "iopub.status.busy": "2024-11-07T16:44:44.460546Z",
     "iopub.status.idle": "2024-11-07T16:44:44.467996Z",
     "shell.execute_reply": "2024-11-07T16:44:44.467190Z"
    },
    "slideshow": {
     "slide_type": ""
    },
    "tags": [
     "clear_answer_cell"
    ]
   },
   "outputs": [
    {
     "data": {
      "text/plain": [
       "array([[5., 9., 1., 9., 3., 4.],\n",
       "       [8., 4., 5., 0., 7., 5.]])"
      ]
     },
     "execution_count": 2,
     "metadata": {},
     "output_type": "execute_result"
    }
   ],
   "source": [
    "b = a.reshape(2, 6)\n",
    "b"
   ]
  },
  {
   "cell_type": "markdown",
   "id": "78cd0758-225c-4b58-8e84-1e4e3872293f",
   "metadata": {},
   "source": [
    "Q3. Transpose the array and print it."
   ]
  },
  {
   "cell_type": "code",
   "execution_count": 3,
   "id": "ff5c18e1-ea8a-4d78-8b6c-38ac268fe6dc",
   "metadata": {
    "editable": true,
    "execution": {
     "iopub.execute_input": "2024-11-07T16:44:44.470550Z",
     "iopub.status.busy": "2024-11-07T16:44:44.470296Z",
     "iopub.status.idle": "2024-11-07T16:44:44.489171Z",
     "shell.execute_reply": "2024-11-07T16:44:44.487883Z"
    },
    "slideshow": {
     "slide_type": ""
    },
    "tags": [
     "clear_answer_cell"
    ]
   },
   "outputs": [
    {
     "data": {
      "text/plain": [
       "array([[5., 3., 5.],\n",
       "       [9., 4., 0.],\n",
       "       [1., 8., 7.],\n",
       "       [9., 4., 5.]])"
      ]
     },
     "execution_count": 3,
     "metadata": {},
     "output_type": "execute_result"
    }
   ],
   "source": [
    "c = a.T\n",
    "c"
   ]
  },
  {
   "cell_type": "markdown",
   "id": "bf99d355-263c-4448-9160-cb433c6297fd",
   "metadata": {},
   "source": [
    "Q4. Use the resize method to change the shape of the array to (6,2). Notice the difference between reshape and resize."
   ]
  },
  {
   "cell_type": "code",
   "execution_count": 4,
   "id": "65805c3d-bfef-4cd2-9a20-d123078f9672",
   "metadata": {
    "editable": true,
    "execution": {
     "iopub.execute_input": "2024-11-07T16:44:44.494484Z",
     "iopub.status.busy": "2024-11-07T16:44:44.494103Z",
     "iopub.status.idle": "2024-11-07T16:44:44.508456Z",
     "shell.execute_reply": "2024-11-07T16:44:44.507225Z"
    },
    "slideshow": {
     "slide_type": ""
    },
    "tags": [
     "clear_answer_cell"
    ]
   },
   "outputs": [
    {
     "data": {
      "text/plain": [
       "array([[5., 9.],\n",
       "       [1., 9.],\n",
       "       [3., 4.],\n",
       "       [8., 4.],\n",
       "       [5., 0.],\n",
       "       [7., 5.]])"
      ]
     },
     "execution_count": 4,
     "metadata": {},
     "output_type": "execute_result"
    }
   ],
   "source": [
    "# reshape returns the argument with a modified shape but resize modifies the array itself\n",
    "a.resize(6,2)\n",
    "a"
   ]
  },
  {
   "cell_type": "markdown",
   "id": "0254d87c-8cf2-42e9-9193-fb0a57b99f71",
   "metadata": {},
   "source": [
    "Q5. Reshape the array to a shape of (3, -1) and print the reshaped array. Note what `-1` does here."
   ]
  },
  {
   "cell_type": "code",
   "execution_count": 5,
   "id": "ecd467a6-738c-4b3a-b37a-5f7ded7bb544",
   "metadata": {
    "editable": true,
    "execution": {
     "iopub.execute_input": "2024-11-07T16:44:44.514020Z",
     "iopub.status.busy": "2024-11-07T16:44:44.513435Z",
     "iopub.status.idle": "2024-11-07T16:44:44.532472Z",
     "shell.execute_reply": "2024-11-07T16:44:44.530794Z"
    },
    "slideshow": {
     "slide_type": ""
    },
    "tags": [
     "clear_answer_cell"
    ]
   },
   "outputs": [
    {
     "data": {
      "text/plain": [
       "array([[5., 9., 1., 9.],\n",
       "       [3., 4., 8., 4.],\n",
       "       [5., 0., 7., 5.]])"
      ]
     },
     "execution_count": 5,
     "metadata": {},
     "output_type": "execute_result"
    }
   ],
   "source": [
    "d =a.reshape(3, -1)\n",
    "d"
   ]
  },
  {
   "cell_type": "markdown",
   "id": "e24b0985-7938-4d08-aa8a-ffe5b6741823",
   "metadata": {},
   "source": [
    "### Stacking"
   ]
  },
  {
   "cell_type": "markdown",
   "id": "9150a86b-b60c-4235-99f1-df8a72ea383d",
   "metadata": {},
   "source": [
    "Q6.\n",
    "- Write a function `stack_arrays` that takes two 2D arrays `a` and `b`, an axis argument and returns the arrays stacked along the specified axis. The function should handle the following cases:\n",
    "    - Vertical stacking (`axis=0`): Stack the arrays along rows\n",
    "    - Horizontal stacking (`axis=1`): Stack the arrays along columns\n",
    "    - Column stacking (`axis=column`): Stack 1D arrays as columns of a 2D array if both a and b are 1D, if they are 2D stack them horizontally\n",
    "    - If `axis` is set to any other value raise a `ValueError`\n",
    "- Once you're happy with your function, try the test cases in the solutions to check your working!"
   ]
  },
  {
   "cell_type": "code",
   "execution_count": 6,
   "id": "21527484-619e-47c0-a222-092ee88fb478",
   "metadata": {
    "editable": true,
    "execution": {
     "iopub.execute_input": "2024-11-07T16:44:44.538232Z",
     "iopub.status.busy": "2024-11-07T16:44:44.537362Z",
     "iopub.status.idle": "2024-11-07T16:44:44.559570Z",
     "shell.execute_reply": "2024-11-07T16:44:44.558050Z"
    },
    "slideshow": {
     "slide_type": ""
    },
    "tags": []
   },
   "outputs": [
    {
     "name": "stdout",
     "output_type": "stream",
     "text": [
      "Vertical stacking:\n",
      " [[9. 7.]\n",
      " [5. 2.]\n",
      " [1. 9.]\n",
      " [5. 1.]]\n",
      "\n",
      "Horizontal stacking:\n",
      " [[9. 7. 1. 9.]\n",
      " [5. 2. 5. 1.]]\n",
      "\n",
      "Column stacking (1D arrays):\n",
      " [[4. 3.]\n",
      " [2. 8.]]\n"
     ]
    }
   ],
   "source": [
    "import numpy as np\n",
    "\n",
    "def stack_arrays(a, b, axis):\n",
    "    if axis == 0:\n",
    "        return np.vstack((a, b))\n",
    "    elif axis == 1:\n",
    "        return np.hstack((a,b))\n",
    "    elif axis == 'column':\n",
    "        return np.column_stack((a,b))\n",
    "    else:\n",
    "        raise ValueError(\"Invalid axis specified. Use 0, 1 or 'column'.\")\n",
    "\n",
    "# Test cases\n",
    "a = np.array([[9,7], [5,2]])\n",
    "b = np.array([[1., 9.], [5., 1.]])\n",
    "c = np.array([4., 2.])\n",
    "d = np.array([3., 8.])\n",
    "\n",
    "# Vertical stacking\n",
    "print(\"Vertical stacking:\\n\", stack_arrays(a, b, axis=0))\n",
    "\n",
    "# Horizontal stacking\n",
    "print(\"\\nHorizontal stacking:\\n\", stack_arrays(a, b, axis=1))\n",
    "\n",
    "# Column stacking for 1D arrays\n",
    "print(\"\\nColumn stacking (1D arrays):\\n\", stack_arrays(c, d, axis='column'))"
   ]
  },
  {
   "cell_type": "markdown",
   "id": "54b6c868-dfc8-4113-bf8c-4ec92b72d6c4",
   "metadata": {},
   "source": [
    "### Splitting"
   ]
  },
  {
   "cell_type": "markdown",
   "id": "9150e1f6-639b-4bce-9777-c35e96e49de8",
   "metadata": {},
   "source": [
    "Q7.\n",
    "Given the following 2D array `b`:\n",
    "```\n",
    "rg = np.random.default_rng(42)\n",
    "b = np.floor(10 * rg.random((2, 10)))\n",
    "```\n",
    "- Split the array equally using `np.hsplit` into 5 parts along the horizontal axis. Assign the resulting sub-arrays to a variable named `equal_splits`\n",
    "- Split the array after the second and fifth columns using `np.hsplit`. Assign the resulting sub-arrays to a variable called `column_splits`."
   ]
  },
  {
   "cell_type": "code",
   "execution_count": 7,
   "id": "c7d0c083-8f9d-4431-a68e-a57ee23fa4ff",
   "metadata": {
    "editable": true,
    "execution": {
     "iopub.execute_input": "2024-11-07T16:44:44.565408Z",
     "iopub.status.busy": "2024-11-07T16:44:44.564948Z",
     "iopub.status.idle": "2024-11-07T16:44:44.582739Z",
     "shell.execute_reply": "2024-11-07T16:44:44.581210Z"
    },
    "slideshow": {
     "slide_type": ""
    },
    "tags": [
     "clear_answer_cell"
    ]
   },
   "outputs": [
    {
     "name": "stdout",
     "output_type": "stream",
     "text": [
      "Equal Splits: [array([[7., 4.],\n",
      "       [3., 9.]]), array([[8., 6.],\n",
      "       [6., 8.]]), array([[0., 9.],\n",
      "       [4., 2.]]), array([[7., 7.],\n",
      "       [5., 0.]]), array([[1., 4.],\n",
      "       [8., 6.]])]\n",
      "Column Splits: [array([[7., 4.],\n",
      "       [3., 9.]]), array([[8., 6., 0.],\n",
      "       [6., 8., 4.]]), array([[9., 7., 7., 1., 4.],\n",
      "       [2., 5., 0., 8., 6.]])]\n"
     ]
    }
   ],
   "source": [
    "rg = np.random.default_rng(42)\n",
    "b = np.floor(10 * rg.random((2, 10)))\n",
    "\n",
    "# Step 1: Split array b into 5 equal parts\n",
    "equal_splits = np.hsplit(b, 5)\n",
    "\n",
    "# Step 2: Split array after second and fifth columns\n",
    "column_splits = np.hsplit(b, (2, 5))\n",
    "\n",
    "# Print results\n",
    "print(\"Equal Splits:\", equal_splits)\n",
    "print(\"Column Splits:\", column_splits)"
   ]
  },
  {
   "cell_type": "markdown",
   "id": "f5c2d6e1-e758-459c-bd22-192651a96507",
   "metadata": {},
   "source": [
    "## 3. Copies and views"
   ]
  },
  {
   "cell_type": "markdown",
   "id": "dff98f88-d2e0-4b90-ba24-9752ffe36888",
   "metadata": {},
   "source": [
    "Q8. Let's demonstrate No Copy:\n",
    "- Write a function `test_no_copy()` that:\n",
    "    - Creates a `3x3` Numpy array `a`.\n",
    "    - Assigns `b=a` and checks if modifying `b` affects `a`.\n",
    "    - Returns `True` if `b` is a reference to `a` i.e. no copy is made, and `False` otherwise\n",
    "    - Hint: use `is` to verify if `a` and `b` are the same object."
   ]
  },
  {
   "cell_type": "code",
   "execution_count": 8,
   "id": "509b0f88-170f-49de-9e25-672bde58738e",
   "metadata": {
    "editable": true,
    "execution": {
     "iopub.execute_input": "2024-11-07T16:44:44.588398Z",
     "iopub.status.busy": "2024-11-07T16:44:44.587869Z",
     "iopub.status.idle": "2024-11-07T16:44:44.603287Z",
     "shell.execute_reply": "2024-11-07T16:44:44.602046Z"
    },
    "scrolled": true,
    "slideshow": {
     "slide_type": ""
    },
    "tags": []
   },
   "outputs": [
    {
     "name": "stdout",
     "output_type": "stream",
     "text": [
      "Testing no copy behavior: True\n"
     ]
    }
   ],
   "source": [
    "def test_no_copy():\n",
    "    a = np.array([[1, 2, 3], [4, 5, 6], [7, 8, 9]])\n",
    "    b = a\n",
    "    b[0, 0] = 999\n",
    "    return b is a  # Check if 'b' is a reference to 'a'\n",
    "\n",
    "print(\"Testing no copy behavior:\", test_no_copy())               # Expected: True"
   ]
  },
  {
   "cell_type": "markdown",
   "id": "c1094086-cb82-4541-b9a1-811773050bf8",
   "metadata": {},
   "source": [
    "Q9. Let's demonstrate Shallow Copy:\n",
    "- Write a function `test_shallow_copy()` that:\n",
    "    - Creates a `3x3` Numpy array `a`.\n",
    "    - Creates a shallow copy of `a` using `a.view()` and assigns it to `c`.\n",
    "    - Modifies an element in `c` and checks if the change is reflected in `a`\n",
    "    - Verifies that `a` and `c` are not the same object but share data\n",
    "    - Returns `True` if the modification in `c` also modifies `a` and `False` otherwise\n",
    "    - Hint: Use `is` to confirm `a` and `c` are different objects, and `c.base is a` to confirm shared data. "
   ]
  },
  {
   "cell_type": "code",
   "execution_count": 9,
   "id": "4788a3fb-9483-4417-9e6d-52a5cc15de64",
   "metadata": {
    "editable": true,
    "execution": {
     "iopub.execute_input": "2024-11-07T16:44:44.609160Z",
     "iopub.status.busy": "2024-11-07T16:44:44.608733Z",
     "iopub.status.idle": "2024-11-07T16:44:44.631397Z",
     "shell.execute_reply": "2024-11-07T16:44:44.629854Z"
    },
    "slideshow": {
     "slide_type": ""
    },
    "tags": [
     "clear_answer_cell"
    ]
   },
   "outputs": [
    {
     "name": "stdout",
     "output_type": "stream",
     "text": [
      "Testing shallow copy behavior: True\n"
     ]
    }
   ],
   "source": [
    "def test_shallow_copy():\n",
    "    a = np.array([[1, 2, 3], [4, 5, 6], [7, 8, 9]])\n",
    "    c = a.view()\n",
    "    c[0, 0] = 999\n",
    "    return c is not a and c.base is a  # Verify 'c' is a view of 'a'\n",
    "\n",
    "print(\"Testing shallow copy behavior:\", test_shallow_copy())     # Expected: True"
   ]
  },
  {
   "cell_type": "markdown",
   "id": "fd0dc68d-9a11-4f86-a4c9-c1e8fd10946c",
   "metadata": {},
   "source": [
    "Q10. Let's demonstrate Deep Copy: \n",
    "- Write a function `test_deep_copy()`that:\n",
    "    - Creates a `3x3` Numpy array `a`\n",
    "    - Creates a deep copy of `a` using `a.copy()` and assigns it to `d`\n",
    "    - Modifies an element in `d` and checks if the change is reflected in `a`\n",
    "    - Verifies that `a` and `d` do not share data\n",
    "    - Returns `True` if `a` and `d` do not share data and `False` if they do. "
   ]
  },
  {
   "cell_type": "code",
   "execution_count": 10,
   "id": "899f1587-f732-487a-a06c-b4f58d9d9af7",
   "metadata": {
    "editable": true,
    "execution": {
     "iopub.execute_input": "2024-11-07T16:44:44.637952Z",
     "iopub.status.busy": "2024-11-07T16:44:44.637302Z",
     "iopub.status.idle": "2024-11-07T16:44:44.657136Z",
     "shell.execute_reply": "2024-11-07T16:44:44.655518Z"
    },
    "slideshow": {
     "slide_type": ""
    },
    "tags": []
   },
   "outputs": [
    {
     "name": "stdout",
     "output_type": "stream",
     "text": [
      "Testing deep copy behavior: True\n"
     ]
    }
   ],
   "source": [
    "def test_deep_copy():\n",
    "    a = np.array([[1, 2, 3], [4, 5, 6], [7, 8, 9]])\n",
    "    d = a.copy()\n",
    "    d[0, 0] = 999\n",
    "    return d.base is None and np.any(a != d)  # Check if 'd' is a true deep copy\n",
    "\n",
    "print(\"Testing deep copy behavior:\", test_deep_copy())           # Expected: True"
   ]
  },
  {
   "cell_type": "markdown",
   "id": "d2493f55-f912-44bf-8ea2-90bb588d490a",
   "metadata": {
    "editable": true,
    "slideshow": {
     "slide_type": ""
    },
    "tags": []
   },
   "source": [
    "Q11. Let's demonstrate Memory Management: \n",
    "- Write a function `memory_management_example()` that:\n",
    "    - Creates a large array `a` of 10 million elements\n",
    "    - Creates a slice of `a` containing the first 10 elements and assigns it to `b`\n",
    "    - Deletes `a` and observes what happens to `b`\n",
    "    - Creates another slice of `a` containing the first 1- elements but it copies it deeply this time assigning it to `c`\n",
    "    - Deletes `a` and observes if `c` is still accessible\n",
    "    - Returns `True` if `b` cannot be accessed after deleting `a`, but `c` can and `False` otherwise\n",
    "    - Hint: use a try-except block to handle errors from accessing `b` after deleting `a`"
   ]
  },
  {
   "cell_type": "code",
   "execution_count": 11,
   "id": "91110ee3-d12d-41ba-8394-82b32f5f2e6f",
   "metadata": {
    "editable": true,
    "execution": {
     "iopub.execute_input": "2024-11-07T16:44:44.663498Z",
     "iopub.status.busy": "2024-11-07T16:44:44.662919Z",
     "iopub.status.idle": "2024-11-07T16:44:44.725925Z",
     "shell.execute_reply": "2024-11-07T16:44:44.724218Z"
    },
    "slideshow": {
     "slide_type": ""
    },
    "tags": [
     "clear_answer_cell"
    ]
   },
   "outputs": [
    {
     "name": "stdout",
     "output_type": "stream",
     "text": [
      "Testing memory management example: False\n"
     ]
    }
   ],
   "source": [
    "def memory_management_example():\n",
    "    a = np.arange(int(1e7))\n",
    "    b = a[:10]\n",
    "    del a\n",
    "    try:\n",
    "        b_sum = b.sum()  # Check if 'b' is accessible after deleting 'a'\n",
    "    except NameError:\n",
    "        b_accessible = False\n",
    "    else:\n",
    "        b_accessible = True\n",
    "\n",
    "    a = np.arange(int(1e7))  # Re-create 'a' for the next test\n",
    "    c = a[:10].copy()\n",
    "    del a\n",
    "    try:\n",
    "        c_sum = c.sum()  # Check if 'c' is accessible after deleting 'a'\n",
    "    except NameError:\n",
    "        c_accessible = False\n",
    "    else:\n",
    "        c_accessible = True\n",
    "\n",
    "    return not b_accessible and c_accessible\n",
    "\n",
    "print(\"Testing memory management example:\", memory_management_example())  # Expected: True"
   ]
  }
 ],
 "metadata": {
  "kernelspec": {
   "display_name": "Python 3 + Jaspy",
   "language": "python",
   "name": "jaspy"
  },
  "language_info": {
   "codemirror_mode": {
    "name": "ipython",
    "version": 3
   },
   "file_extension": ".py",
   "mimetype": "text/x-python",
   "name": "python",
   "nbconvert_exporter": "python",
   "pygments_lexer": "ipython3",
   "version": "3.11.9"
  }
 },
 "nbformat": 4,
 "nbformat_minor": 5
}
