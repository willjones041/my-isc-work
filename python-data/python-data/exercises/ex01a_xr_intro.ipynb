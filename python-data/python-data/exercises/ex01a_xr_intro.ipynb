{
 "cells": [
  {
   "cell_type": "markdown",
   "id": "2713343a-c0f0-4da3-979f-bb0d9f8a5e4a",
   "metadata": {
    "editable": true,
    "slideshow": {
     "slide_type": ""
    },
    "tags": []
   },
   "source": [
    "# Exercise 1a: Introduction to xarray\n"
   ]
  },
  {
   "cell_type": "markdown",
   "id": "bbe08d6c-c85d-4798-9343-b3e958cf39d4",
   "metadata": {},
   "source": [
    "## Aim: Learn about what xarray is and how to create and look at a `DataArray`."
   ]
  },
  {
   "cell_type": "markdown",
   "id": "c6bbe825-2d51-4e8a-bc9d-8ca75ba0d2c5",
   "metadata": {},
   "source": [
    "Find the teaching resources here: https://tutorial.xarray.dev/fundamentals/01_data_structures.html and https://tutorial.xarray.dev/fundamentals/01_datastructures.html."
   ]
  },
  {
   "cell_type": "markdown",
   "id": "f98aa85b-8e65-4894-9b61-13acdb9938dc",
   "metadata": {},
   "source": [
    "### Issues Covered:\n",
    "- Importing `xarray`\n",
    "- Loading a dataset using `xr.open_dataset()`\n",
    "- Creating a `DataArray`"
   ]
  },
  {
   "cell_type": "markdown",
   "id": "adb09498-99fc-4174-8661-4b29858975d3",
   "metadata": {},
   "source": [
    "## 1. Introduction to multidimensional arrays"
   ]
  },
  {
   "cell_type": "markdown",
   "id": "308be498-f527-4886-b5a8-474e43e7a1f9",
   "metadata": {},
   "source": [
    "- Unlabelled N dimensional arrays of numbers are the most widely used data structure in scientific computing\n",
    "- These arrays lack meaningful metadata so users must track indices in an arbitrary fashion"
   ]
  },
  {
   "cell_type": "markdown",
   "id": "3d4d8868-a7d4-4651-a07a-ec10104f34b2",
   "metadata": {},
   "source": [
    "<img src=\"../images/multidimensional_array.png\" width=\"800\"/>"
   ]
  },
  {
   "cell_type": "markdown",
   "id": "adabc378-941e-4520-a787-b02a563c6956",
   "metadata": {},
   "source": [
    "Q1. Can you think of any reasons why xarray might be preferred to pandas when working with multi-dimensional data like climate models?\n",
    "(Hint: how many dimensions does a pandas dataframe have?)"
   ]
  },
  {
   "cell_type": "code",
   "execution_count": 1,
   "id": "14157c3e-af21-444e-9e8d-5a78eeb9edad",
   "metadata": {
    "editable": true,
    "execution": {
     "iopub.execute_input": "2024-11-08T14:53:54.796581Z",
     "iopub.status.busy": "2024-11-08T14:53:54.796266Z",
     "iopub.status.idle": "2024-11-08T14:53:54.799454Z",
     "shell.execute_reply": "2024-11-08T14:53:54.798949Z"
    },
    "slideshow": {
     "slide_type": ""
    },
    "tags": [
     "clear_answer_cell"
    ]
   },
   "outputs": [],
   "source": []
  },
  {
   "cell_type": "markdown",
   "id": "4352c46a-c179-439e-b1fe-3953dc8ee41c",
   "metadata": {},
   "source": [
    "## 2. Opening and Exploring Datasets"
   ]
  },
  {
   "cell_type": "markdown",
   "id": "48d19019-2546-46d3-9da1-64d8e7c363e8",
   "metadata": {
    "editable": true,
    "slideshow": {
     "slide_type": ""
    },
    "tags": []
   },
   "source": [
    "Q2. Open the `'../data/xbhubo.pgc0apr.nc'` dataset and load it into an xarray `Dataset` called `ds`.\n",
    "(Hint: Don't forget to import any packages you need).\n",
    "This file is a model run for HadCM3 run as part of the RAPID study: https://catalogue.ceda.ac.uk/uuid/6bbab8394124b252f8b1b036f9eb6b6b/"
   ]
  },
  {
   "cell_type": "code",
   "execution_count": 2,
   "id": "397feb59-dd4a-42bf-bf95-f093d75d28b3",
   "metadata": {
    "editable": true,
    "execution": {
     "iopub.execute_input": "2024-11-08T14:53:54.801981Z",
     "iopub.status.busy": "2024-11-08T14:53:54.801656Z",
     "iopub.status.idle": "2024-11-08T14:54:03.266840Z",
     "shell.execute_reply": "2024-11-08T14:54:03.266140Z"
    },
    "slideshow": {
     "slide_type": ""
    },
    "tags": [
     "clear_answer_cell"
    ]
   },
   "outputs": [],
   "source": []
  },
  {
   "cell_type": "markdown",
   "id": "9c34363a-9168-4478-885a-7bd2ec669f3a",
   "metadata": {
    "editable": true,
    "slideshow": {
     "slide_type": ""
    },
    "tags": []
   },
   "source": [
    "Q3. Look at the parameters of the dataset."
   ]
  },
  {
   "cell_type": "code",
   "execution_count": 3,
   "id": "1257eab9-ded3-4e4b-b703-0b39236f5d23",
   "metadata": {
    "editable": true,
    "execution": {
     "iopub.execute_input": "2024-11-08T14:54:03.270257Z",
     "iopub.status.busy": "2024-11-08T14:54:03.269693Z",
     "iopub.status.idle": "2024-11-08T14:54:03.295793Z",
     "shell.execute_reply": "2024-11-08T14:54:03.295117Z"
    },
    "slideshow": {
     "slide_type": ""
    },
    "tags": [
     "clear_answer_cell"
    ]
   },
   "outputs": [],
   "source": []
  },
  {
   "cell_type": "markdown",
   "id": "3cee6429-dbf8-4a10-b384-ad9de719a0d0",
   "metadata": {
    "editable": true,
    "slideshow": {
     "slide_type": ""
    },
    "tags": []
   },
   "source": [
    "Q4. What are the dimensions and variables in this dataset? What does each represent? "
   ]
  },
  {
   "cell_type": "code",
   "execution_count": 4,
   "id": "67ff7eb4-4058-4041-beb7-66e294542887",
   "metadata": {
    "editable": true,
    "execution": {
     "iopub.execute_input": "2024-11-08T14:54:03.298211Z",
     "iopub.status.busy": "2024-11-08T14:54:03.297936Z",
     "iopub.status.idle": "2024-11-08T14:54:03.300747Z",
     "shell.execute_reply": "2024-11-08T14:54:03.300254Z"
    },
    "slideshow": {
     "slide_type": ""
    },
    "tags": [
     "clear_answer_cell"
    ]
   },
   "outputs": [],
   "source": []
  },
  {
   "cell_type": "markdown",
   "id": "81207a17-eeaf-4de3-a3f6-9a0fd782c252",
   "metadata": {
    "editable": true,
    "slideshow": {
     "slide_type": ""
    },
    "tags": []
   },
   "source": [
    "Q5. Find the name of the temperature data variable, and use it to extract a `DataArray` called `temperature`."
   ]
  },
  {
   "cell_type": "code",
   "execution_count": 5,
   "id": "3d0218b3-df73-4037-9fb9-eea80e1a70d2",
   "metadata": {
    "editable": true,
    "execution": {
     "iopub.execute_input": "2024-11-08T14:54:03.303199Z",
     "iopub.status.busy": "2024-11-08T14:54:03.302875Z",
     "iopub.status.idle": "2024-11-08T14:54:03.362497Z",
     "shell.execute_reply": "2024-11-08T14:54:03.361816Z"
    },
    "slideshow": {
     "slide_type": ""
    },
    "tags": [
     "clear_answer_cell"
    ]
   },
   "outputs": [],
   "source": []
  },
  {
   "cell_type": "markdown",
   "id": "6ee4a984-305e-44da-87ab-75cf88d71f22",
   "metadata": {
    "editable": true,
    "slideshow": {
     "slide_type": ""
    },
    "tags": []
   },
   "source": [
    "Q6. Take a look at the `temperature` data array and inspect its dimensions, coordinates and attributes. What are the specific dimensions and coordinates associated with it? What metadata (attributes) is provided?"
   ]
  },
  {
   "cell_type": "code",
   "execution_count": 6,
   "id": "cc8a03b5-d7ce-406b-9602-47a153d2d7ec",
   "metadata": {
    "editable": true,
    "execution": {
     "iopub.execute_input": "2024-11-08T14:54:03.365566Z",
     "iopub.status.busy": "2024-11-08T14:54:03.365299Z",
     "iopub.status.idle": "2024-11-08T14:54:03.393288Z",
     "shell.execute_reply": "2024-11-08T14:54:03.392731Z"
    },
    "slideshow": {
     "slide_type": ""
    },
    "tags": [
     "clear_answer_cell"
    ]
   },
   "outputs": [],
   "source": []
  },
  {
   "cell_type": "markdown",
   "id": "e36ca3a3-8387-480a-8dfe-161bc6292681",
   "metadata": {},
   "source": [
    "Q7. Find out what dimensions and coordinates exist in your dataset. Which latitude and longitude variables are associated with the ocean temperature variable?"
   ]
  },
  {
   "cell_type": "code",
   "execution_count": 7,
   "id": "32775beb-ec9b-4cc2-a8bb-ca59f8cf6bad",
   "metadata": {
    "editable": true,
    "execution": {
     "iopub.execute_input": "2024-11-08T14:54:03.396388Z",
     "iopub.status.busy": "2024-11-08T14:54:03.395886Z",
     "iopub.status.idle": "2024-11-08T14:54:03.403873Z",
     "shell.execute_reply": "2024-11-08T14:54:03.403369Z"
    },
    "slideshow": {
     "slide_type": ""
    },
    "tags": [
     "clear_answer_cell"
    ]
   },
   "outputs": [],
   "source": []
  }
 ],
 "metadata": {
  "kernelspec": {
   "display_name": "Python 3 + Jaspy",
   "language": "python",
   "name": "jaspy"
  },
  "language_info": {
   "codemirror_mode": {
    "name": "ipython",
    "version": 3
   },
   "file_extension": ".py",
   "mimetype": "text/x-python",
   "name": "python",
   "nbconvert_exporter": "python",
   "pygments_lexer": "ipython3",
   "version": "3.11.9"
  }
 },
 "nbformat": 4,
 "nbformat_minor": 5
}
