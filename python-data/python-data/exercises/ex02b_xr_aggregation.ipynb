{
 "cells": [
  {
   "cell_type": "markdown",
   "id": "0794ae77-cf09-45ba-8b05-ad591cee6b4d",
   "metadata": {
    "editable": true,
    "slideshow": {
     "slide_type": ""
    },
    "tags": []
   },
   "source": [
    "# Exercise 2b: Arithmetic and Aggregation"
   ]
  },
  {
   "cell_type": "markdown",
   "id": "7e654d07-1447-4684-9a69-0e0f7df8e54d",
   "metadata": {},
   "source": [
    "## Aim: Learn to do computation with xarray"
   ]
  },
  {
   "cell_type": "markdown",
   "id": "870b0f69-7bfd-4ca1-b1f9-876ad665f3cb",
   "metadata": {},
   "source": [
    "Find the teaching materials here: https://tutorial.xarray.dev/fundamentals/03.1_computation_with_xarray.html"
   ]
  },
  {
   "cell_type": "markdown",
   "id": "3d8da800-9ba2-440b-b13b-30caf7027300",
   "metadata": {},
   "source": [
    "### Issues covered: \n",
    "- Doing arithmetic on data arrays\n",
    "- Using `.mean()`, `.std()`, `.max()` and `.min()`"
   ]
  },
  {
   "cell_type": "markdown",
   "id": "dc51608d-76da-4c7b-be20-089df1a52f9b",
   "metadata": {
    "editable": true,
    "slideshow": {
     "slide_type": ""
    },
    "tags": []
   },
   "source": [
    "Q1. Import the `'../data/xbhubo.pgc0apr.nc'` dataset and create the temperature data array as in the last lesson."
   ]
  },
  {
   "cell_type": "code",
   "execution_count": 1,
   "id": "371d4e04-d765-4c34-b75c-b235a1165d6a",
   "metadata": {
    "editable": true,
    "execution": {
     "iopub.execute_input": "2024-11-08T14:54:53.364943Z",
     "iopub.status.busy": "2024-11-08T14:54:53.364387Z",
     "iopub.status.idle": "2024-11-08T14:55:01.739075Z",
     "shell.execute_reply": "2024-11-08T14:55:01.738157Z"
    },
    "slideshow": {
     "slide_type": ""
    },
    "tags": [
     "clear_answer_cell"
    ]
   },
   "outputs": [],
   "source": []
  },
  {
   "cell_type": "markdown",
   "id": "dbc7c274-51f9-40e8-9cf8-4d4f5e25707c",
   "metadata": {
    "editable": true,
    "slideshow": {
     "slide_type": ""
    },
    "tags": []
   },
   "source": [
    "Q2. Let's compare the data between the sea surface and further down. Create two temperature datasets and extract the temperature change data the sea surface and the sea bottom"
   ]
  },
  {
   "cell_type": "code",
   "execution_count": 2,
   "id": "37a7a666-942a-446e-ae54-6aab318dc084",
   "metadata": {
    "editable": true,
    "execution": {
     "iopub.execute_input": "2024-11-08T14:55:01.743464Z",
     "iopub.status.busy": "2024-11-08T14:55:01.742652Z",
     "iopub.status.idle": "2024-11-08T14:55:01.754012Z",
     "shell.execute_reply": "2024-11-08T14:55:01.752769Z"
    },
    "slideshow": {
     "slide_type": ""
    },
    "tags": [
     "clear_answer_cell"
    ]
   },
   "outputs": [],
   "source": []
  },
  {
   "cell_type": "markdown",
   "id": "87224117-8b77-4a8a-ac4d-5c7749d263ad",
   "metadata": {
    "editable": true,
    "slideshow": {
     "slide_type": ""
    },
    "tags": []
   },
   "source": [
    "Q3. Calculate the difference in temperature the bottom of the ocean and the surface."
   ]
  },
  {
   "cell_type": "code",
   "execution_count": null,
   "id": "143821a5-c18c-4cd0-8ba6-18015a82c396",
   "metadata": {
    "editable": true,
    "slideshow": {
     "slide_type": ""
    },
    "tags": []
   },
   "outputs": [],
   "source": []
  },
  {
   "cell_type": "markdown",
   "id": "6726f384-403d-4614-a15b-4431ca62dd5c",
   "metadata": {
    "editable": true,
    "slideshow": {
     "slide_type": ""
    },
    "tags": []
   },
   "source": [
    "Q4. Plot the difference in these temperatures using xarrays built-in features."
   ]
  },
  {
   "cell_type": "code",
   "execution_count": null,
   "id": "a4f06f85-2c15-47da-abcb-87cbfe19e852",
   "metadata": {
    "editable": true,
    "slideshow": {
     "slide_type": ""
    },
    "tags": []
   },
   "outputs": [],
   "source": []
  },
  {
   "cell_type": "markdown",
   "id": "02e22bb4-7c61-4b00-996f-cf03f3aff595",
   "metadata": {
    "editable": true,
    "slideshow": {
     "slide_type": ""
    },
    "tags": []
   },
   "source": [
    "Q5. Calculate the **minimum** temperature across the water depth in all locations."
   ]
  },
  {
   "cell_type": "code",
   "execution_count": null,
   "id": "24988c19-820d-426a-87f9-fa350f9c1d10",
   "metadata": {
    "editable": true,
    "slideshow": {
     "slide_type": ""
    },
    "tags": []
   },
   "outputs": [],
   "source": []
  },
  {
   "cell_type": "markdown",
   "id": "5cc23d19-2f5d-4dd9-9db0-807c47d83cc5",
   "metadata": {
    "editable": true,
    "slideshow": {
     "slide_type": ""
    },
    "tags": []
   },
   "source": [
    "Q6. Compute the global average ocean temperature change (averaged over all depths) for the entire time period in the dataset. Then display the result as a 2D depth profile."
   ]
  },
  {
   "cell_type": "code",
   "execution_count": null,
   "id": "cf55c6cf-295d-4a02-956b-609a89815105",
   "metadata": {
    "editable": true,
    "slideshow": {
     "slide_type": ""
    },
    "tags": []
   },
   "outputs": [],
   "source": []
  },
  {
   "cell_type": "markdown",
   "id": "74ecf24e-9293-4c0b-98c6-6fc4805025f5",
   "metadata": {
    "editable": true,
    "slideshow": {
     "slide_type": ""
    },
    "tags": []
   },
   "source": [
    "Q7. Calculate the zonal average temperature change for each latitude. Plot the result as a 2d contour with depth on the y axis and latitude on x."
   ]
  },
  {
   "cell_type": "code",
   "execution_count": null,
   "id": "e5044676-8cb0-46e7-a880-b9033f6ff53c",
   "metadata": {
    "editable": true,
    "slideshow": {
     "slide_type": ""
    },
    "tags": []
   },
   "outputs": [],
   "source": []
  }
 ],
 "metadata": {
  "kernelspec": {
   "display_name": "Python 3 + Jaspy",
   "language": "python",
   "name": "jaspy"
  },
  "language_info": {
   "codemirror_mode": {
    "name": "ipython",
    "version": 3
   },
   "file_extension": ".py",
   "mimetype": "text/x-python",
   "name": "python",
   "nbconvert_exporter": "python",
   "pygments_lexer": "ipython3",
   "version": "3.11.9"
  }
 },
 "nbformat": 4,
 "nbformat_minor": 5
}
