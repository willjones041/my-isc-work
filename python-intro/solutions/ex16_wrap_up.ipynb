{
 "cells": [
  {
   "cell_type": "markdown",
   "id": "a0425cb0-04c1-470a-8dc1-c984f130b7cf",
   "metadata": {
    "editable": true,
    "slideshow": {
     "slide_type": ""
    },
    "tags": []
   },
   "source": [
    "# Exercise 16: Wrap Up"
   ]
  },
  {
   "cell_type": "markdown",
   "id": "2c9f4cb2-cbdc-45be-804b-94b9443d2903",
   "metadata": {},
   "source": [
    "## Let's recap everything we've learnt\n",
    "### 1. Running Notebooks\n",
    "### 2. Variables and Assignment\n",
    "  - Creating variables\n",
    "  - Simple arithmetic with variables\n",
    "  - Using `print` to display variables\n",
    "  - Looking at strings\n",
    "### 3. Data Types\n",
    "  - Learning about types\n",
    "  - More about strings\n",
    "  - Operating on different types\n",
    "  - Converting variable types\n",
    "### 4. Built-in Functions\n",
    "  - Examples\n",
    "  - Using some built-in functions\n",
    "  - Using methods of built-in functions\n",
    "  - Getting help\n",
    "### 5. Coffee :)\n",
    "### 6. Libraries\n",
    "  - Using the `math` library\n",
    "  - Using `help`\n",
    "  - How to `import` from libraries\n",
    "### 7. DataFrames\n",
    "  - Importing `pandas` library\n",
    "  - Using `pandas` to load CSV datasets\n",
    "  - Get information about DataFrames\n",
    "### 8. Pandas DataFrames\n",
    "  - Using `loc` and `iloc` to locate data in a dataframe\n",
    "  - Slicing dataframes\n",
    "  - Creating subsets and masks\n",
    "### 9. Plotting\n",
    "  - Import `pyplot` from `matplotlib`\n",
    "  - Create basic time-series plots\n",
    "  - Create plots from `pandas` dataframes\n",
    "  - Plot multiple series\n",
    "  - Scatter and bar graphs\n",
    "### 10. Lunch :)\n",
    "### 11. Lists\n",
    "  - Creating a list\n",
    "  - Indexing and slicing lists\n",
    "  - Using methods on lists\n",
    "### 12. For Loops\n",
    "  - Looking at basic `for` loops\n",
    "  - Creating `for` loops\n",
    "  - Using `for` loops to loop through strings\n",
    "### 13. Conditionals\n",
    "  - Looking at `if` `else` blocks\n",
    "  - Looking at `if` `elif` blocks\n",
    "### 14. Looping Datasets\n",
    "  - Using `for` loops to loop over files\n",
    "  - Using `glob` to match patterns of files\n",
    "  - Looping over files with `glob`\n",
    "  - Using `for` and `glob` to process files\n",
    "### 15. Coffee :)\n",
    "### 16. Writing Functions\n",
    "  - Write simple functions\n",
    "  - Sending arguments to functions\n",
    "  - Calling functions \n",
    "  - Checking arguments in functions\n",
    "### 17. Variable Scope\n",
    "  - Learn the difference between local and global variables\n",
    "  - Define variables in the right scope\n",
    "  - Locate errors using traceback\n",
    "### 18. Programming Style\n",
    "  - Adding comments\n",
    "  - Using sensible variable names\n",
    "  - Using correct formatting e.g. indentation\n",
    "  - Using assertion errors\n",
    "  - Using docstrings and multiline strings"
   ]
  }
 ],
 "metadata": {
  "kernelspec": {
   "display_name": "Python 3 + Jaspy",
   "language": "python",
   "name": "jaspy"
  },
  "language_info": {
   "codemirror_mode": {
    "name": "ipython",
    "version": 3
   },
   "file_extension": ".py",
   "mimetype": "text/x-python",
   "name": "python",
   "nbconvert_exporter": "python",
   "pygments_lexer": "ipython3",
   "version": "3.10.5"
  }
 },
 "nbformat": 4,
 "nbformat_minor": 5
}
