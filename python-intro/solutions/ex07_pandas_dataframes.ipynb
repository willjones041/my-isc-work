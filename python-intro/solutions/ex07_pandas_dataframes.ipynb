{
 "cells": [
  {
   "cell_type": "markdown",
   "id": "32b13a1c-f1dd-455c-841a-ee51f2921d0a",
   "metadata": {
    "editable": true,
    "slideshow": {
     "slide_type": ""
    },
    "tags": []
   },
   "source": [
    "# Exercise 7: More About Pandas DataFrames"
   ]
  },
  {
   "cell_type": "markdown",
   "id": "797afb91-5e95-4bc7-b766-5264341acc8d",
   "metadata": {},
   "source": [
    "## Aim: Learn how to select certain data from a `Pandas` DataFrame."
   ]
  },
  {
   "cell_type": "markdown",
   "id": "8d617a75-0aed-42a5-b48a-5859a06aa5e2",
   "metadata": {},
   "source": [
    "### Issues covered:\n",
    "- Using `loc` and `iloc` to locate data in a dataframe\n",
    "- Slicing dataframes\n",
    "- Creating subsets and masks"
   ]
  },
  {
   "cell_type": "markdown",
   "id": "79d3722b-6d3e-4c81-85b1-367e09372551",
   "metadata": {},
   "source": [
    "## 1. Using `loc` and `iloc`"
   ]
  },
  {
   "cell_type": "markdown",
   "id": "2ffdcbe9-f516-4bd4-8022-f26c7a11dbfb",
   "metadata": {},
   "source": [
    "Create a dataframe called `data` from the CSV file `data/europe_gdp.csv` and index it by the `country` column."
   ]
  },
  {
   "cell_type": "code",
   "execution_count": 1,
   "id": "8bc94c29-5257-4c6c-b7e4-0d4c0857be5b",
   "metadata": {
    "editable": true,
    "execution": {
     "iopub.execute_input": "2023-10-23T10:35:21.194173Z",
     "iopub.status.busy": "2023-10-23T10:35:21.193364Z",
     "iopub.status.idle": "2023-10-23T10:35:21.669964Z",
     "shell.execute_reply": "2023-10-23T10:35:21.668707Z"
    },
    "slideshow": {
     "slide_type": ""
    },
    "tags": [
     "clear_answer_cell"
    ]
   },
   "outputs": [
    {
     "name": "stdout",
     "output_type": "stream",
     "text": [
      "                        gdpPercap_1952  gdpPercap_1957  gdpPercap_1962  \\\n",
      "country                                                                  \n",
      "Albania                    1601.056136     1942.284244     2312.888958   \n",
      "Austria                    6137.076492     8842.598030    10750.721110   \n",
      "Belgium                    8343.105127     9714.960623    10991.206760   \n",
      "Bosnia and Herzegovina      973.533195     1353.989176     1709.683679   \n",
      "Bulgaria                   2444.286648     3008.670727     4254.337839   \n",
      "Croatia                    3119.236520     4338.231617     5477.890018   \n",
      "Czech Republic             6876.140250     8256.343918    10136.867130   \n",
      "Denmark                    9692.385245    11099.659350    13583.313510   \n",
      "Finland                    6424.519071     7545.415386     9371.842561   \n",
      "France                     7029.809327     8662.834898    10560.485530   \n",
      "Germany                    7144.114393    10187.826650    12902.462910   \n",
      "Greece                     3530.690067     4916.299889     6017.190733   \n",
      "Hungary                    5263.673816     6040.180011     7550.359877   \n",
      "Iceland                    7267.688428     9244.001412    10350.159060   \n",
      "Ireland                    5210.280328     5599.077872     6631.597314   \n",
      "Italy                      4931.404155     6248.656232     8243.582340   \n",
      "Montenegro                 2647.585601     3682.259903     4649.593785   \n",
      "Netherlands                8941.571858    11276.193440    12790.849560   \n",
      "Norway                    10095.421720    11653.973040    13450.401510   \n",
      "Poland                     4029.329699     4734.253019     5338.752143   \n",
      "Portugal                   3068.319867     3774.571743     4727.954889   \n",
      "Romania                    3144.613186     3943.370225     4734.997586   \n",
      "Serbia                     3581.459448     4981.090891     6289.629157   \n",
      "Slovak Republic            5074.659104     6093.262980     7481.107598   \n",
      "Slovenia                   4215.041741     5862.276629     7402.303395   \n",
      "Spain                      3834.034742     4564.802410     5693.843879   \n",
      "Sweden                     8527.844662     9911.878226    12329.441920   \n",
      "Switzerland               14734.232750    17909.489730    20431.092700   \n",
      "Turkey                     1969.100980     2218.754257     2322.869908   \n",
      "United Kingdom             9979.508487    11283.177950    12477.177070   \n",
      "\n",
      "                        gdpPercap_1967  gdpPercap_1972  gdpPercap_1977  \\\n",
      "country                                                                  \n",
      "Albania                    2760.196931     3313.422188     3533.003910   \n",
      "Austria                   12834.602400    16661.625600    19749.422300   \n",
      "Belgium                   13149.041190    16672.143560    19117.974480   \n",
      "Bosnia and Herzegovina     2172.352423     2860.169750     3528.481305   \n",
      "Bulgaria                   5577.002800     6597.494398     7612.240438   \n",
      "Croatia                    6960.297861     9164.090127    11305.385170   \n",
      "Czech Republic            11399.444890    13108.453600    14800.160620   \n",
      "Denmark                   15937.211230    18866.207210    20422.901500   \n",
      "Finland                   10921.636260    14358.875900    15605.422830   \n",
      "France                    12999.917660    16107.191710    18292.635140   \n",
      "Germany                   14745.625610    18016.180270    20512.921230   \n",
      "Greece                     8513.097016    12724.829570    14195.524280   \n",
      "Hungary                    9326.644670    10168.656110    11674.837370   \n",
      "Iceland                   13319.895680    15798.063620    19654.962470   \n",
      "Ireland                    7655.568963     9530.772896    11150.981130   \n",
      "Italy                     10022.401310    12269.273780    14255.984750   \n",
      "Montenegro                 5907.850937     7778.414017     9595.929905   \n",
      "Netherlands               15363.251360    18794.745670    21209.059200   \n",
      "Norway                    16361.876470    18965.055510    23311.349390   \n",
      "Poland                     6557.152776     8006.506993     9508.141454   \n",
      "Portugal                   6361.517993     9022.247417    10172.485720   \n",
      "Romania                    6470.866545     8011.414402     9356.397240   \n",
      "Serbia                     7991.707066    10522.067490    12980.669560   \n",
      "Slovak Republic            8412.902397     9674.167626    10922.664040   \n",
      "Slovenia                   9405.489397    12383.486200    15277.030170   \n",
      "Spain                      7993.512294    10638.751310    13236.921170   \n",
      "Sweden                    15258.296970    17832.024640    18855.725210   \n",
      "Switzerland               22966.144320    27195.113040    26982.290520   \n",
      "Turkey                     2826.356387     3450.696380     4269.122326   \n",
      "United Kingdom            14142.850890    15895.116410    17428.748460   \n",
      "\n",
      "                        gdpPercap_1982  gdpPercap_1987  gdpPercap_1992  \\\n",
      "country                                                                  \n",
      "Albania                    3630.880722     3738.932735     2497.437901   \n",
      "Austria                   21597.083620    23687.826070    27042.018680   \n",
      "Belgium                   20979.845890    22525.563080    25575.570690   \n",
      "Bosnia and Herzegovina     4126.613157     4314.114757     2546.781445   \n",
      "Bulgaria                   8224.191647     8239.854824     6302.623438   \n",
      "Croatia                   13221.821840    13822.583940     8447.794873   \n",
      "Czech Republic            15377.228550    16310.443400    14297.021220   \n",
      "Denmark                   21688.040480    25116.175810    26406.739850   \n",
      "Finland                   18533.157610    21141.012230    20647.164990   \n",
      "France                    20293.897460    22066.442140    24703.796150   \n",
      "Germany                   22031.532740    24639.185660    26505.303170   \n",
      "Greece                    15268.420890    16120.528390    17541.496340   \n",
      "Hungary                   12545.990660    12986.479980    10535.628550   \n",
      "Iceland                   23269.607500    26923.206280    25144.392010   \n",
      "Ireland                   12618.321410    13872.866520    17558.815550   \n",
      "Italy                     16537.483500    19207.234820    22013.644860   \n",
      "Montenegro                11222.587620    11732.510170     7003.339037   \n",
      "Netherlands               21399.460460    23651.323610    26790.949610   \n",
      "Norway                    26298.635310    31540.974800    33965.661150   \n",
      "Poland                     8451.531004     9082.351172     7738.881247   \n",
      "Portugal                  11753.842910    13039.308760    16207.266630   \n",
      "Romania                    9605.314053     9696.273295     6598.409903   \n",
      "Serbia                    15181.092700    15870.878510     9325.068238   \n",
      "Slovak Republic           11348.545850    12037.267580     9498.467723   \n",
      "Slovenia                  17866.721750    18678.534920    14214.716810   \n",
      "Spain                     13926.169970    15764.983130    18603.064520   \n",
      "Sweden                    20667.381250    23586.929270    23880.016830   \n",
      "Switzerland               28397.715120    30281.704590    31871.530300   \n",
      "Turkey                     4241.356344     5089.043686     5678.348271   \n",
      "United Kingdom            18232.424520    21664.787670    22705.092540   \n",
      "\n",
      "                        gdpPercap_1997  gdpPercap_2002  gdpPercap_2007  \n",
      "country                                                                 \n",
      "Albania                    3193.054604     4604.211737     5937.029526  \n",
      "Austria                   29095.920660    32417.607690    36126.492700  \n",
      "Belgium                   27561.196630    30485.883750    33692.605080  \n",
      "Bosnia and Herzegovina     4766.355904     6018.975239     7446.298803  \n",
      "Bulgaria                   5970.388760     7696.777725    10680.792820  \n",
      "Croatia                    9875.604515    11628.388950    14619.222720  \n",
      "Czech Republic            16048.514240    17596.210220    22833.308510  \n",
      "Denmark                   29804.345670    32166.500060    35278.418740  \n",
      "Finland                   23723.950200    28204.590570    33207.084400  \n",
      "France                    25889.784870    28926.032340    30470.016700  \n",
      "Germany                   27788.884160    30035.801980    32170.374420  \n",
      "Greece                    18747.698140    22514.254800    27538.411880  \n",
      "Hungary                   11712.776800    14843.935560    18008.944440  \n",
      "Iceland                   28061.099660    31163.201960    36180.789190  \n",
      "Ireland                   24521.947130    34077.049390    40675.996350  \n",
      "Italy                     24675.024460    27968.098170    28569.719700  \n",
      "Montenegro                 6465.613349     6557.194282     9253.896111  \n",
      "Netherlands               30246.130630    33724.757780    36797.933320  \n",
      "Norway                    41283.164330    44683.975250    49357.190170  \n",
      "Poland                    10159.583680    12002.239080    15389.924680  \n",
      "Portugal                  17641.031560    19970.907870    20509.647770  \n",
      "Romania                    7346.547557     7885.360081    10808.475610  \n",
      "Serbia                     7914.320304     7236.075251     9786.534714  \n",
      "Slovak Republic           12126.230650    13638.778370    18678.314350  \n",
      "Slovenia                  17161.107350    20660.019360    25768.257590  \n",
      "Spain                     20445.298960    24835.471660    28821.063700  \n",
      "Sweden                    25266.594990    29341.630930    33859.748350  \n",
      "Switzerland               32135.323010    34480.957710    37506.419070  \n",
      "Turkey                     6601.429915     6508.085718     8458.276384  \n",
      "United Kingdom            26074.531360    29478.999190    33203.261280  \n"
     ]
    }
   ],
   "source": [
    "import pandas as pd\n",
    "data = pd.read_csv('../data/europe_gdp.csv', index_col='country')\n",
    "print(data)"
   ]
  },
  {
   "cell_type": "markdown",
   "id": "4484598d-c091-4af8-b04e-ac6b6583cee8",
   "metadata": {},
   "source": [
    "Print out the GDP per capita for Belgium in 1957 (2nd column, 3rd row) using `iloc`."
   ]
  },
  {
   "cell_type": "markdown",
   "id": "58f9ebf2-2d9e-43ba-9411-072e4385bc5a",
   "metadata": {},
   "source": [
    "_Hint: Remember that indexing starts from 0 in Python. You should get the value `9714.960623`._"
   ]
  },
  {
   "cell_type": "code",
   "execution_count": 2,
   "id": "8ea44ab4-2cd7-4dc8-b223-74e3809175d8",
   "metadata": {
    "editable": true,
    "execution": {
     "iopub.execute_input": "2023-10-23T10:35:21.676193Z",
     "iopub.status.busy": "2023-10-23T10:35:21.675755Z",
     "iopub.status.idle": "2023-10-23T10:35:21.682534Z",
     "shell.execute_reply": "2023-10-23T10:35:21.681065Z"
    },
    "slideshow": {
     "slide_type": ""
    },
    "tags": [
     "clear_answer_cell"
    ]
   },
   "outputs": [
    {
     "name": "stdout",
     "output_type": "stream",
     "text": [
      "9714.960623\n"
     ]
    }
   ],
   "source": [
    "print(data.iloc[2,1])"
   ]
  },
  {
   "cell_type": "markdown",
   "id": "1349050b-7b24-4b9c-8001-efe7ded1b873",
   "metadata": {},
   "source": [
    "Use `loc` to print out GDP per capita for Belgium in 1957. You should get the same result as above."
   ]
  },
  {
   "cell_type": "code",
   "execution_count": 3,
   "id": "9a4e29b2-2be5-49c0-9be6-7ff154fc4797",
   "metadata": {
    "editable": true,
    "execution": {
     "iopub.execute_input": "2023-10-23T10:35:21.688840Z",
     "iopub.status.busy": "2023-10-23T10:35:21.688168Z",
     "iopub.status.idle": "2023-10-23T10:35:21.696941Z",
     "shell.execute_reply": "2023-10-23T10:35:21.695253Z"
    },
    "slideshow": {
     "slide_type": ""
    },
    "tags": [
     "clear_answer_cell"
    ]
   },
   "outputs": [
    {
     "name": "stdout",
     "output_type": "stream",
     "text": [
      "9714.960623\n"
     ]
    }
   ],
   "source": [
    "print(data.loc[\"Belgium\", \"gdpPercap_1957\"])"
   ]
  },
  {
   "cell_type": "markdown",
   "id": "967768f6-30b7-40f4-b15f-c6196e3fb462",
   "metadata": {},
   "source": [
    "Print GDP per capita for `Switzerland` for all years using `:`."
   ]
  },
  {
   "cell_type": "code",
   "execution_count": 4,
   "id": "a02c5488-2dda-4c6d-ae72-5894aba452c5",
   "metadata": {
    "editable": true,
    "execution": {
     "iopub.execute_input": "2023-10-23T10:35:21.701122Z",
     "iopub.status.busy": "2023-10-23T10:35:21.700752Z",
     "iopub.status.idle": "2023-10-23T10:35:21.709888Z",
     "shell.execute_reply": "2023-10-23T10:35:21.708314Z"
    },
    "slideshow": {
     "slide_type": ""
    },
    "tags": [
     "clear_answer_cell"
    ]
   },
   "outputs": [
    {
     "name": "stdout",
     "output_type": "stream",
     "text": [
      "gdpPercap_1952    14734.23275\n",
      "gdpPercap_1957    17909.48973\n",
      "gdpPercap_1962    20431.09270\n",
      "gdpPercap_1967    22966.14432\n",
      "gdpPercap_1972    27195.11304\n",
      "gdpPercap_1977    26982.29052\n",
      "gdpPercap_1982    28397.71512\n",
      "gdpPercap_1987    30281.70459\n",
      "gdpPercap_1992    31871.53030\n",
      "gdpPercap_1997    32135.32301\n",
      "gdpPercap_2002    34480.95771\n",
      "gdpPercap_2007    37506.41907\n",
      "Name: Switzerland, dtype: float64\n"
     ]
    }
   ],
   "source": [
    "# Could also omit the : and do print(data.loc[\"Switzerland\"])\n",
    "print(data.loc[\"Switzerland\", :])"
   ]
  },
  {
   "cell_type": "markdown",
   "id": "2297bf59-1726-40c1-a97f-9ec8818cbe7e",
   "metadata": {},
   "source": [
    "Print out GDP per capita in 1987 for all countries."
   ]
  },
  {
   "cell_type": "code",
   "execution_count": 5,
   "id": "f05af7ea-16f1-4d04-94b3-f093d424d4be",
   "metadata": {
    "editable": true,
    "execution": {
     "iopub.execute_input": "2023-10-23T10:35:21.713661Z",
     "iopub.status.busy": "2023-10-23T10:35:21.713228Z",
     "iopub.status.idle": "2023-10-23T10:35:21.720775Z",
     "shell.execute_reply": "2023-10-23T10:35:21.719952Z"
    },
    "slideshow": {
     "slide_type": ""
    },
    "tags": [
     "clear_answer_cell"
    ]
   },
   "outputs": [
    {
     "name": "stdout",
     "output_type": "stream",
     "text": [
      "country\n",
      "Albania                    3738.932735\n",
      "Austria                   23687.826070\n",
      "Belgium                   22525.563080\n",
      "Bosnia and Herzegovina     4314.114757\n",
      "Bulgaria                   8239.854824\n",
      "Croatia                   13822.583940\n",
      "Czech Republic            16310.443400\n",
      "Denmark                   25116.175810\n",
      "Finland                   21141.012230\n",
      "France                    22066.442140\n",
      "Germany                   24639.185660\n",
      "Greece                    16120.528390\n",
      "Hungary                   12986.479980\n",
      "Iceland                   26923.206280\n",
      "Ireland                   13872.866520\n",
      "Italy                     19207.234820\n",
      "Montenegro                11732.510170\n",
      "Netherlands               23651.323610\n",
      "Norway                    31540.974800\n",
      "Poland                     9082.351172\n",
      "Portugal                  13039.308760\n",
      "Romania                    9696.273295\n",
      "Serbia                    15870.878510\n",
      "Slovak Republic           12037.267580\n",
      "Slovenia                  18678.534920\n",
      "Spain                     15764.983130\n",
      "Sweden                    23586.929270\n",
      "Switzerland               30281.704590\n",
      "Turkey                     5089.043686\n",
      "United Kingdom            21664.787670\n",
      "Name: gdpPercap_1987, dtype: float64\n"
     ]
    }
   ],
   "source": [
    "print(data.loc[:, \"gdpPercap_1987\"])"
   ]
  },
  {
   "cell_type": "markdown",
   "id": "7433bb77-8c7a-431a-8ad6-8c513dc6a1e9",
   "metadata": {},
   "source": [
    "Print out a slice of the data frame which shows GDP for countries between Denmark to Iceland from 1982 to 1992. "
   ]
  },
  {
   "cell_type": "code",
   "execution_count": 6,
   "id": "82eec90b-0537-419e-9821-19a887db168c",
   "metadata": {
    "editable": true,
    "execution": {
     "iopub.execute_input": "2023-10-23T10:35:21.723902Z",
     "iopub.status.busy": "2023-10-23T10:35:21.723545Z",
     "iopub.status.idle": "2023-10-23T10:35:21.732233Z",
     "shell.execute_reply": "2023-10-23T10:35:21.731569Z"
    },
    "slideshow": {
     "slide_type": ""
    },
    "tags": [
     "clear_answer_cell"
    ]
   },
   "outputs": [
    {
     "name": "stdout",
     "output_type": "stream",
     "text": [
      "         gdpPercap_1982  gdpPercap_1987  gdpPercap_1992\n",
      "country                                                \n",
      "Denmark     21688.04048     25116.17581     26406.73985\n",
      "Finland     18533.15761     21141.01223     20647.16499\n",
      "France      20293.89746     22066.44214     24703.79615\n",
      "Germany     22031.53274     24639.18566     26505.30317\n",
      "Greece      15268.42089     16120.52839     17541.49634\n",
      "Hungary     12545.99066     12986.47998     10535.62855\n",
      "Iceland     23269.60750     26923.20628     25144.39201\n"
     ]
    }
   ],
   "source": [
    "print(data.loc['Denmark':'Iceland', 'gdpPercap_1982':'gdpPercap_1992'])"
   ]
  },
  {
   "cell_type": "markdown",
   "id": "d0a7041f-1496-4738-9765-26d8ffdb997a",
   "metadata": {},
   "source": [
    "Print out the last 3 columns for the last 3 rows of countries."
   ]
  },
  {
   "cell_type": "code",
   "execution_count": 7,
   "id": "8a524211-5370-425c-8a61-2da43a8142ec",
   "metadata": {
    "editable": true,
    "execution": {
     "iopub.execute_input": "2023-10-23T10:35:21.735099Z",
     "iopub.status.busy": "2023-10-23T10:35:21.734876Z",
     "iopub.status.idle": "2023-10-23T10:35:21.743514Z",
     "shell.execute_reply": "2023-10-23T10:35:21.742784Z"
    },
    "slideshow": {
     "slide_type": ""
    },
    "tags": [
     "clear_answer_cell"
    ]
   },
   "outputs": [
    {
     "name": "stdout",
     "output_type": "stream",
     "text": [
      "                gdpPercap_1997  gdpPercap_2002  gdpPercap_2007\n",
      "country                                                       \n",
      "Switzerland       32135.323010    34480.957710    37506.419070\n",
      "Turkey             6601.429915     6508.085718     8458.276384\n",
      "United Kingdom    26074.531360    29478.999190    33203.261280\n"
     ]
    }
   ],
   "source": [
    "print(data.loc['Switzerland':'United Kingdom', 'gdpPercap_1997':'gdpPercap_2007'])"
   ]
  },
  {
   "cell_type": "markdown",
   "id": "85dd99ef-f3a2-4012-817d-319df3c5fea8",
   "metadata": {},
   "source": [
    "What are the maximum GDP values between 1997-2007 for the last 3 countries alphabetically? "
   ]
  },
  {
   "cell_type": "code",
   "execution_count": 8,
   "id": "c4c6cd1b-b83d-421f-b7e4-bcdf7d42fdda",
   "metadata": {
    "editable": true,
    "execution": {
     "iopub.execute_input": "2023-10-23T10:35:21.746486Z",
     "iopub.status.busy": "2023-10-23T10:35:21.746167Z",
     "iopub.status.idle": "2023-10-23T10:35:21.755132Z",
     "shell.execute_reply": "2023-10-23T10:35:21.754162Z"
    },
    "slideshow": {
     "slide_type": ""
    },
    "tags": [
     "clear_answer_cell"
    ]
   },
   "outputs": [
    {
     "name": "stdout",
     "output_type": "stream",
     "text": [
      "gdpPercap_1997    32135.32301\n",
      "gdpPercap_2002    34480.95771\n",
      "gdpPercap_2007    37506.41907\n",
      "dtype: float64\n"
     ]
    }
   ],
   "source": [
    "print(data.loc['Switzerland':'United Kingdom', 'gdpPercap_1997':'gdpPercap_2007'].max())"
   ]
  },
  {
   "cell_type": "markdown",
   "id": "d8ccfd82-f09b-40ae-84b4-bf3c578009d4",
   "metadata": {},
   "source": [
    "## 2. Creating subsets and masks"
   ]
  },
  {
   "cell_type": "markdown",
   "id": "88ae8007-52d2-41ee-b559-9b44571457d3",
   "metadata": {},
   "source": [
    "Create a variable called `subset` which contains only the data for Hungary to Netherlands between 1962 and 1972. Print out the subset."
   ]
  },
  {
   "cell_type": "code",
   "execution_count": 9,
   "id": "d97d35c2-d7f4-44df-986c-5aa79ffcf18c",
   "metadata": {
    "editable": true,
    "execution": {
     "iopub.execute_input": "2023-10-23T10:35:21.758187Z",
     "iopub.status.busy": "2023-10-23T10:35:21.757979Z",
     "iopub.status.idle": "2023-10-23T10:35:21.767287Z",
     "shell.execute_reply": "2023-10-23T10:35:21.766325Z"
    },
    "slideshow": {
     "slide_type": ""
    },
    "tags": [
     "clear_answer_cell"
    ]
   },
   "outputs": [
    {
     "name": "stdout",
     "output_type": "stream",
     "text": [
      "             gdpPercap_1962  gdpPercap_1967  gdpPercap_1972\n",
      "country                                                    \n",
      "Hungary         7550.359877     9326.644670    10168.656110\n",
      "Iceland        10350.159060    13319.895680    15798.063620\n",
      "Ireland         6631.597314     7655.568963     9530.772896\n",
      "Italy           8243.582340    10022.401310    12269.273780\n",
      "Montenegro      4649.593785     5907.850937     7778.414017\n",
      "Netherlands    12790.849560    15363.251360    18794.745670\n"
     ]
    }
   ],
   "source": [
    "subset = data.loc['Hungary':'Netherlands', 'gdpPercap_1962':'gdpPercap_1972']\n",
    "print(subset)"
   ]
  },
  {
   "cell_type": "markdown",
   "id": "f4c19abd-7571-452f-96cf-d23df1b1d193",
   "metadata": {},
   "source": [
    "Return a dataframe of boolean (`True` or `False`) values showing where the GDP values are greater than 10000. "
   ]
  },
  {
   "cell_type": "code",
   "execution_count": 10,
   "id": "a0e7a0a4-36bc-475a-bdd8-1741453fd535",
   "metadata": {
    "editable": true,
    "execution": {
     "iopub.execute_input": "2023-10-23T10:35:21.770608Z",
     "iopub.status.busy": "2023-10-23T10:35:21.770358Z",
     "iopub.status.idle": "2023-10-23T10:35:21.778504Z",
     "shell.execute_reply": "2023-10-23T10:35:21.777640Z"
    },
    "slideshow": {
     "slide_type": ""
    },
    "tags": [
     "clear_answer_cell"
    ]
   },
   "outputs": [
    {
     "name": "stdout",
     "output_type": "stream",
     "text": [
      "             gdpPercap_1962  gdpPercap_1967  gdpPercap_1972\n",
      "country                                                    \n",
      "Hungary               False           False            True\n",
      "Iceland                True            True            True\n",
      "Ireland               False           False           False\n",
      "Italy                 False            True            True\n",
      "Montenegro            False           False           False\n",
      "Netherlands            True            True            True\n"
     ]
    }
   ],
   "source": [
    "print(subset>10000)"
   ]
  },
  {
   "cell_type": "markdown",
   "id": "1a481d2b-d49e-4a20-af9c-fd312b5b8f3d",
   "metadata": {},
   "source": [
    "Create a boolean mask for the above and print the result of applying this to the subset."
   ]
  },
  {
   "cell_type": "code",
   "execution_count": 11,
   "id": "cecf6848-5ae4-4726-a393-4a94ec16c949",
   "metadata": {
    "editable": true,
    "execution": {
     "iopub.execute_input": "2023-10-23T10:35:21.781639Z",
     "iopub.status.busy": "2023-10-23T10:35:21.781315Z",
     "iopub.status.idle": "2023-10-23T10:35:21.790963Z",
     "shell.execute_reply": "2023-10-23T10:35:21.789472Z"
    },
    "slideshow": {
     "slide_type": ""
    },
    "tags": [
     "clear_answer_cell"
    ]
   },
   "outputs": [
    {
     "name": "stdout",
     "output_type": "stream",
     "text": [
      "             gdpPercap_1962  gdpPercap_1967  gdpPercap_1972\n",
      "country                                                    \n",
      "Hungary                 NaN             NaN     10168.65611\n",
      "Iceland         10350.15906     13319.89568     15798.06362\n",
      "Ireland                 NaN             NaN             NaN\n",
      "Italy                   NaN     10022.40131     12269.27378\n",
      "Montenegro              NaN             NaN             NaN\n",
      "Netherlands     12790.84956     15363.25136     18794.74567\n"
     ]
    }
   ],
   "source": [
    "mask = subset > 10000\n",
    "print(subset[mask])"
   ]
  },
  {
   "cell_type": "markdown",
   "id": "6a165f68-4ba4-4af9-8874-3b57a681491d",
   "metadata": {},
   "source": [
    "What is the mean and standard deviation of the mask applied to this subset?"
   ]
  },
  {
   "cell_type": "code",
   "execution_count": 12,
   "id": "7d39bf41-2d9a-4de4-b6e6-8d8c1af1e7b9",
   "metadata": {
    "editable": true,
    "execution": {
     "iopub.execute_input": "2023-10-23T10:35:21.796296Z",
     "iopub.status.busy": "2023-10-23T10:35:21.795278Z",
     "iopub.status.idle": "2023-10-23T10:35:21.815636Z",
     "shell.execute_reply": "2023-10-23T10:35:21.814603Z"
    },
    "slideshow": {
     "slide_type": ""
    },
    "tags": [
     "clear_answer_cell"
    ]
   },
   "outputs": [
    {
     "name": "stdout",
     "output_type": "stream",
     "text": [
      "       gdpPercap_1962  gdpPercap_1967  gdpPercap_1972\n",
      "count        2.000000        3.000000        4.000000\n",
      "mean     11570.504310    12901.849450    14257.684795\n",
      "std       1725.828803     2694.854690     3813.643151\n",
      "min      10350.159060    10022.401310    10168.656110\n",
      "25%      10960.331685    11671.148495    11744.119362\n",
      "50%      11570.504310    13319.895680    14033.668700\n",
      "75%      12180.676935    14341.573520    16547.234133\n",
      "max      12790.849560    15363.251360    18794.745670\n"
     ]
    }
   ],
   "source": [
    "print(subset[mask].describe())"
   ]
  },
  {
   "cell_type": "markdown",
   "id": "8b51e7c6-32ae-410d-9a97-7133c985fbd5",
   "metadata": {},
   "source": [
    "## 3. Extension Questions"
   ]
  },
  {
   "cell_type": "markdown",
   "id": "12ca99b8-de0e-48ea-9821-2045f4762f11",
   "metadata": {},
   "source": [
    "1. Find the index of the maximum for each column of the dataset. "
   ]
  },
  {
   "cell_type": "markdown",
   "id": "dc95aba8-54e7-4e7b-8a2b-fe135af11f98",
   "metadata": {},
   "source": [
    "_Hint: You will need to make use of `idxmax()`._"
   ]
  },
  {
   "cell_type": "code",
   "execution_count": 13,
   "id": "9713081c-49e4-482a-9a69-ad8b3447111e",
   "metadata": {
    "editable": true,
    "execution": {
     "iopub.execute_input": "2023-10-23T10:35:21.820940Z",
     "iopub.status.busy": "2023-10-23T10:35:21.820691Z",
     "iopub.status.idle": "2023-10-23T10:35:21.827291Z",
     "shell.execute_reply": "2023-10-23T10:35:21.826304Z"
    },
    "slideshow": {
     "slide_type": ""
    },
    "tags": [
     "clear_answer_cell"
    ]
   },
   "outputs": [
    {
     "name": "stdout",
     "output_type": "stream",
     "text": [
      "gdpPercap_1952    Switzerland\n",
      "gdpPercap_1957    Switzerland\n",
      "gdpPercap_1962    Switzerland\n",
      "gdpPercap_1967    Switzerland\n",
      "gdpPercap_1972    Switzerland\n",
      "gdpPercap_1977    Switzerland\n",
      "gdpPercap_1982    Switzerland\n",
      "gdpPercap_1987         Norway\n",
      "gdpPercap_1992         Norway\n",
      "gdpPercap_1997         Norway\n",
      "gdpPercap_2002         Norway\n",
      "gdpPercap_2007         Norway\n",
      "dtype: object\n"
     ]
    }
   ],
   "source": [
    "print(data.idxmax())"
   ]
  },
  {
   "cell_type": "markdown",
   "id": "0ae616dd-09fd-4b72-9964-825b34c7995d",
   "metadata": {},
   "source": [
    "2. Similarly, find the index of the minimum for each column of the dataset."
   ]
  },
  {
   "cell_type": "markdown",
   "id": "7c4c39ff-f507-421d-a691-6e4aab835839",
   "metadata": {},
   "source": [
    "_Hint: You will need to make use of `idxmin()`._"
   ]
  },
  {
   "cell_type": "code",
   "execution_count": 14,
   "id": "199d7efe-7ba1-4129-ba0b-470ec32496e6",
   "metadata": {
    "editable": true,
    "execution": {
     "iopub.execute_input": "2023-10-23T10:35:21.831541Z",
     "iopub.status.busy": "2023-10-23T10:35:21.831207Z",
     "iopub.status.idle": "2023-10-23T10:35:21.838455Z",
     "shell.execute_reply": "2023-10-23T10:35:21.837398Z"
    },
    "slideshow": {
     "slide_type": ""
    },
    "tags": [
     "clear_answer_cell"
    ]
   },
   "outputs": [
    {
     "name": "stdout",
     "output_type": "stream",
     "text": [
      "gdpPercap_1952    Bosnia and Herzegovina\n",
      "gdpPercap_1957    Bosnia and Herzegovina\n",
      "gdpPercap_1962    Bosnia and Herzegovina\n",
      "gdpPercap_1967    Bosnia and Herzegovina\n",
      "gdpPercap_1972    Bosnia and Herzegovina\n",
      "gdpPercap_1977    Bosnia and Herzegovina\n",
      "gdpPercap_1982                   Albania\n",
      "gdpPercap_1987                   Albania\n",
      "gdpPercap_1992                   Albania\n",
      "gdpPercap_1997                   Albania\n",
      "gdpPercap_2002                   Albania\n",
      "gdpPercap_2007                   Albania\n",
      "dtype: object\n"
     ]
    }
   ],
   "source": [
    "print(data.idxmin())"
   ]
  },
  {
   "cell_type": "markdown",
   "id": "7c23f6c6-7a98-495e-885e-165d077979d0",
   "metadata": {},
   "source": [
    "3. Print out the median GDP per capita across all countries for each year."
   ]
  },
  {
   "cell_type": "markdown",
   "id": "04c33f7d-0c99-4cba-8ae2-cbc3f3fae2b8",
   "metadata": {},
   "source": [
    "_Hint: Use `median()`._"
   ]
  },
  {
   "cell_type": "code",
   "execution_count": 15,
   "id": "c974d6eb-93bb-4d34-81a8-fe04a6fdfd1b",
   "metadata": {
    "editable": true,
    "execution": {
     "iopub.execute_input": "2023-10-23T10:35:21.841656Z",
     "iopub.status.busy": "2023-10-23T10:35:21.841395Z",
     "iopub.status.idle": "2023-10-23T10:35:21.854214Z",
     "shell.execute_reply": "2023-10-23T10:35:21.853326Z"
    },
    "slideshow": {
     "slide_type": ""
    },
    "tags": [
     "clear_answer_cell"
    ]
   },
   "outputs": [
    {
     "data": {
      "text/plain": [
       "gdpPercap_1952     5142.469716\n",
       "gdpPercap_1957     6066.721495\n",
       "gdpPercap_1962     7515.733737\n",
       "gdpPercap_1967     9366.067033\n",
       "gdpPercap_1972    12326.379990\n",
       "gdpPercap_1977    14225.754515\n",
       "gdpPercap_1982    15322.824720\n",
       "gdpPercap_1987    16215.485895\n",
       "gdpPercap_1992    17550.155945\n",
       "gdpPercap_1997    19596.498550\n",
       "gdpPercap_2002    23674.863230\n",
       "gdpPercap_2007    28054.065790\n",
       "dtype: float64"
      ]
     },
     "execution_count": 15,
     "metadata": {},
     "output_type": "execute_result"
    }
   ],
   "source": [
    "data.median()"
   ]
  }
 ],
 "metadata": {
  "kernelspec": {
   "display_name": "Python 3 + Jaspy",
   "language": "python",
   "name": "jaspy"
  },
  "language_info": {
   "codemirror_mode": {
    "name": "ipython",
    "version": 3
   },
   "file_extension": ".py",
   "mimetype": "text/x-python",
   "name": "python",
   "nbconvert_exporter": "python",
   "pygments_lexer": "ipython3",
   "version": "3.11.9"
  }
 },
 "nbformat": 4,
 "nbformat_minor": 5
}
