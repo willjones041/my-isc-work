{
 "cells": [
  {
   "cell_type": "markdown",
   "id": "679da75e-9e0e-4ba5-8bdf-dbe5eef21caa",
   "metadata": {
    "editable": true,
    "slideshow": {
     "slide_type": ""
    },
    "tags": []
   },
   "source": [
    "# Exercise 1: Welcome to the Introduction to Scientific Computing Course"
   ]
  },
  {
   "cell_type": "markdown",
   "id": "72238bc4-2afd-461a-9f5a-fdb98e5f54ff",
   "metadata": {},
   "source": [
    "## 1. Introduction"
   ]
  },
  {
   "cell_type": "markdown",
   "id": "8f97697b-a7e6-4842-b745-730536d92152",
   "metadata": {},
   "source": [
    "These are the notebooks to go along with the teaching material. There are text (markdown) cells, like this one, which will give some background and ask you questions, and there are empty code cells for you to write some code in. Words that look `like this` are bits of code or commands. "
   ]
  },
  {
   "cell_type": "markdown",
   "id": "b4eea1f1-7032-45d0-8f84-d2974e8b3fcd",
   "metadata": {},
   "source": [
    "Here are some useful tips to remember throughout this course:\n",
    "- Code is remembered between cells - if you define a variable in one cell, you can use it in another. More on this next lesson!\n",
    "- Writing code in Jupyter Notebooks is the same as writing a normal Python Program, the code is just split up into cells and can be run a section at a time.\n",
    "- Each cell can be run individually or you can run every cell at once. You can run cells using the play button or by selecting the cell and hitting `shift + return`."
   ]
  },
  {
   "cell_type": "markdown",
   "id": "bb53873f-b68b-47ce-8374-e81f5bac4bec",
   "metadata": {},
   "source": [
    "## 2. Using Jupyter Notebooks"
   ]
  },
  {
   "cell_type": "markdown",
   "id": "caecb660-6eae-4a29-94c9-231e233c47d6",
   "metadata": {},
   "source": [
    "- To start the JASMIN Notebook service, go to https://notebooks.jasmin.ac.uk\n",
    "- Login with your JASMIN username and password (you may need to verify your email address)."
   ]
  },
  {
   "cell_type": "markdown",
   "id": "c3090454-1095-4a16-8f58-523d463ee261",
   "metadata": {},
   "source": [
    "Let's check that you can find your way around a Jupyter Notebook. In the cell below is a basic `print` statement - can you run the cell?"
   ]
  },
  {
   "cell_type": "code",
   "execution_count": 1,
   "id": "77c077a0-65b3-466a-84df-a1a53fe0ea5a",
   "metadata": {
    "editable": true,
    "execution": {
     "iopub.execute_input": "2023-10-23T10:35:17.353501Z",
     "iopub.status.busy": "2023-10-23T10:35:17.352966Z",
     "iopub.status.idle": "2023-10-23T10:35:17.367577Z",
     "shell.execute_reply": "2023-10-23T10:35:17.366697Z"
    },
    "slideshow": {
     "slide_type": ""
    },
    "tags": []
   },
   "outputs": [
    {
     "name": "stdout",
     "output_type": "stream",
     "text": [
      "Good morning!\n"
     ]
    }
   ],
   "source": [
    "print(\"Good morning!\")"
   ]
  },
  {
   "cell_type": "markdown",
   "id": "dab204e3-2987-42de-98f4-133ddbadc3a6",
   "metadata": {},
   "source": [
    "This should have returned 'Good morning!' and moved you onto the next cell (see the blue bar to the left of the current active cell)."
   ]
  },
  {
   "cell_type": "markdown",
   "id": "bc209318-c54d-439e-a469-e054342d12e4",
   "metadata": {},
   "source": [
    "There are different types of cells - markdown for pretty formatting, and code for writing/running lines of code (there's also raw but we don't need that). There is a box in the toolbar which states the type of the cell, with a dropdown menu to change the type."
   ]
  },
  {
   "cell_type": "code",
   "execution_count": 2,
   "id": "4122fe95-a618-46d2-a986-b0476bbe11e6",
   "metadata": {
    "editable": true,
    "execution": {
     "iopub.execute_input": "2023-10-23T10:35:17.373351Z",
     "iopub.status.busy": "2023-10-23T10:35:17.373041Z",
     "iopub.status.idle": "2023-10-23T10:35:17.383306Z",
     "shell.execute_reply": "2023-10-23T10:35:17.382633Z"
    },
    "slideshow": {
     "slide_type": ""
    },
    "tags": [
     "allow_errors"
    ]
   },
   "outputs": [
    {
     "name": "stdout",
     "output_type": "stream",
     "text": [
      "Object `instead` not found.\n"
     ]
    }
   ],
   "source": [
    "This line of text is supposed to be in markdown mode and is causing an error. Can you swap this cell for a markdown cell instead?"
   ]
  },
  {
   "cell_type": "markdown",
   "id": "5a61f36d-8339-40c4-860b-f2552fcee416",
   "metadata": {
    "editable": true,
    "slideshow": {
     "slide_type": ""
    },
    "tags": []
   },
   "source": [
    "You can delete a cell by selecting it and clicking the bin icon to the right, right clicking and selecting 'delete cell', or putting caps lock on and hitting `D D` (for this to work you have to click to the left of the cell, not inside). There is an empty cell below, can you delete it?"
   ]
  },
  {
   "cell_type": "code",
   "execution_count": null,
   "id": "3f72db4a-28c0-41fe-8505-4f63ababbc52",
   "metadata": {},
   "outputs": [],
   "source": []
  },
  {
   "cell_type": "markdown",
   "id": "7dc19cd3-92db-40d2-a4a7-cc9624fc8a0d",
   "metadata": {
    "editable": true,
    "slideshow": {
     "slide_type": ""
    },
    "tags": []
   },
   "source": [
    "If you use `shift + return` at the end of the notebook it will create a new empty cell. Otherwise, you can either click the plus icon in the toolbar, or put caps lock on and and type `B` (for this to work you have to click the left of the cell, not inside) to insert a new cell below the selected one. Add a new cell below and print out anything you like using `print(\"Text here\")`."
   ]
  },
  {
   "cell_type": "code",
   "execution_count": 3,
   "id": "57fdad12-5321-49db-8c00-fca9af9c247d",
   "metadata": {
    "editable": true,
    "execution": {
     "iopub.execute_input": "2023-10-23T10:35:17.389118Z",
     "iopub.status.busy": "2023-10-23T10:35:17.388792Z",
     "iopub.status.idle": "2023-10-23T10:35:17.395167Z",
     "shell.execute_reply": "2023-10-23T10:35:17.393978Z"
    },
    "slideshow": {
     "slide_type": ""
    },
    "tags": [
     "remove_answer_cell"
    ]
   },
   "outputs": [
    {
     "name": "stdout",
     "output_type": "stream",
     "text": [
      "I made a new cell!\n"
     ]
    }
   ],
   "source": [
    "print(\"I made a new cell!\")"
   ]
  },
  {
   "cell_type": "markdown",
   "id": "2aaea423-5afc-4c13-b2a0-9685519aaff9",
   "metadata": {
    "editable": true,
    "slideshow": {
     "slide_type": ""
    },
    "tags": []
   },
   "source": [
    "That's all you need to get started - can you save your changes before quitting? The filled circle to the right of the filename shows when there are unsaved changes in the document. You can save by clicking the icon in the toolbar, or using `command + s`."
   ]
  }
 ],
 "metadata": {
  "kernelspec": {
   "display_name": "Python 3 + Jaspy",
   "language": "python",
   "name": "jaspy"
  },
  "language_info": {
   "codemirror_mode": {
    "name": "ipython",
    "version": 3
   },
   "file_extension": ".py",
   "mimetype": "text/x-python",
   "name": "python",
   "nbconvert_exporter": "python",
   "pygments_lexer": "ipython3",
   "version": "3.10.5"
  }
 },
 "nbformat": 4,
 "nbformat_minor": 5
}
