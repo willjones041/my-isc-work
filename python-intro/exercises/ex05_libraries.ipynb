{
 "cells": [
  {
   "cell_type": "markdown",
   "id": "5cc9d2cd-3475-4471-adc7-290f3cc790be",
   "metadata": {
    "editable": true,
    "slideshow": {
     "slide_type": ""
    },
    "tags": []
   },
   "source": [
    "# Exercise 5: Libraries"
   ]
  },
  {
   "cell_type": "markdown",
   "id": "2c75c608-86f5-4627-b51a-649745d96e07",
   "metadata": {},
   "source": [
    "## Aim: Learn what libraries are and how to use them."
   ]
  },
  {
   "cell_type": "markdown",
   "id": "d7a29d4b-98c5-4604-94b8-3605a6f1b255",
   "metadata": {},
   "source": [
    "### Issues covered:\n",
    "- Using the `math` library to help with arithmetic\n",
    "- Using `help` to learn about libraries\n",
    "- How to `import` from libraries"
   ]
  },
  {
   "cell_type": "markdown",
   "id": "78833f44-6e3d-4ee9-ad5f-bb5a08bad38b",
   "metadata": {},
   "source": [
    "## 1. Let's learn about the `math` library"
   ]
  },
  {
   "cell_type": "markdown",
   "id": "bbb4d047-c85a-494d-b759-d67f5c765e76",
   "metadata": {
    "editable": true,
    "slideshow": {
     "slide_type": ""
    },
    "tags": []
   },
   "source": [
    "Import `pi` from the `math` library and print its value."
   ]
  },
  {
   "cell_type": "code",
   "execution_count": 1,
   "id": "cec0be50-711f-4764-bc53-3c6d154befd9",
   "metadata": {
    "editable": true,
    "execution": {
     "iopub.execute_input": "2023-10-23T10:34:40.014997Z",
     "iopub.status.busy": "2023-10-23T10:34:40.014290Z",
     "iopub.status.idle": "2023-10-23T10:34:40.029166Z",
     "shell.execute_reply": "2023-10-23T10:34:40.028005Z"
    },
    "slideshow": {
     "slide_type": ""
    },
    "tags": [
     "clear_answer_cell"
    ]
   },
   "outputs": [],
   "source": []
  },
  {
   "cell_type": "markdown",
   "id": "eab5c064-b505-4531-9b87-50426e2fd1a5",
   "metadata": {
    "editable": true,
    "slideshow": {
     "slide_type": ""
    },
    "tags": []
   },
   "source": [
    "Try printing the value of $sin(1/2\\pi)$."
   ]
  },
  {
   "cell_type": "code",
   "execution_count": 2,
   "id": "d96e3c0e-91f8-4b79-902c-95ebc2330355",
   "metadata": {
    "editable": true,
    "execution": {
     "iopub.execute_input": "2023-10-23T10:34:40.034683Z",
     "iopub.status.busy": "2023-10-23T10:34:40.034262Z",
     "iopub.status.idle": "2023-10-23T10:34:40.046669Z",
     "shell.execute_reply": "2023-10-23T10:34:40.045478Z"
    },
    "slideshow": {
     "slide_type": ""
    },
    "tags": [
     "clear_answer_cell"
    ]
   },
   "outputs": [],
   "source": []
  },
  {
   "cell_type": "markdown",
   "id": "4673bf6a-9a81-4bd5-ac45-d65f86d7350a",
   "metadata": {
    "editable": true,
    "slideshow": {
     "slide_type": ""
    },
    "tags": []
   },
   "source": [
    "You can use `help()` to learn about libraries just like with functions - try getting help with `math`."
   ]
  },
  {
   "cell_type": "code",
   "execution_count": 3,
   "id": "9dd7639b-fde7-4692-a9ea-ffe0cbbad773",
   "metadata": {
    "editable": true,
    "execution": {
     "iopub.execute_input": "2023-10-23T10:34:40.053475Z",
     "iopub.status.busy": "2023-10-23T10:34:40.052543Z",
     "iopub.status.idle": "2023-10-23T10:34:40.083206Z",
     "shell.execute_reply": "2023-10-23T10:34:40.081971Z"
    },
    "slideshow": {
     "slide_type": ""
    },
    "tags": [
     "clear_answer_cell"
    ]
   },
   "outputs": [],
   "source": []
  },
  {
   "cell_type": "markdown",
   "id": "059f949b-cdc0-4a0f-b2b6-c7e1f19aff29",
   "metadata": {},
   "source": [
    "Import only the relevant functions from the `math` library to calculate $sin(1/2\\pi)$ and print out its value again."
   ]
  },
  {
   "cell_type": "code",
   "execution_count": 4,
   "id": "ee7254e0-a0b2-4728-87cf-34de133e5096",
   "metadata": {
    "editable": true,
    "execution": {
     "iopub.execute_input": "2023-10-23T10:34:40.088526Z",
     "iopub.status.busy": "2023-10-23T10:34:40.088169Z",
     "iopub.status.idle": "2023-10-23T10:34:40.094092Z",
     "shell.execute_reply": "2023-10-23T10:34:40.092861Z"
    },
    "slideshow": {
     "slide_type": ""
    },
    "tags": [
     "clear_answer_cell"
    ]
   },
   "outputs": [],
   "source": []
  },
  {
   "cell_type": "markdown",
   "id": "a7ac96ba-cdbd-47fb-853b-8fd4a0fdcbdf",
   "metadata": {},
   "source": [
    "Import the math module as `m` to create an alias then print the value of $sin(1/2\\pi)$ again."
   ]
  },
  {
   "cell_type": "code",
   "execution_count": 5,
   "id": "8d6c469b-5166-4ab9-9c40-c48dce5113b5",
   "metadata": {
    "editable": true,
    "execution": {
     "iopub.execute_input": "2023-10-23T10:34:40.099436Z",
     "iopub.status.busy": "2023-10-23T10:34:40.098713Z",
     "iopub.status.idle": "2023-10-23T10:34:40.107180Z",
     "shell.execute_reply": "2023-10-23T10:34:40.105748Z"
    },
    "slideshow": {
     "slide_type": ""
    },
    "tags": [
     "clear_answer_cell"
    ]
   },
   "outputs": [],
   "source": []
  },
  {
   "cell_type": "markdown",
   "id": "46e952a1-f40d-48d5-98ff-80f93a5902f6",
   "metadata": {},
   "source": [
    "## 2. Extension: Challenge Questions"
   ]
  },
  {
   "cell_type": "markdown",
   "id": "42dc448f-c570-4c84-a118-4364ca0eb84e",
   "metadata": {},
   "source": [
    "1. Use a function from the `math` module to find the cube root of 1124864."
   ]
  },
  {
   "cell_type": "markdown",
   "id": "2a8e3ab9-38f1-47a2-8f37-328761c3e52b",
   "metadata": {},
   "source": [
    "_Hint: Use `help()` to find descriptions of the functions that `math` has to offer._"
   ]
  },
  {
   "cell_type": "code",
   "execution_count": 6,
   "id": "68acb9eb-9bb3-4ddd-8451-5dfb3eee58f2",
   "metadata": {
    "editable": true,
    "execution": {
     "iopub.execute_input": "2023-10-23T10:34:40.112190Z",
     "iopub.status.busy": "2023-10-23T10:34:40.111589Z",
     "iopub.status.idle": "2023-10-23T10:34:40.119093Z",
     "shell.execute_reply": "2023-10-23T10:34:40.117732Z"
    },
    "slideshow": {
     "slide_type": ""
    },
    "tags": [
     "clear_answer_cell"
    ]
   },
   "outputs": [],
   "source": []
  },
  {
   "cell_type": "markdown",
   "id": "705ea5eb-acf9-4009-baeb-47891a714f36",
   "metadata": {},
   "source": [
    "2. Try running the block of code below. Can you work out why there is an error and find a way to fix it?\n",
    "```\n",
    "import math\n",
    "print(sqrt(64))\n",
    "```"
   ]
  },
  {
   "cell_type": "code",
   "execution_count": 7,
   "id": "1d4af4ef-a70d-48ce-910e-f243f197d244",
   "metadata": {
    "editable": true,
    "execution": {
     "iopub.execute_input": "2023-10-23T10:34:40.124946Z",
     "iopub.status.busy": "2023-10-23T10:34:40.124259Z",
     "iopub.status.idle": "2023-10-23T10:34:40.131888Z",
     "shell.execute_reply": "2023-10-23T10:34:40.130584Z"
    },
    "slideshow": {
     "slide_type": ""
    },
    "tags": [
     "clear_answer_cell"
    ]
   },
   "outputs": [],
   "source": []
  },
  {
   "cell_type": "markdown",
   "id": "ff2b55f7-28ff-4939-8abd-c83f4a27aa72",
   "metadata": {},
   "source": [
    "3. Another useful library to know about is `random`. You can use `random.randint(lower, upper)` to generate a random number between the lower and upper values. Try using it to generate a random number between 1 and 10."
   ]
  },
  {
   "cell_type": "code",
   "execution_count": 8,
   "id": "7bfcf4d8-bc68-403d-901c-9c6520ccf39c",
   "metadata": {
    "editable": true,
    "execution": {
     "iopub.execute_input": "2023-10-23T10:34:40.136901Z",
     "iopub.status.busy": "2023-10-23T10:34:40.136300Z",
     "iopub.status.idle": "2023-10-23T10:34:40.143011Z",
     "shell.execute_reply": "2023-10-23T10:34:40.142008Z"
    },
    "slideshow": {
     "slide_type": ""
    },
    "tags": [
     "clear_answer_cell"
    ]
   },
   "outputs": [],
   "source": []
  },
  {
   "cell_type": "markdown",
   "id": "fd5f3f3e-b56d-4ff3-af0b-dd3348a92201",
   "metadata": {},
   "source": [
    "4. Use `help` to take a look at what else you can do with `random`."
   ]
  },
  {
   "cell_type": "code",
   "execution_count": 9,
   "id": "80f8767a-4a8b-4298-b3d8-933c7ec806c0",
   "metadata": {
    "editable": true,
    "execution": {
     "iopub.execute_input": "2023-10-23T10:34:40.146585Z",
     "iopub.status.busy": "2023-10-23T10:34:40.146250Z",
     "iopub.status.idle": "2023-10-23T10:34:40.166144Z",
     "shell.execute_reply": "2023-10-23T10:34:40.165509Z"
    },
    "slideshow": {
     "slide_type": ""
    },
    "tags": [
     "clear_answer_cell"
    ]
   },
   "outputs": [],
   "source": []
  },
  {
   "cell_type": "markdown",
   "id": "3a09ed20-7dc6-40ea-9f64-c5b777fcdcc1",
   "metadata": {},
   "source": [
    "5. Play around with some of the `random` functions. Remember to import the function you want to use."
   ]
  },
  {
   "cell_type": "code",
   "execution_count": 10,
   "id": "41303a41-1cdd-4deb-95f7-ac5a0dc1668a",
   "metadata": {
    "editable": true,
    "execution": {
     "iopub.execute_input": "2023-10-23T10:34:40.169275Z",
     "iopub.status.busy": "2023-10-23T10:34:40.168948Z",
     "iopub.status.idle": "2023-10-23T10:34:40.173312Z",
     "shell.execute_reply": "2023-10-23T10:34:40.172695Z"
    },
    "slideshow": {
     "slide_type": ""
    },
    "tags": [
     "clear_answer_cell"
    ]
   },
   "outputs": [],
   "source": []
  }
 ],
 "metadata": {
  "kernelspec": {
   "display_name": "Python 3 + Jaspy",
   "language": "python",
   "name": "jaspy"
  },
  "language_info": {
   "codemirror_mode": {
    "name": "ipython",
    "version": 3
   },
   "file_extension": ".py",
   "mimetype": "text/x-python",
   "name": "python",
   "nbconvert_exporter": "python",
   "pygments_lexer": "ipython3",
   "version": "3.11.9"
  }
 },
 "nbformat": 4,
 "nbformat_minor": 5
}
