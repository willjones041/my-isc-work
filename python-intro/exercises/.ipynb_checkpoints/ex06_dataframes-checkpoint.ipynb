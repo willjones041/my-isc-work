{
 "cells": [
  {
   "cell_type": "markdown",
   "id": "a0d752e8-9ce7-408f-96b3-a9748acecb26",
   "metadata": {
    "editable": true,
    "slideshow": {
     "slide_type": ""
    },
    "tags": []
   },
   "source": [
    "# Exercise 6: Reading Tabular Data into DataFrames"
   ]
  },
  {
   "cell_type": "markdown",
   "id": "3f4321ca-6c64-4170-b617-d93690ac533f",
   "metadata": {},
   "source": [
    "## Aim: Learn what DataFrames are and practice using them."
   ]
  },
  {
   "cell_type": "markdown",
   "id": "c4d9ad99-28ad-49ed-8318-58e2bc3d519f",
   "metadata": {},
   "source": [
    "### Issues covered:\n",
    "- Importing the `pandas` library\n",
    "- Using `pandas` to load a simple CSV data set\n",
    "- Get information about the DataFrames we make"
   ]
  },
  {
   "cell_type": "markdown",
   "id": "d1b64853-3332-482a-b1b0-08a686a45386",
   "metadata": {},
   "source": [
    "## 1. Let's import `pandas` and make some DataFrames."
   ]
  },
  {
   "cell_type": "markdown",
   "id": "577d413a-d2c3-4d3a-b8c7-bb87834e34b4",
   "metadata": {
    "editable": true,
    "slideshow": {
     "slide_type": ""
    },
    "tags": []
   },
   "source": [
    "Import `pandas`, then create a dataframe using the `data/weather.csv` file and print it out."
   ]
  },
  {
   "cell_type": "code",
   "execution_count": 4,
   "id": "507ca506-e488-4a7e-88f7-25a2aa4cfaae",
   "metadata": {
    "editable": true,
    "slideshow": {
     "slide_type": ""
    },
    "tags": [
     "clear_answer_cell"
    ]
   },
   "outputs": [
    {
     "data": {
      "text/html": [
       "<div>\n",
       "<style scoped>\n",
       "    .dataframe tbody tr th:only-of-type {\n",
       "        vertical-align: middle;\n",
       "    }\n",
       "\n",
       "    .dataframe tbody tr th {\n",
       "        vertical-align: top;\n",
       "    }\n",
       "\n",
       "    .dataframe thead th {\n",
       "        text-align: right;\n",
       "    }\n",
       "</style>\n",
       "<table border=\"1\" class=\"dataframe\">\n",
       "  <thead>\n",
       "    <tr style=\"text-align: right;\">\n",
       "      <th></th>\n",
       "      <th>Date</th>\n",
       "      <th>Time</th>\n",
       "      <th>Temp</th>\n",
       "      <th>Rainfall</th>\n",
       "    </tr>\n",
       "  </thead>\n",
       "  <tbody>\n",
       "    <tr>\n",
       "      <th>0</th>\n",
       "      <td>2014-01-01</td>\n",
       "      <td>00:00</td>\n",
       "      <td>2.34</td>\n",
       "      <td>4.45</td>\n",
       "    </tr>\n",
       "    <tr>\n",
       "      <th>1</th>\n",
       "      <td>2014-01-01</td>\n",
       "      <td>12:00</td>\n",
       "      <td>6.70</td>\n",
       "      <td>8.34</td>\n",
       "    </tr>\n",
       "    <tr>\n",
       "      <th>2</th>\n",
       "      <td>2014-01-02</td>\n",
       "      <td>00:00</td>\n",
       "      <td>-1.34</td>\n",
       "      <td>10.25</td>\n",
       "    </tr>\n",
       "  </tbody>\n",
       "</table>\n",
       "</div>"
      ],
      "text/plain": [
       "         Date   Time  Temp  Rainfall\n",
       "0  2014-01-01  00:00  2.34      4.45\n",
       "1  2014-01-01  12:00  6.70      8.34\n",
       "2  2014-01-02  00:00 -1.34     10.25"
      ]
     },
     "execution_count": 4,
     "metadata": {},
     "output_type": "execute_result"
    }
   ],
   "source": [
    "import pandas as pd\n",
    "weather_data = pd.read_csv('../data/weather.csv')\n",
    "weather_data"
   ]
  },
  {
   "cell_type": "markdown",
   "id": "20a8d403-57a6-40de-aed0-23080192918a",
   "metadata": {
    "editable": true,
    "slideshow": {
     "slide_type": ""
    },
    "tags": []
   },
   "source": [
    "Create a new dataframe which indexes by `Date` and print it."
   ]
  },
  {
   "cell_type": "code",
   "execution_count": 5,
   "id": "355a9346-ee50-403e-8c5c-0996a6e2be4e",
   "metadata": {
    "editable": true,
    "slideshow": {
     "slide_type": ""
    },
    "tags": [
     "clear_answer_cell"
    ]
   },
   "outputs": [
    {
     "data": {
      "text/html": [
       "<div>\n",
       "<style scoped>\n",
       "    .dataframe tbody tr th:only-of-type {\n",
       "        vertical-align: middle;\n",
       "    }\n",
       "\n",
       "    .dataframe tbody tr th {\n",
       "        vertical-align: top;\n",
       "    }\n",
       "\n",
       "    .dataframe thead th {\n",
       "        text-align: right;\n",
       "    }\n",
       "</style>\n",
       "<table border=\"1\" class=\"dataframe\">\n",
       "  <thead>\n",
       "    <tr style=\"text-align: right;\">\n",
       "      <th></th>\n",
       "      <th>Time</th>\n",
       "      <th>Temp</th>\n",
       "      <th>Rainfall</th>\n",
       "    </tr>\n",
       "    <tr>\n",
       "      <th>Date</th>\n",
       "      <th></th>\n",
       "      <th></th>\n",
       "      <th></th>\n",
       "    </tr>\n",
       "  </thead>\n",
       "  <tbody>\n",
       "    <tr>\n",
       "      <th>2014-01-01</th>\n",
       "      <td>00:00</td>\n",
       "      <td>2.34</td>\n",
       "      <td>4.45</td>\n",
       "    </tr>\n",
       "    <tr>\n",
       "      <th>2014-01-01</th>\n",
       "      <td>12:00</td>\n",
       "      <td>6.70</td>\n",
       "      <td>8.34</td>\n",
       "    </tr>\n",
       "    <tr>\n",
       "      <th>2014-01-02</th>\n",
       "      <td>00:00</td>\n",
       "      <td>-1.34</td>\n",
       "      <td>10.25</td>\n",
       "    </tr>\n",
       "  </tbody>\n",
       "</table>\n",
       "</div>"
      ],
      "text/plain": [
       "             Time  Temp  Rainfall\n",
       "Date                             \n",
       "2014-01-01  00:00  2.34      4.45\n",
       "2014-01-01  12:00  6.70      8.34\n",
       "2014-01-02  00:00 -1.34     10.25"
      ]
     },
     "execution_count": 5,
     "metadata": {},
     "output_type": "execute_result"
    }
   ],
   "source": [
    "weather_data = pd.read_csv('../data/weather.csv',index_col = 0)\n",
    "weather_data"
   ]
  },
  {
   "cell_type": "markdown",
   "id": "e4af1af5-eec2-4d74-90a2-e93fcacbba39",
   "metadata": {},
   "source": [
    "## 2. Let's practice using some dataframe methods."
   ]
  },
  {
   "cell_type": "markdown",
   "id": "cf3f4d2e-5bc5-480b-a5e9-f37453ef597f",
   "metadata": {
    "editable": true,
    "slideshow": {
     "slide_type": ""
    },
    "tags": []
   },
   "source": [
    "What is the memory usage of the dataframe in bytes?"
   ]
  },
  {
   "cell_type": "code",
   "execution_count": 6,
   "id": "61051add-b15d-429a-a74b-292681e36bac",
   "metadata": {
    "editable": true,
    "slideshow": {
     "slide_type": ""
    },
    "tags": [
     "clear_answer_cell"
    ]
   },
   "outputs": [
    {
     "name": "stdout",
     "output_type": "stream",
     "text": [
      "<class 'pandas.core.frame.DataFrame'>\n",
      "Index: 3 entries, 2014-01-01 to 2014-01-02\n",
      "Data columns (total 3 columns):\n",
      " #   Column    Non-Null Count  Dtype  \n",
      "---  ------    --------------  -----  \n",
      " 0   Time      3 non-null      object \n",
      " 1   Temp      3 non-null      float64\n",
      " 2   Rainfall  3 non-null      float64\n",
      "dtypes: float64(2), object(1)\n",
      "memory usage: 96.0+ bytes\n"
     ]
    }
   ],
   "source": [
    "weather_data.info() "
   ]
  },
  {
   "cell_type": "markdown",
   "id": "e16cd7e5-e5d6-470c-a394-59602cd0892c",
   "metadata": {},
   "source": [
    "Weather_data is 96.0+ Bytes"
   ]
  },
  {
   "cell_type": "markdown",
   "id": "6b85f457-b243-47b8-a996-ac7e5c5750ab",
   "metadata": {},
   "source": [
    "What command can you use to find the dataframe's column names?"
   ]
  },
  {
   "cell_type": "code",
   "execution_count": 13,
   "id": "258e77ea-532c-4b27-9682-2eb995d9952d",
   "metadata": {
    "editable": true,
    "slideshow": {
     "slide_type": ""
    },
    "tags": [
     "clear_answer_cell"
    ]
   },
   "outputs": [
    {
     "data": {
      "text/plain": [
       "['Time', 'Temp', 'Rainfall']"
      ]
     },
     "execution_count": 13,
     "metadata": {},
     "output_type": "execute_result"
    }
   ],
   "source": [
    "list(weather_data)"
   ]
  },
  {
   "cell_type": "markdown",
   "id": "69428372-654c-467e-87a1-6b5b0e5d7d09",
   "metadata": {},
   "source": [
    "Swap the rows and columns and `print` the result."
   ]
  },
  {
   "cell_type": "code",
   "execution_count": 14,
   "id": "8c013233-5e0e-443c-a996-434e5c1d85c8",
   "metadata": {
    "editable": true,
    "slideshow": {
     "slide_type": ""
    },
    "tags": [
     "clear_answer_cell"
    ]
   },
   "outputs": [
    {
     "data": {
      "text/html": [
       "<div>\n",
       "<style scoped>\n",
       "    .dataframe tbody tr th:only-of-type {\n",
       "        vertical-align: middle;\n",
       "    }\n",
       "\n",
       "    .dataframe tbody tr th {\n",
       "        vertical-align: top;\n",
       "    }\n",
       "\n",
       "    .dataframe thead th {\n",
       "        text-align: right;\n",
       "    }\n",
       "</style>\n",
       "<table border=\"1\" class=\"dataframe\">\n",
       "  <thead>\n",
       "    <tr style=\"text-align: right;\">\n",
       "      <th>Date</th>\n",
       "      <th>2014-01-01</th>\n",
       "      <th>2014-01-01</th>\n",
       "      <th>2014-01-02</th>\n",
       "    </tr>\n",
       "  </thead>\n",
       "  <tbody>\n",
       "    <tr>\n",
       "      <th>Time</th>\n",
       "      <td>00:00</td>\n",
       "      <td>12:00</td>\n",
       "      <td>00:00</td>\n",
       "    </tr>\n",
       "    <tr>\n",
       "      <th>Temp</th>\n",
       "      <td>2.34</td>\n",
       "      <td>6.7</td>\n",
       "      <td>-1.34</td>\n",
       "    </tr>\n",
       "    <tr>\n",
       "      <th>Rainfall</th>\n",
       "      <td>4.45</td>\n",
       "      <td>8.34</td>\n",
       "      <td>10.25</td>\n",
       "    </tr>\n",
       "  </tbody>\n",
       "</table>\n",
       "</div>"
      ],
      "text/plain": [
       "Date     2014-01-01 2014-01-01 2014-01-02\n",
       "Time          00:00      12:00      00:00\n",
       "Temp           2.34        6.7      -1.34\n",
       "Rainfall       4.45       8.34      10.25"
      ]
     },
     "execution_count": 14,
     "metadata": {},
     "output_type": "execute_result"
    }
   ],
   "source": [
    "weather_data.T"
   ]
  },
  {
   "cell_type": "markdown",
   "id": "2200f4b4-ac33-42ad-9558-40395f921eaf",
   "metadata": {},
   "source": [
    "Find the mean and standard deviation of the weather data."
   ]
  },
  {
   "cell_type": "code",
   "execution_count": 18,
   "id": "38848201-e994-4427-81fb-23e08cac9b60",
   "metadata": {
    "editable": true,
    "slideshow": {
     "slide_type": ""
    },
    "tags": [
     "clear_answer_cell"
    ]
   },
   "outputs": [
    {
     "name": "stdout",
     "output_type": "stream",
     "text": [
      "           Temp   Rainfall\n",
      "count  3.000000   3.000000\n",
      "mean   2.566667   7.680000\n",
      "std    4.024790   2.955791\n",
      "min   -1.340000   4.450000\n",
      "25%    0.500000   6.395000\n",
      "50%    2.340000   8.340000\n",
      "75%    4.520000   9.295000\n",
      "max    6.700000  10.250000\n"
     ]
    }
   ],
   "source": [
    "stats = weather_data.describe()\n",
    "print(stats)"
   ]
  },
  {
   "cell_type": "markdown",
   "id": "a2451284-57f1-4638-886a-73de3e6256f6",
   "metadata": {},
   "source": [
    "## 3. Extension: Some Dataframe Challenges"
   ]
  },
  {
   "cell_type": "markdown",
   "id": "357f28d8-74d3-49c8-a862-13ee57459755",
   "metadata": {},
   "source": [
    "1. Find the first three rows of data in `data/americas_gdp.csv` using `head()`."
   ]
  },
  {
   "cell_type": "code",
   "execution_count": 24,
   "id": "62eaf73a-acdc-4eb0-89d1-ef1fffd0640c",
   "metadata": {
    "editable": true,
    "slideshow": {
     "slide_type": ""
    },
    "tags": [
     "clear_answer_cell"
    ]
   },
   "outputs": [
    {
     "data": {
      "text/html": [
       "<div>\n",
       "<style scoped>\n",
       "    .dataframe tbody tr th:only-of-type {\n",
       "        vertical-align: middle;\n",
       "    }\n",
       "\n",
       "    .dataframe tbody tr th {\n",
       "        vertical-align: top;\n",
       "    }\n",
       "\n",
       "    .dataframe thead th {\n",
       "        text-align: right;\n",
       "    }\n",
       "</style>\n",
       "<table border=\"1\" class=\"dataframe\">\n",
       "  <thead>\n",
       "    <tr style=\"text-align: right;\">\n",
       "      <th></th>\n",
       "      <th>continent</th>\n",
       "      <th>country</th>\n",
       "      <th>gdpPercap_1952</th>\n",
       "      <th>gdpPercap_1957</th>\n",
       "      <th>gdpPercap_1962</th>\n",
       "      <th>gdpPercap_1967</th>\n",
       "      <th>gdpPercap_1972</th>\n",
       "      <th>gdpPercap_1977</th>\n",
       "      <th>gdpPercap_1982</th>\n",
       "      <th>gdpPercap_1987</th>\n",
       "      <th>gdpPercap_1992</th>\n",
       "      <th>gdpPercap_1997</th>\n",
       "      <th>gdpPercap_2002</th>\n",
       "      <th>gdpPercap_2007</th>\n",
       "    </tr>\n",
       "  </thead>\n",
       "  <tbody>\n",
       "    <tr>\n",
       "      <th>0</th>\n",
       "      <td>Americas</td>\n",
       "      <td>Argentina</td>\n",
       "      <td>5911.315053</td>\n",
       "      <td>6856.856212</td>\n",
       "      <td>7133.166023</td>\n",
       "      <td>8052.953021</td>\n",
       "      <td>9443.038526</td>\n",
       "      <td>10079.026740</td>\n",
       "      <td>8997.897412</td>\n",
       "      <td>9139.671389</td>\n",
       "      <td>9308.418710</td>\n",
       "      <td>10967.281950</td>\n",
       "      <td>8797.640716</td>\n",
       "      <td>12779.379640</td>\n",
       "    </tr>\n",
       "    <tr>\n",
       "      <th>1</th>\n",
       "      <td>Americas</td>\n",
       "      <td>Bolivia</td>\n",
       "      <td>2677.326347</td>\n",
       "      <td>2127.686326</td>\n",
       "      <td>2180.972546</td>\n",
       "      <td>2586.886053</td>\n",
       "      <td>2980.331339</td>\n",
       "      <td>3548.097832</td>\n",
       "      <td>3156.510452</td>\n",
       "      <td>2753.691490</td>\n",
       "      <td>2961.699694</td>\n",
       "      <td>3326.143191</td>\n",
       "      <td>3413.262690</td>\n",
       "      <td>3822.137084</td>\n",
       "    </tr>\n",
       "    <tr>\n",
       "      <th>2</th>\n",
       "      <td>Americas</td>\n",
       "      <td>Brazil</td>\n",
       "      <td>2108.944355</td>\n",
       "      <td>2487.365989</td>\n",
       "      <td>3336.585802</td>\n",
       "      <td>3429.864357</td>\n",
       "      <td>4985.711467</td>\n",
       "      <td>6660.118654</td>\n",
       "      <td>7030.835878</td>\n",
       "      <td>7807.095818</td>\n",
       "      <td>6950.283021</td>\n",
       "      <td>7957.980824</td>\n",
       "      <td>8131.212843</td>\n",
       "      <td>9065.800825</td>\n",
       "    </tr>\n",
       "    <tr>\n",
       "      <th>3</th>\n",
       "      <td>Americas</td>\n",
       "      <td>Canada</td>\n",
       "      <td>11367.161120</td>\n",
       "      <td>12489.950060</td>\n",
       "      <td>13462.485550</td>\n",
       "      <td>16076.588030</td>\n",
       "      <td>18970.570860</td>\n",
       "      <td>22090.883060</td>\n",
       "      <td>22898.792140</td>\n",
       "      <td>26626.515030</td>\n",
       "      <td>26342.884260</td>\n",
       "      <td>28954.925890</td>\n",
       "      <td>33328.965070</td>\n",
       "      <td>36319.235010</td>\n",
       "    </tr>\n",
       "    <tr>\n",
       "      <th>4</th>\n",
       "      <td>Americas</td>\n",
       "      <td>Chile</td>\n",
       "      <td>3939.978789</td>\n",
       "      <td>4315.622723</td>\n",
       "      <td>4519.094331</td>\n",
       "      <td>5106.654313</td>\n",
       "      <td>5494.024437</td>\n",
       "      <td>4756.763836</td>\n",
       "      <td>5095.665738</td>\n",
       "      <td>5547.063754</td>\n",
       "      <td>7596.125964</td>\n",
       "      <td>10118.053180</td>\n",
       "      <td>10778.783850</td>\n",
       "      <td>13171.638850</td>\n",
       "    </tr>\n",
       "  </tbody>\n",
       "</table>\n",
       "</div>"
      ],
      "text/plain": [
       "  continent    country  gdpPercap_1952  gdpPercap_1957  gdpPercap_1962  \\\n",
       "0  Americas  Argentina     5911.315053     6856.856212     7133.166023   \n",
       "1  Americas    Bolivia     2677.326347     2127.686326     2180.972546   \n",
       "2  Americas     Brazil     2108.944355     2487.365989     3336.585802   \n",
       "3  Americas     Canada    11367.161120    12489.950060    13462.485550   \n",
       "4  Americas      Chile     3939.978789     4315.622723     4519.094331   \n",
       "\n",
       "   gdpPercap_1967  gdpPercap_1972  gdpPercap_1977  gdpPercap_1982  \\\n",
       "0     8052.953021     9443.038526    10079.026740     8997.897412   \n",
       "1     2586.886053     2980.331339     3548.097832     3156.510452   \n",
       "2     3429.864357     4985.711467     6660.118654     7030.835878   \n",
       "3    16076.588030    18970.570860    22090.883060    22898.792140   \n",
       "4     5106.654313     5494.024437     4756.763836     5095.665738   \n",
       "\n",
       "   gdpPercap_1987  gdpPercap_1992  gdpPercap_1997  gdpPercap_2002  \\\n",
       "0     9139.671389     9308.418710    10967.281950     8797.640716   \n",
       "1     2753.691490     2961.699694     3326.143191     3413.262690   \n",
       "2     7807.095818     6950.283021     7957.980824     8131.212843   \n",
       "3    26626.515030    26342.884260    28954.925890    33328.965070   \n",
       "4     5547.063754     7596.125964    10118.053180    10778.783850   \n",
       "\n",
       "   gdpPercap_2007  \n",
       "0    12779.379640  \n",
       "1     3822.137084  \n",
       "2     9065.800825  \n",
       "3    36319.235010  \n",
       "4    13171.638850  "
      ]
     },
     "execution_count": 24,
     "metadata": {},
     "output_type": "execute_result"
    }
   ],
   "source": [
    "america_data = pd.read_csv(\"../data/americas_gdp.csv\")\n",
    "america_data.head()"
   ]
  },
  {
   "cell_type": "markdown",
   "id": "dcff88d3-f459-4139-abc0-3d87a3a9fbd2",
   "metadata": {},
   "source": [
    "2. Find the last 3 **columns** of data."
   ]
  },
  {
   "cell_type": "markdown",
   "id": "82c90192-74f7-4064-993b-f650108f81ea",
   "metadata": {},
   "source": [
    "_Hint: You may need to change your view of the data then you can use `tail()`._"
   ]
  },
  {
   "cell_type": "code",
   "execution_count": 25,
   "id": "aeeed721-06b5-4bf9-8f7b-326c52e8d23a",
   "metadata": {
    "editable": true,
    "slideshow": {
     "slide_type": ""
    },
    "tags": [
     "clear_answer_cell"
    ]
   },
   "outputs": [
    {
     "data": {
      "text/html": [
       "<div>\n",
       "<style scoped>\n",
       "    .dataframe tbody tr th:only-of-type {\n",
       "        vertical-align: middle;\n",
       "    }\n",
       "\n",
       "    .dataframe tbody tr th {\n",
       "        vertical-align: top;\n",
       "    }\n",
       "\n",
       "    .dataframe thead th {\n",
       "        text-align: right;\n",
       "    }\n",
       "</style>\n",
       "<table border=\"1\" class=\"dataframe\">\n",
       "  <thead>\n",
       "    <tr style=\"text-align: right;\">\n",
       "      <th></th>\n",
       "      <th>continent</th>\n",
       "      <th>country</th>\n",
       "      <th>gdpPercap_1952</th>\n",
       "      <th>gdpPercap_1957</th>\n",
       "      <th>gdpPercap_1962</th>\n",
       "      <th>gdpPercap_1967</th>\n",
       "      <th>gdpPercap_1972</th>\n",
       "      <th>gdpPercap_1977</th>\n",
       "      <th>gdpPercap_1982</th>\n",
       "      <th>gdpPercap_1987</th>\n",
       "      <th>gdpPercap_1992</th>\n",
       "      <th>gdpPercap_1997</th>\n",
       "      <th>gdpPercap_2002</th>\n",
       "      <th>gdpPercap_2007</th>\n",
       "    </tr>\n",
       "  </thead>\n",
       "  <tbody>\n",
       "    <tr>\n",
       "      <th>20</th>\n",
       "      <td>Americas</td>\n",
       "      <td>Puerto Rico</td>\n",
       "      <td>3081.959785</td>\n",
       "      <td>3907.156189</td>\n",
       "      <td>5108.344630</td>\n",
       "      <td>6929.277714</td>\n",
       "      <td>9123.041742</td>\n",
       "      <td>9770.524921</td>\n",
       "      <td>10330.989150</td>\n",
       "      <td>12281.341910</td>\n",
       "      <td>14641.587110</td>\n",
       "      <td>16999.433300</td>\n",
       "      <td>18855.606180</td>\n",
       "      <td>19328.70901</td>\n",
       "    </tr>\n",
       "    <tr>\n",
       "      <th>21</th>\n",
       "      <td>Americas</td>\n",
       "      <td>Trinidad and Tobago</td>\n",
       "      <td>3023.271928</td>\n",
       "      <td>4100.393400</td>\n",
       "      <td>4997.523971</td>\n",
       "      <td>5621.368472</td>\n",
       "      <td>6619.551419</td>\n",
       "      <td>7899.554209</td>\n",
       "      <td>9119.528607</td>\n",
       "      <td>7388.597823</td>\n",
       "      <td>7370.990932</td>\n",
       "      <td>8792.573126</td>\n",
       "      <td>11460.600230</td>\n",
       "      <td>18008.50924</td>\n",
       "    </tr>\n",
       "    <tr>\n",
       "      <th>22</th>\n",
       "      <td>Americas</td>\n",
       "      <td>United States</td>\n",
       "      <td>13990.482080</td>\n",
       "      <td>14847.127120</td>\n",
       "      <td>16173.145860</td>\n",
       "      <td>19530.365570</td>\n",
       "      <td>21806.035940</td>\n",
       "      <td>24072.632130</td>\n",
       "      <td>25009.559140</td>\n",
       "      <td>29884.350410</td>\n",
       "      <td>32003.932240</td>\n",
       "      <td>35767.433030</td>\n",
       "      <td>39097.099550</td>\n",
       "      <td>42951.65309</td>\n",
       "    </tr>\n",
       "    <tr>\n",
       "      <th>23</th>\n",
       "      <td>Americas</td>\n",
       "      <td>Uruguay</td>\n",
       "      <td>5716.766744</td>\n",
       "      <td>6150.772969</td>\n",
       "      <td>5603.357717</td>\n",
       "      <td>5444.619620</td>\n",
       "      <td>5703.408898</td>\n",
       "      <td>6504.339663</td>\n",
       "      <td>6920.223051</td>\n",
       "      <td>7452.398969</td>\n",
       "      <td>8137.004775</td>\n",
       "      <td>9230.240708</td>\n",
       "      <td>7727.002004</td>\n",
       "      <td>10611.46299</td>\n",
       "    </tr>\n",
       "    <tr>\n",
       "      <th>24</th>\n",
       "      <td>Americas</td>\n",
       "      <td>Venezuela</td>\n",
       "      <td>7689.799761</td>\n",
       "      <td>9802.466526</td>\n",
       "      <td>8422.974165</td>\n",
       "      <td>9541.474188</td>\n",
       "      <td>10505.259660</td>\n",
       "      <td>13143.950950</td>\n",
       "      <td>11152.410110</td>\n",
       "      <td>9883.584648</td>\n",
       "      <td>10733.926310</td>\n",
       "      <td>10165.495180</td>\n",
       "      <td>8605.047831</td>\n",
       "      <td>11415.80569</td>\n",
       "    </tr>\n",
       "  </tbody>\n",
       "</table>\n",
       "</div>"
      ],
      "text/plain": [
       "   continent              country  gdpPercap_1952  gdpPercap_1957  \\\n",
       "20  Americas          Puerto Rico     3081.959785     3907.156189   \n",
       "21  Americas  Trinidad and Tobago     3023.271928     4100.393400   \n",
       "22  Americas        United States    13990.482080    14847.127120   \n",
       "23  Americas              Uruguay     5716.766744     6150.772969   \n",
       "24  Americas            Venezuela     7689.799761     9802.466526   \n",
       "\n",
       "    gdpPercap_1962  gdpPercap_1967  gdpPercap_1972  gdpPercap_1977  \\\n",
       "20     5108.344630     6929.277714     9123.041742     9770.524921   \n",
       "21     4997.523971     5621.368472     6619.551419     7899.554209   \n",
       "22    16173.145860    19530.365570    21806.035940    24072.632130   \n",
       "23     5603.357717     5444.619620     5703.408898     6504.339663   \n",
       "24     8422.974165     9541.474188    10505.259660    13143.950950   \n",
       "\n",
       "    gdpPercap_1982  gdpPercap_1987  gdpPercap_1992  gdpPercap_1997  \\\n",
       "20    10330.989150    12281.341910    14641.587110    16999.433300   \n",
       "21     9119.528607     7388.597823     7370.990932     8792.573126   \n",
       "22    25009.559140    29884.350410    32003.932240    35767.433030   \n",
       "23     6920.223051     7452.398969     8137.004775     9230.240708   \n",
       "24    11152.410110     9883.584648    10733.926310    10165.495180   \n",
       "\n",
       "    gdpPercap_2002  gdpPercap_2007  \n",
       "20    18855.606180     19328.70901  \n",
       "21    11460.600230     18008.50924  \n",
       "22    39097.099550     42951.65309  \n",
       "23     7727.002004     10611.46299  \n",
       "24     8605.047831     11415.80569  "
      ]
     },
     "execution_count": 25,
     "metadata": {},
     "output_type": "execute_result"
    }
   ],
   "source": [
    "america_data.tail()"
   ]
  },
  {
   "cell_type": "markdown",
   "id": "3191ea41-a5c3-491b-95f4-3834376d692d",
   "metadata": {},
   "source": [
    "3. Use `help(data_americas.to_csv)` to figure out how writing to a CSV file works."
   ]
  },
  {
   "cell_type": "code",
   "execution_count": 26,
   "id": "845a8b2a-99fb-4a84-bc5d-9570ceab556e",
   "metadata": {
    "editable": true,
    "slideshow": {
     "slide_type": ""
    },
    "tags": [
     "clear_answer_cell"
    ]
   },
   "outputs": [
    {
     "name": "stdout",
     "output_type": "stream",
     "text": [
      "Help on method to_csv in module pandas.core.generic:\n",
      "\n",
      "to_csv(path_or_buf: 'FilePath | WriteBuffer[bytes] | WriteBuffer[str] | None' = None, *, sep: 'str' = ',', na_rep: 'str' = '', float_format: 'str | Callable | None' = None, columns: 'Sequence[Hashable] | None' = None, header: 'bool_t | list[str]' = True, index: 'bool_t' = True, index_label: 'IndexLabel | None' = None, mode: 'str' = 'w', encoding: 'str | None' = None, compression: 'CompressionOptions' = 'infer', quoting: 'int | None' = None, quotechar: 'str' = '\"', lineterminator: 'str | None' = None, chunksize: 'int | None' = None, date_format: 'str | None' = None, doublequote: 'bool_t' = True, escapechar: 'str | None' = None, decimal: 'str' = '.', errors: 'OpenFileErrors' = 'strict', storage_options: 'StorageOptions | None' = None) -> 'str | None' method of pandas.core.frame.DataFrame instance\n",
      "    Write object to a comma-separated values (csv) file.\n",
      "    \n",
      "    Parameters\n",
      "    ----------\n",
      "    path_or_buf : str, path object, file-like object, or None, default None\n",
      "        String, path object (implementing os.PathLike[str]), or file-like\n",
      "        object implementing a write() function. If None, the result is\n",
      "        returned as a string. If a non-binary file object is passed, it should\n",
      "        be opened with `newline=''`, disabling universal newlines. If a binary\n",
      "        file object is passed, `mode` might need to contain a `'b'`.\n",
      "    sep : str, default ','\n",
      "        String of length 1. Field delimiter for the output file.\n",
      "    na_rep : str, default ''\n",
      "        Missing data representation.\n",
      "    float_format : str, Callable, default None\n",
      "        Format string for floating point numbers. If a Callable is given, it takes\n",
      "        precedence over other numeric formatting parameters, like decimal.\n",
      "    columns : sequence, optional\n",
      "        Columns to write.\n",
      "    header : bool or list of str, default True\n",
      "        Write out the column names. If a list of strings is given it is\n",
      "        assumed to be aliases for the column names.\n",
      "    index : bool, default True\n",
      "        Write row names (index).\n",
      "    index_label : str or sequence, or False, default None\n",
      "        Column label for index column(s) if desired. If None is given, and\n",
      "        `header` and `index` are True, then the index names are used. A\n",
      "        sequence should be given if the object uses MultiIndex. If\n",
      "        False do not print fields for index names. Use index_label=False\n",
      "        for easier importing in R.\n",
      "    mode : {'w', 'x', 'a'}, default 'w'\n",
      "        Forwarded to either `open(mode=)` or `fsspec.open(mode=)` to control\n",
      "        the file opening. Typical values include:\n",
      "    \n",
      "        - 'w', truncate the file first.\n",
      "        - 'x', exclusive creation, failing if the file already exists.\n",
      "        - 'a', append to the end of file if it exists.\n",
      "    \n",
      "    encoding : str, optional\n",
      "        A string representing the encoding to use in the output file,\n",
      "        defaults to 'utf-8'. `encoding` is not supported if `path_or_buf`\n",
      "        is a non-binary file object.\n",
      "    compression : str or dict, default 'infer'\n",
      "        For on-the-fly compression of the output data. If 'infer' and 'path_or_buf' is\n",
      "        path-like, then detect compression from the following extensions: '.gz',\n",
      "        '.bz2', '.zip', '.xz', '.zst', '.tar', '.tar.gz', '.tar.xz' or '.tar.bz2'\n",
      "        (otherwise no compression).\n",
      "        Set to ``None`` for no compression.\n",
      "        Can also be a dict with key ``'method'`` set\n",
      "        to one of {``'zip'``, ``'gzip'``, ``'bz2'``, ``'zstd'``, ``'xz'``, ``'tar'``} and\n",
      "        other key-value pairs are forwarded to\n",
      "        ``zipfile.ZipFile``, ``gzip.GzipFile``,\n",
      "        ``bz2.BZ2File``, ``zstandard.ZstdCompressor``, ``lzma.LZMAFile`` or\n",
      "        ``tarfile.TarFile``, respectively.\n",
      "        As an example, the following could be passed for faster compression and to create\n",
      "        a reproducible gzip archive:\n",
      "        ``compression={'method': 'gzip', 'compresslevel': 1, 'mtime': 1}``.\n",
      "    \n",
      "        .. versionadded:: 1.5.0\n",
      "            Added support for `.tar` files.\n",
      "    \n",
      "           May be a dict with key 'method' as compression mode\n",
      "           and other entries as additional compression options if\n",
      "           compression mode is 'zip'.\n",
      "    \n",
      "           Passing compression options as keys in dict is\n",
      "           supported for compression modes 'gzip', 'bz2', 'zstd', and 'zip'.\n",
      "    quoting : optional constant from csv module\n",
      "        Defaults to csv.QUOTE_MINIMAL. If you have set a `float_format`\n",
      "        then floats are converted to strings and thus csv.QUOTE_NONNUMERIC\n",
      "        will treat them as non-numeric.\n",
      "    quotechar : str, default '\\\"'\n",
      "        String of length 1. Character used to quote fields.\n",
      "    lineterminator : str, optional\n",
      "        The newline character or character sequence to use in the output\n",
      "        file. Defaults to `os.linesep`, which depends on the OS in which\n",
      "        this method is called ('\\\\n' for linux, '\\\\r\\\\n' for Windows, i.e.).\n",
      "    \n",
      "        .. versionchanged:: 1.5.0\n",
      "    \n",
      "            Previously was line_terminator, changed for consistency with\n",
      "            read_csv and the standard library 'csv' module.\n",
      "    \n",
      "    chunksize : int or None\n",
      "        Rows to write at a time.\n",
      "    date_format : str, default None\n",
      "        Format string for datetime objects.\n",
      "    doublequote : bool, default True\n",
      "        Control quoting of `quotechar` inside a field.\n",
      "    escapechar : str, default None\n",
      "        String of length 1. Character used to escape `sep` and `quotechar`\n",
      "        when appropriate.\n",
      "    decimal : str, default '.'\n",
      "        Character recognized as decimal separator. E.g. use ',' for\n",
      "        European data.\n",
      "    errors : str, default 'strict'\n",
      "        Specifies how encoding and decoding errors are to be handled.\n",
      "        See the errors argument for :func:`open` for a full list\n",
      "        of options.\n",
      "    \n",
      "    storage_options : dict, optional\n",
      "        Extra options that make sense for a particular storage connection, e.g.\n",
      "        host, port, username, password, etc. For HTTP(S) URLs the key-value pairs\n",
      "        are forwarded to ``urllib.request.Request`` as header options. For other\n",
      "        URLs (e.g. starting with \"s3://\", and \"gcs://\") the key-value pairs are\n",
      "        forwarded to ``fsspec.open``. Please see ``fsspec`` and ``urllib`` for more\n",
      "        details, and for more examples on storage options refer `here\n",
      "        <https://pandas.pydata.org/docs/user_guide/io.html?\n",
      "        highlight=storage_options#reading-writing-remote-files>`_.\n",
      "    \n",
      "    Returns\n",
      "    -------\n",
      "    None or str\n",
      "        If path_or_buf is None, returns the resulting csv format as a\n",
      "        string. Otherwise returns None.\n",
      "    \n",
      "    See Also\n",
      "    --------\n",
      "    read_csv : Load a CSV file into a DataFrame.\n",
      "    to_excel : Write DataFrame to an Excel file.\n",
      "    \n",
      "    Examples\n",
      "    --------\n",
      "    Create 'out.csv' containing 'df' without indices\n",
      "    \n",
      "    >>> df = pd.DataFrame({'name': ['Raphael', 'Donatello'],\n",
      "    ...                    'mask': ['red', 'purple'],\n",
      "    ...                    'weapon': ['sai', 'bo staff']})\n",
      "    >>> df.to_csv('out.csv', index=False)  # doctest: +SKIP\n",
      "    \n",
      "    Create 'out.zip' containing 'out.csv'\n",
      "    \n",
      "    >>> df.to_csv(index=False)\n",
      "    'name,mask,weapon\\nRaphael,red,sai\\nDonatello,purple,bo staff\\n'\n",
      "    >>> compression_opts = dict(method='zip',\n",
      "    ...                         archive_name='out.csv')  # doctest: +SKIP\n",
      "    >>> df.to_csv('out.zip', index=False,\n",
      "    ...           compression=compression_opts)  # doctest: +SKIP\n",
      "    \n",
      "    To write a csv file to a new folder or nested folder you will first\n",
      "    need to create it using either Pathlib or os:\n",
      "    \n",
      "    >>> from pathlib import Path  # doctest: +SKIP\n",
      "    >>> filepath = Path('folder/subfolder/out.csv')  # doctest: +SKIP\n",
      "    >>> filepath.parent.mkdir(parents=True, exist_ok=True)  # doctest: +SKIP\n",
      "    >>> df.to_csv(filepath)  # doctest: +SKIP\n",
      "    \n",
      "    >>> import os  # doctest: +SKIP\n",
      "    >>> os.makedirs('folder/subfolder', exist_ok=True)  # doctest: +SKIP\n",
      "    >>> df.to_csv('folder/subfolder/out.csv')  # doctest: +SKIP\n",
      "\n"
     ]
    }
   ],
   "source": [
    "help(america_data.to_csv)"
   ]
  },
  {
   "cell_type": "markdown",
   "id": "150e4bb5-39d5-4b8a-a366-b5a1a75ac3ad",
   "metadata": {},
   "source": [
    "4. Try writing to a CSV file using the code below (giving your own filename). Take a look in the data folder and check it's there.\n",
    "```\n",
    "data_americas.to_csv('data/new_file_name.csv')\n",
    "```"
   ]
  },
  {
   "cell_type": "code",
   "execution_count": 30,
   "id": "484efc19-edc1-4019-82d0-05a86db786a6",
   "metadata": {
    "editable": true,
    "slideshow": {
     "slide_type": ""
    },
    "tags": [
     "clear_answer_cell"
    ]
   },
   "outputs": [],
   "source": [
    "america_data.to_csv('../data/new_file_name.csv')"
   ]
  },
  {
   "cell_type": "code",
   "execution_count": null,
   "id": "abd74cf5-1b16-4e3d-bb4a-466f02d52c12",
   "metadata": {},
   "outputs": [],
   "source": []
  }
 ],
 "metadata": {
  "kernelspec": {
   "display_name": "Python 3 + Jaspy",
   "language": "python",
   "name": "jaspy"
  },
  "language_info": {
   "codemirror_mode": {
    "name": "ipython",
    "version": 3
   },
   "file_extension": ".py",
   "mimetype": "text/x-python",
   "name": "python",
   "nbconvert_exporter": "python",
   "pygments_lexer": "ipython3",
   "version": "3.11.9"
  }
 },
 "nbformat": 4,
 "nbformat_minor": 5
}
