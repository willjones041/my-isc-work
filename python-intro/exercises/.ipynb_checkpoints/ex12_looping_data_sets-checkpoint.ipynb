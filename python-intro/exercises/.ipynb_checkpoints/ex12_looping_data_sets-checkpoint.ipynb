{
 "cells": [
  {
   "cell_type": "markdown",
   "id": "5705908d-f299-44e0-a8fd-4f6c97e539cf",
   "metadata": {
    "editable": true,
    "slideshow": {
     "slide_type": ""
    },
    "tags": []
   },
   "source": [
    "# Exercise 12: Looping Over Data Sets"
   ]
  },
  {
   "cell_type": "markdown",
   "id": "e18f0b69-68ac-45ba-bcd3-faf7ed81b7d3",
   "metadata": {},
   "source": [
    "## Aim: Use `glob` to find sets of files, and write loops to perform operations on files. "
   ]
  },
  {
   "cell_type": "markdown",
   "id": "450ff8b3-ed3c-49a0-97b7-2eeccac09a9f",
   "metadata": {},
   "source": [
    "### Issues covered:\n",
    "- Using a `for` loop to loop over a given list of files\n",
    "- Using `glob` to match patterns of files\n",
    "- Looping over sets of files using `glob`\n",
    "- Using `glob` and `for` to process data from mutliple files"
   ]
  },
  {
   "cell_type": "markdown",
   "id": "ebdfcb2f-a714-4372-9d3d-5cae6baf3ee5",
   "metadata": {},
   "source": [
    "## 1. Looping over files from a simple list"
   ]
  },
  {
   "cell_type": "markdown",
   "id": "e102a051-77a9-45de-9d73-57d43ebca41e",
   "metadata": {
    "editable": true,
    "slideshow": {
     "slide_type": ""
    },
    "tags": []
   },
   "source": [
    "Use a `for` loop to loop over the files in the data folder (americas_gdp.csv, europe_gdp.csv and oceania_gdp.csv) and print out the maxima of the datasets."
   ]
  },
  {
   "cell_type": "code",
   "execution_count": 5,
   "id": "983f2f86-5da7-44e6-beac-33b4ec229ba8",
   "metadata": {
    "editable": true,
    "slideshow": {
     "slide_type": ""
    },
    "tags": [
     "clear_answer_cell"
    ]
   },
   "outputs": [
    {
     "name": "stdout",
     "output_type": "stream",
     "text": [
      "continent            Americas\n",
      "country             Venezuela\n",
      "gdpPercap_1952    13990.48208\n",
      "gdpPercap_1957    14847.12712\n",
      "gdpPercap_1962    16173.14586\n",
      "gdpPercap_1967    19530.36557\n",
      "gdpPercap_1972    21806.03594\n",
      "gdpPercap_1977    24072.63213\n",
      "gdpPercap_1982    25009.55914\n",
      "gdpPercap_1987    29884.35041\n",
      "gdpPercap_1992    32003.93224\n",
      "gdpPercap_1997    35767.43303\n",
      "gdpPercap_2002    39097.09955\n",
      "gdpPercap_2007    42951.65309\n",
      "dtype: object\n",
      "country           United Kingdom\n",
      "gdpPercap_1952       14734.23275\n",
      "gdpPercap_1957       17909.48973\n",
      "gdpPercap_1962        20431.0927\n",
      "gdpPercap_1967       22966.14432\n",
      "gdpPercap_1972       27195.11304\n",
      "gdpPercap_1977       26982.29052\n",
      "gdpPercap_1982       28397.71512\n",
      "gdpPercap_1987        31540.9748\n",
      "gdpPercap_1992       33965.66115\n",
      "gdpPercap_1997       41283.16433\n",
      "gdpPercap_2002       44683.97525\n",
      "gdpPercap_2007       49357.19017\n",
      "dtype: object\n",
      "country           New Zealand\n",
      "gdpPercap_1952    10556.57566\n",
      "gdpPercap_1957    12247.39532\n",
      "gdpPercap_1962      13175.678\n",
      "gdpPercap_1967    14526.12465\n",
      "gdpPercap_1972    16788.62948\n",
      "gdpPercap_1977    18334.19751\n",
      "gdpPercap_1982    19477.00928\n",
      "gdpPercap_1987    21888.88903\n",
      "gdpPercap_1992    23424.76683\n",
      "gdpPercap_1997    26997.93657\n",
      "gdpPercap_2002    30687.75473\n",
      "gdpPercap_2007    34435.36744\n",
      "dtype: object\n"
     ]
    }
   ],
   "source": [
    "import pandas as pd\n",
    "for filename in [\"../data/americas_gdp.csv\", \"../data/europe_gdp.csv\",\"../data/oceania_gdp.csv\"]:\n",
    "    print(pd.read_csv(filename).max())\n",
    "    "
   ]
  },
  {
   "cell_type": "markdown",
   "id": "2ea7848d-2d2f-4cdd-b0bc-e7f6fcacbdf1",
   "metadata": {},
   "source": [
    "## 2. Using `glob` to loop through files"
   ]
  },
  {
   "cell_type": "markdown",
   "id": "dc15445c-8337-4c37-ac17-8c026fe58845",
   "metadata": {},
   "source": [
    "What do you think `glob.glob('*.ipynb')` will return? Try it and see."
   ]
  },
  {
   "cell_type": "code",
   "execution_count": 16,
   "id": "ea1f697c-676a-4fbe-a54a-59b1bc554cb5",
   "metadata": {
    "editable": true,
    "slideshow": {
     "slide_type": ""
    },
    "tags": [
     "clear_answer_cell"
    ]
   },
   "outputs": [
    {
     "data": {
      "text/plain": [
       "['ex06_dataframes.ipynb',\n",
       " 'ex05_libraries.ipynb',\n",
       " 'ex07_pandas_dataframes.ipynb',\n",
       " 'ex10_for_loops.ipynb',\n",
       " 'ex14_variable_scope.ipynb',\n",
       " 'ex12_looping_data_sets.ipynb',\n",
       " 'ex08_plotting.ipynb',\n",
       " 'ex13_writing_functions.ipynb',\n",
       " 'ex16_wrap_up.ipynb',\n",
       " 'ex02_variables_assignment.ipynb',\n",
       " 'ex03_data_types.ipynb',\n",
       " 'ex11_conditionals.ipynb',\n",
       " 'ex15_programming_style.ipynb',\n",
       " 'ex01_running_notebooks.ipynb',\n",
       " 'ex09_lists.ipynb',\n",
       " 'ex04_built_in_functions.ipynb',\n",
       " 'birdy.ipynb']"
      ]
     },
     "execution_count": 16,
     "metadata": {},
     "output_type": "execute_result"
    }
   ],
   "source": [
    "import glob\n",
    "from pathlib import Path\n",
    "glob.glob('*.ipynb')\n"
   ]
  },
  {
   "cell_type": "markdown",
   "id": "6683d4b0-914f-4f05-bb6f-bd6a2664a85a",
   "metadata": {},
   "source": [
    "How can we return only the files for exercises 1-9?"
   ]
  },
  {
   "cell_type": "code",
   "execution_count": 17,
   "id": "9580a2d9-8269-4b40-81c8-5f0bba20c5f7",
   "metadata": {
    "editable": true,
    "slideshow": {
     "slide_type": ""
    },
    "tags": [
     "clear_answer_cell"
    ]
   },
   "outputs": [
    {
     "data": {
      "text/plain": [
       "['ex06_dataframes.ipynb',\n",
       " 'ex05_libraries.ipynb',\n",
       " 'ex07_pandas_dataframes.ipynb',\n",
       " 'ex08_plotting.ipynb',\n",
       " 'ex02_variables_assignment.ipynb',\n",
       " 'ex03_data_types.ipynb',\n",
       " 'ex01_running_notebooks.ipynb',\n",
       " 'ex09_lists.ipynb',\n",
       " 'ex04_built_in_functions.ipynb']"
      ]
     },
     "execution_count": 17,
     "metadata": {},
     "output_type": "execute_result"
    }
   ],
   "source": [
    "glob.glob('ex0*.ipynb')"
   ]
  },
  {
   "cell_type": "markdown",
   "id": "dfa0bb84-9b31-4a45-845a-412b244a66b8",
   "metadata": {},
   "source": [
    "Which exercises have coffee in their title?"
   ]
  },
  {
   "cell_type": "code",
   "execution_count": 20,
   "id": "dadb89cd-7978-4b2c-a3fb-0043b706182a",
   "metadata": {
    "editable": true,
    "slideshow": {
     "slide_type": ""
    },
    "tags": [
     "clear_answer_cell"
    ]
   },
   "outputs": [
    {
     "name": "stdout",
     "output_type": "stream",
     "text": [
      "False\n"
     ]
    }
   ],
   "source": [
    "if glob.glob('*coffee*'):\n",
    "    print('True')\n",
    "else:\n",
    "    print('False')\n"
   ]
  },
  {
   "cell_type": "markdown",
   "id": "61558e1f-e1ab-4f74-bb5e-b91876b18e31",
   "metadata": {},
   "source": [
    "## 3. Using `glob` and `for` to process files"
   ]
  },
  {
   "cell_type": "markdown",
   "id": "a1c888ca-63e3-45ca-acff-2f19941bd761",
   "metadata": {},
   "source": [
    "Write a `for` loop which loops through all of the files containing `gdp` in the title, write the data to a dataframe, then print the dataframe minimum for all columns (using `.min()`)."
   ]
  },
  {
   "cell_type": "code",
   "execution_count": 44,
   "id": "2c667ae6-5674-4532-a5f6-6b67d10cf531",
   "metadata": {
    "editable": true,
    "slideshow": {
     "slide_type": ""
    },
    "tags": [
     "clear_answer_cell"
    ]
   },
   "outputs": [
    {
     "name": "stdout",
     "output_type": "stream",
     "text": [
      "[country             Australia\n",
      "gdpPercap_1952    10039.59564\n",
      "gdpPercap_1957    10949.64959\n",
      "gdpPercap_1962    12217.22686\n",
      "gdpPercap_1967    14463.91893\n",
      "gdpPercap_1972    16046.03728\n",
      "gdpPercap_1977     16233.7177\n",
      "gdpPercap_1982     17632.4104\n",
      "gdpPercap_1987    19007.19129\n",
      "gdpPercap_1992    18363.32494\n",
      "gdpPercap_1997    21050.41377\n",
      "gdpPercap_2002    23189.80135\n",
      "gdpPercap_2007    25185.00911\n",
      "dtype: object, country               Albania\n",
      "gdpPercap_1952     973.533195\n",
      "gdpPercap_1957    1353.989176\n",
      "gdpPercap_1962    1709.683679\n",
      "gdpPercap_1967    2172.352423\n",
      "gdpPercap_1972     2860.16975\n",
      "gdpPercap_1977    3528.481305\n",
      "gdpPercap_1982    3630.880722\n",
      "gdpPercap_1987    3738.932735\n",
      "gdpPercap_1992    2497.437901\n",
      "gdpPercap_1997    3193.054604\n",
      "gdpPercap_2002    4604.211737\n",
      "gdpPercap_2007    5937.029526\n",
      "dtype: object, continent            Americas\n",
      "country             Argentina\n",
      "gdpPercap_1952    1397.717137\n",
      "gdpPercap_1957    1544.402995\n",
      "gdpPercap_1962    1662.137359\n",
      "gdpPercap_1967    1452.057666\n",
      "gdpPercap_1972    1654.456946\n",
      "gdpPercap_1977    1874.298931\n",
      "gdpPercap_1982    2011.159549\n",
      "gdpPercap_1987    1823.015995\n",
      "gdpPercap_1992    1456.309517\n",
      "gdpPercap_1997    1341.726931\n",
      "gdpPercap_2002    1270.364932\n",
      "gdpPercap_2007    1201.637154\n",
      "dtype: object]\n"
     ]
    }
   ],
   "source": [
    "filemins =[]\n",
    "for filename in Path('../data').glob('*gdp*'):\n",
    "    dataframe = pd.read_csv(filename)\n",
    "    filemins.append(dataframe.min())\n",
    "print(filemins)\n",
    "    \n",
    "    \n",
    "    "
   ]
  },
  {
   "cell_type": "code",
   "execution_count": null,
   "id": "a851ef57-c12e-45f9-bb77-5f75a5712aed",
   "metadata": {
    "editable": true,
    "slideshow": {
     "slide_type": ""
    },
    "tags": []
   },
   "outputs": [],
   "source": []
  },
  {
   "cell_type": "code",
   "execution_count": null,
   "id": "22045bde-b661-4cab-9727-6f9231ec81df",
   "metadata": {},
   "outputs": [],
   "source": []
  }
 ],
 "metadata": {
  "kernelspec": {
   "display_name": "Python 3 + Jaspy",
   "language": "python",
   "name": "jaspy"
  },
  "language_info": {
   "codemirror_mode": {
    "name": "ipython",
    "version": 3
   },
   "file_extension": ".py",
   "mimetype": "text/x-python",
   "name": "python",
   "nbconvert_exporter": "python",
   "pygments_lexer": "ipython3",
   "version": "3.11.9"
  }
 },
 "nbformat": 4,
 "nbformat_minor": 5
}
