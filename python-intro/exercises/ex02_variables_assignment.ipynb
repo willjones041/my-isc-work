{
 "cells": [
  {
   "cell_type": "markdown",
   "id": "b6d91885-e3cb-47fe-9e7a-e77472215629",
   "metadata": {
    "editable": true,
    "slideshow": {
     "slide_type": ""
    },
    "tags": []
   },
   "source": [
    "# Exercise 2: Variables and assignment"
   ]
  },
  {
   "cell_type": "markdown",
   "id": "34ea004d-f444-429f-98e5-7182e554b540",
   "metadata": {},
   "source": [
    "## Aim: Introduce Python variables and perform calculations with them."
   ]
  },
  {
   "cell_type": "markdown",
   "id": "bc31ec08-f23a-4368-9b6b-03428c476191",
   "metadata": {},
   "source": [
    "### Issues covered:\n",
    "- Creating variables\n",
    "- Simple arithmetic\n",
    "- Using `print` to display variables\n",
    "- Looking at strings"
   ]
  },
  {
   "cell_type": "markdown",
   "id": "113f922b-3f5e-44a7-9fee-18da97a01b91",
   "metadata": {},
   "source": [
    "## 1. Let's create some variables and print their values"
   ]
  },
  {
   "cell_type": "markdown",
   "id": "113723e4-d440-46cf-b894-e9f2eca0360f",
   "metadata": {},
   "source": [
    "Create a variable called `course` and assign it the value `\"python\"`."
   ]
  },
  {
   "cell_type": "code",
   "execution_count": 1,
   "id": "aee7ac8e-0f0e-4101-88f3-b7ec14d8a5ee",
   "metadata": {
    "editable": true,
    "slideshow": {
     "slide_type": ""
    },
    "tags": [
     "clear_answer_cell"
    ]
   },
   "outputs": [],
   "source": [
    "course = \"python\""
   ]
  },
  {
   "cell_type": "markdown",
   "id": "f664b908-4bad-4829-8f26-a6337956dc5d",
   "metadata": {},
   "source": [
    "Create a variable called `rating` and assign it an integer value of your choice."
   ]
  },
  {
   "cell_type": "code",
   "execution_count": 2,
   "id": "e20badfa-555a-44fb-935c-74a24fd7bad3",
   "metadata": {},
   "outputs": [],
   "source": [
    "rating = 5"
   ]
  },
  {
   "cell_type": "markdown",
   "id": "da90cacb-1d1b-4f47-b62e-561c86f7922e",
   "metadata": {},
   "source": [
    "Print these variables to your screen using the `print` function."
   ]
  },
  {
   "cell_type": "code",
   "execution_count": 3,
   "id": "6bff6894-be87-477c-bd6b-968161f420d5",
   "metadata": {
    "editable": true,
    "slideshow": {
     "slide_type": ""
    },
    "tags": [
     "clear_answer_cell"
    ]
   },
   "outputs": [
    {
     "name": "stdout",
     "output_type": "stream",
     "text": [
      "I rate this python course, 5 out of 5\n"
     ]
    }
   ],
   "source": [
    "print(f'I rate this {course} course, {rating} out of 5')"
   ]
  },
  {
   "cell_type": "markdown",
   "id": "caabe048-f40c-4406-a97f-8940ffd75c1e",
   "metadata": {},
   "source": [
    "Try printing the values without using the `print` function. "
   ]
  },
  {
   "cell_type": "markdown",
   "id": "95fbbbfe-f4f4-448e-aab5-207a6636943c",
   "metadata": {},
   "source": [
    "_Note: This method works in notebooks, however in a script you will need to use `print`._"
   ]
  },
  {
   "cell_type": "code",
   "execution_count": 4,
   "id": "2d5c336d-8af0-4ecc-8e35-16e4e565cabb",
   "metadata": {
    "editable": true,
    "slideshow": {
     "slide_type": ""
    },
    "tags": [
     "clear_answer_cell"
    ]
   },
   "outputs": [
    {
     "data": {
      "text/plain": [
       "'I rate this python course, 5 out of 5'"
      ]
     },
     "execution_count": 4,
     "metadata": {},
     "output_type": "execute_result"
    }
   ],
   "source": [
    "f'I rate this {course} course, {rating} out of 5'"
   ]
  },
  {
   "cell_type": "markdown",
   "id": "9e4ae478-aea0-4a3c-b8ce-4089306655ec",
   "metadata": {},
   "source": [
    "## 2. Let's use Pythagoras' Theorem to calculate the length of the hypotenuse of a right-angled triangle where the other sides have lengths 3 and 4."
   ]
  },
  {
   "cell_type": "markdown",
   "id": "cec659bc-495f-43a7-9b8a-8f5ce2ef45c8",
   "metadata": {},
   "source": [
    "Create variables called `b` and `c` and assign them the values of the sides with known lengths."
   ]
  },
  {
   "cell_type": "code",
   "execution_count": 5,
   "id": "505c6133-8413-43e8-ae33-1333388e2b36",
   "metadata": {
    "editable": true,
    "slideshow": {
     "slide_type": ""
    },
    "tags": [
     "clear_answer_cell"
    ]
   },
   "outputs": [],
   "source": [
    "b,c = 3,4"
   ]
  },
  {
   "cell_type": "markdown",
   "id": "93ccb4e8-42e3-465b-8831-19616221bc70",
   "metadata": {},
   "source": [
    "We can use variables in calculations - try writing a mathematical expression to calculate the length of the hypotenuse."
   ]
  },
  {
   "cell_type": "markdown",
   "id": "703a8e37-1379-4660-91cd-2f4c2cb0414d",
   "metadata": {},
   "source": [
    "_Hint: Remember Pythagoras' Theorem: $a^2$ = $b^2$ + $c^2$_"
   ]
  },
  {
   "cell_type": "code",
   "execution_count": 6,
   "id": "0cb20f6e-2d81-4dcc-8823-7842d3101e12",
   "metadata": {
    "editable": true,
    "slideshow": {
     "slide_type": ""
    },
    "tags": [
     "clear_answer_cell"
    ]
   },
   "outputs": [],
   "source": [
    "a = (b**2 + c**2)**0.5"
   ]
  },
  {
   "cell_type": "markdown",
   "id": "8c691a29-e287-44cb-86ec-f89802f5b61c",
   "metadata": {},
   "source": [
    "If you haven't already, create a variable `a` and set its value to the result of the calculation."
   ]
  },
  {
   "cell_type": "code",
   "execution_count": null,
   "id": "5b6f14b7-f2bb-4ffd-b68e-fa99124fe3af",
   "metadata": {
    "editable": true,
    "slideshow": {
     "slide_type": ""
    },
    "tags": [
     "clear_answer_cell"
    ]
   },
   "outputs": [],
   "source": []
  },
  {
   "cell_type": "markdown",
   "id": "fb56168e-3590-4728-8ffc-a59df028b2f0",
   "metadata": {},
   "source": [
    "Print the value of `a`."
   ]
  },
  {
   "cell_type": "code",
   "execution_count": 7,
   "id": "cad78e7e-cbd2-4b58-b015-20086c1840e6",
   "metadata": {
    "editable": true,
    "slideshow": {
     "slide_type": ""
    },
    "tags": [
     "clear_answer_cell"
    ]
   },
   "outputs": [
    {
     "name": "stdout",
     "output_type": "stream",
     "text": [
      "A triangle with sides of magnitude 3 and 4 will have a hypotenuse of magnitude 5.0\n"
     ]
    }
   ],
   "source": [
    "print(f'A triangle with sides of magnitude {b} and {c} will have a hypotenuse of magnitude {a}')"
   ]
  },
  {
   "cell_type": "markdown",
   "id": "c6893606-fc6d-4642-9d3c-1d0a3c0dcab5",
   "metadata": {},
   "source": [
    "## 3. Let's extract some data from strings."
   ]
  },
  {
   "cell_type": "markdown",
   "id": "354aa762-187e-4acd-8ceb-ff64868b9352",
   "metadata": {},
   "source": [
    "Create a string variable with the value `Centre for Environmental Data Analysis`. How many letters are in this string?"
   ]
  },
  {
   "cell_type": "code",
   "execution_count": 8,
   "id": "6cfadf9c-6cf7-4b20-a31a-a7d46c17e2b2",
   "metadata": {
    "editable": true,
    "slideshow": {
     "slide_type": ""
    },
    "tags": [
     "clear_answer_cell"
    ]
   },
   "outputs": [
    {
     "name": "stdout",
     "output_type": "stream",
     "text": [
      "38\n"
     ]
    }
   ],
   "source": [
    "string = \"Centre for Environmental Data Analysis\"\n",
    "print(len(string))"
   ]
  },
  {
   "cell_type": "markdown",
   "id": "0bb0bc7b-472a-463c-81f0-6c5faad2caba",
   "metadata": {},
   "source": [
    "What is the 30th character of this string? _Hint: You should get \" \"_."
   ]
  },
  {
   "cell_type": "code",
   "execution_count": 9,
   "id": "74d502ff-9f95-4308-befb-2d640b19fcd5",
   "metadata": {
    "editable": true,
    "slideshow": {
     "slide_type": ""
    },
    "tags": [
     "clear_answer_cell"
    ]
   },
   "outputs": [
    {
     "name": "stdout",
     "output_type": "stream",
     "text": [
      " \n"
     ]
    }
   ],
   "source": [
    "print(string[29])"
   ]
  },
  {
   "cell_type": "markdown",
   "id": "6b8b23e2-dd3f-46d4-8767-de2f3e2e77f3",
   "metadata": {},
   "source": [
    "If you take a slice from the 11th to 24th characters, what does this say?"
   ]
  },
  {
   "cell_type": "code",
   "execution_count": 10,
   "id": "618640a2-6337-470c-ac6b-ad936969ed3a",
   "metadata": {
    "editable": true,
    "slideshow": {
     "slide_type": ""
    },
    "tags": [
     "clear_answer_cell"
    ]
   },
   "outputs": [
    {
     "name": "stdout",
     "output_type": "stream",
     "text": [
      " Environmental \n"
     ]
    }
   ],
   "source": [
    "print(string[10:25])"
   ]
  },
  {
   "cell_type": "markdown",
   "id": "41f6c7a8-eb2b-4f09-9042-003dcf48b4d5",
   "metadata": {},
   "source": [
    "Return only `Data Analysis` from the string. _Hint: The D in Data is the 26th character_."
   ]
  },
  {
   "cell_type": "code",
   "execution_count": 12,
   "id": "713349a7-0340-4a42-baf1-5ba5f53f0778",
   "metadata": {
    "editable": true,
    "slideshow": {
     "slide_type": ""
    },
    "tags": [
     "clear_answer_cell"
    ]
   },
   "outputs": [
    {
     "name": "stdout",
     "output_type": "stream",
     "text": [
      "Data Analysis\n"
     ]
    }
   ],
   "source": [
    "print(string[25:])"
   ]
  }
 ],
 "metadata": {
  "kernelspec": {
   "display_name": "Python 3 + Jaspy",
   "language": "python",
   "name": "jaspy"
  },
  "language_info": {
   "codemirror_mode": {
    "name": "ipython",
    "version": 3
   },
   "file_extension": ".py",
   "mimetype": "text/x-python",
   "name": "python",
   "nbconvert_exporter": "python",
   "pygments_lexer": "ipython3",
   "version": "3.11.9"
  }
 },
 "nbformat": 4,
 "nbformat_minor": 5
}
