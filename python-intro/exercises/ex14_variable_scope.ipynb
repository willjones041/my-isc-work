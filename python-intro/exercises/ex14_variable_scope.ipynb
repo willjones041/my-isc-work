{
 "cells": [
  {
   "cell_type": "markdown",
   "id": "03b333fc-12f9-4b13-b12c-6d86f0be5088",
   "metadata": {
    "editable": true,
    "slideshow": {
     "slide_type": ""
    },
    "tags": []
   },
   "source": [
    "# Exercise 14: Variable Scope"
   ]
  },
  {
   "cell_type": "markdown",
   "id": "632bf244-55f6-4948-a1a4-cb7f0e4c7389",
   "metadata": {},
   "source": [
    "## Aim: Learn about local and global variables."
   ]
  },
  {
   "cell_type": "markdown",
   "id": "57cc03fe-7f4d-4921-bd94-32f603685ec2",
   "metadata": {},
   "source": [
    "### Issues covered:\n",
    "- Learn the difference between local and global variables\n",
    "- Make sure to define variables in the right scope\n",
    "- Learn to locate where errors are using the traceback"
   ]
  },
  {
   "cell_type": "markdown",
   "id": "76f4fa10-5b91-48b5-84d0-b1dc8d8e8baf",
   "metadata": {},
   "source": [
    "## 1. Let's take a look at local variables"
   ]
  },
  {
   "cell_type": "markdown",
   "id": "16907e9f-fb50-4c65-9e4f-d53e92ec94e4",
   "metadata": {},
   "source": [
    "What is the problem with the program below? Fix the error to print out the temperature.\n",
    "```\n",
    "change = 1.0\n",
    "\n",
    "def change_temperature(change):\n",
    "    temperature = 100 - change\n",
    "    return temperature\n",
    "\n",
    "print(temperature)\n",
    "```"
   ]
  },
  {
   "cell_type": "code",
   "execution_count": 1,
   "id": "388de809-e5ff-45ea-bfe9-c59ac26e612a",
   "metadata": {
    "editable": true,
    "execution": {
     "iopub.execute_input": "2023-10-23T10:34:35.678663Z",
     "iopub.status.busy": "2023-10-23T10:34:35.678077Z",
     "iopub.status.idle": "2023-10-23T10:34:35.700664Z",
     "shell.execute_reply": "2023-10-23T10:34:35.699418Z"
    },
    "slideshow": {
     "slide_type": ""
    },
    "tags": [
     "clear_answer_cell"
    ]
   },
   "outputs": [],
   "source": []
  },
  {
   "cell_type": "markdown",
   "id": "e060edc5-0525-424b-b5c7-db43d07096fa",
   "metadata": {},
   "source": [
    "## 2. Let's investigate the difference between local and global variables."
   ]
  },
  {
   "cell_type": "markdown",
   "id": "0def6002-2f53-4ccb-8623-cebb479ed952",
   "metadata": {},
   "source": [
    "Run the block of code below. Do you know why the value of temperature doesn't change? How can you make the value of temperature reflect the changes from the `change_temperature` function?\n",
    "```\n",
    "temperature = 100\n",
    "\n",
    "def change_temperature():\n",
    "    temperature = 0\n",
    "    return temperature\n",
    "\n",
    "print(temperature)\n",
    "change_temperature()\n",
    "print(temperature)\n",
    "```"
   ]
  },
  {
   "cell_type": "code",
   "execution_count": 2,
   "id": "ab96c328-8cf1-47e4-b0b8-64d75744c09f",
   "metadata": {
    "editable": true,
    "execution": {
     "iopub.execute_input": "2023-10-23T10:34:35.705726Z",
     "iopub.status.busy": "2023-10-23T10:34:35.705192Z",
     "iopub.status.idle": "2023-10-23T10:34:35.718066Z",
     "shell.execute_reply": "2023-10-23T10:34:35.716921Z"
    },
    "slideshow": {
     "slide_type": ""
    },
    "tags": [
     "clear_answer_cell"
    ]
   },
   "outputs": [],
   "source": []
  },
  {
   "cell_type": "markdown",
   "id": "d0a678e6-282f-48c9-8560-226dddb4fa3a",
   "metadata": {},
   "source": [
    "## 3. Let's take a look at some error messages and learn to understand them"
   ]
  },
  {
   "cell_type": "markdown",
   "id": "b2f0b2a0-f538-4e88-a409-34f177ee01e9",
   "metadata": {},
   "source": [
    "What is the issue with this block of code? Take a look at the type of error and the error message given.\n",
    "```\n",
    "def print_friday_message():\n",
    "    print_message(\"Friday\")\n",
    "\n",
    "print_friday_message()\n",
    "```"
   ]
  },
  {
   "cell_type": "code",
   "execution_count": 3,
   "id": "b58b450b-fa0e-447a-8e05-a92009fec5a4",
   "metadata": {
    "editable": true,
    "execution": {
     "iopub.execute_input": "2023-10-23T10:34:35.722683Z",
     "iopub.status.busy": "2023-10-23T10:34:35.722186Z",
     "iopub.status.idle": "2023-10-23T10:34:36.171828Z",
     "shell.execute_reply": "2023-10-23T10:34:36.170948Z"
    },
    "slideshow": {
     "slide_type": ""
    },
    "tags": [
     "clear_answer_cell",
     "allow_errors"
    ]
   },
   "outputs": [],
   "source": []
  },
  {
   "cell_type": "markdown",
   "id": "a2452637-868a-440a-8acc-d52b4f5b1f4c",
   "metadata": {},
   "source": [
    "Define a function called `print_message` which has the day as an argument and prints \"Today is <day>\" for any day given. Then write a new function called `print_friday_message` which uses `print_message` to print \"Today is Friday\". Does this run without an error now?"
   ]
  },
  {
   "cell_type": "code",
   "execution_count": 4,
   "id": "8ace02b1-e014-4493-b31e-b64a9137f1fb",
   "metadata": {
    "editable": true,
    "execution": {
     "iopub.execute_input": "2023-10-23T10:34:36.177441Z",
     "iopub.status.busy": "2023-10-23T10:34:36.177229Z",
     "iopub.status.idle": "2023-10-23T10:34:36.182423Z",
     "shell.execute_reply": "2023-10-23T10:34:36.181828Z"
    },
    "slideshow": {
     "slide_type": ""
    },
    "tags": [
     "clear_answer_cell"
    ]
   },
   "outputs": [],
   "source": []
  },
  {
   "cell_type": "code",
   "execution_count": null,
   "id": "a085781d-cd86-4a07-bcea-b8902261e1b3",
   "metadata": {},
   "outputs": [],
   "source": []
  }
 ],
 "metadata": {
  "kernelspec": {
   "display_name": "Python 3 + Jaspy",
   "language": "python",
   "name": "jaspy"
  },
  "language_info": {
   "codemirror_mode": {
    "name": "ipython",
    "version": 3
   },
   "file_extension": ".py",
   "mimetype": "text/x-python",
   "name": "python",
   "nbconvert_exporter": "python",
   "pygments_lexer": "ipython3",
   "version": "3.11.9"
  }
 },
 "nbformat": 4,
 "nbformat_minor": 5
}
