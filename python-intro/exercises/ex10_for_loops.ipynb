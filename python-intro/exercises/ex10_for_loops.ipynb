{
 "cells": [
  {
   "cell_type": "markdown",
   "id": "152bcc58-9a3c-44e5-ab8c-0edde2576d34",
   "metadata": {
    "editable": true,
    "slideshow": {
     "slide_type": ""
    },
    "tags": []
   },
   "source": [
    "# Exercise 10: For Loops"
   ]
  },
  {
   "cell_type": "markdown",
   "id": "c24a1448-d258-4903-8c86-34bcf78202c8",
   "metadata": {},
   "source": [
    "## Aim: Understand what `for` loops are usually used for and learn how to implement them."
   ]
  },
  {
   "cell_type": "markdown",
   "id": "5deaf7ac-bc39-4781-aadb-4ae559ca5cd4",
   "metadata": {},
   "source": [
    "## Issues covered:\n",
    "- Looking at some basic `for` loops\n",
    "- Writing some basic `for` loops\n",
    "- Using `for` loops to loop through strings"
   ]
  },
  {
   "cell_type": "markdown",
   "id": "04e8fa99-8959-4faf-abe0-11be799eb813",
   "metadata": {},
   "source": [
    "## 1. Taking a look at some `for` loops"
   ]
  },
  {
   "cell_type": "markdown",
   "id": "5c50f031-c20b-4b3c-8b9e-f83c550202a0",
   "metadata": {},
   "source": [
    "Why does this `for` loop return an error? Can you fix the problem and re-run it?\n",
    "```\n",
    "for letter in ['a', 'b', 'c', 'd']\n",
    "print(letter)\n",
    "```"
   ]
  },
  {
   "cell_type": "code",
   "execution_count": 1,
   "id": "956fc818-c5b6-4570-b8c7-ca8af326dfdd",
   "metadata": {
    "editable": true,
    "execution": {
     "iopub.execute_input": "2023-10-23T10:35:25.914036Z",
     "iopub.status.busy": "2023-10-23T10:35:25.912877Z",
     "iopub.status.idle": "2023-10-23T10:35:25.929241Z",
     "shell.execute_reply": "2023-10-23T10:35:25.928430Z"
    },
    "slideshow": {
     "slide_type": ""
    },
    "tags": [
     "clear_answer_cell"
    ]
   },
   "outputs": [],
   "source": []
  },
  {
   "cell_type": "markdown",
   "id": "e18a09af-34e8-4dae-af2d-85fb87fa32eb",
   "metadata": {},
   "source": [
    "## 2. Writing some `for` loops"
   ]
  },
  {
   "cell_type": "markdown",
   "id": "354eba71-94be-4b7b-82d7-926771066889",
   "metadata": {},
   "source": [
    "Write a `for` loop which prints out every number between 100 and 110 (including 100 and 110)."
   ]
  },
  {
   "cell_type": "markdown",
   "id": "9ff6ebb8-60ca-4821-9a93-98e6cb322f93",
   "metadata": {},
   "source": [
    "_Hint: Use `range()`._"
   ]
  },
  {
   "cell_type": "code",
   "execution_count": 2,
   "id": "8ecd51cb-22ab-4f8f-ae5f-dbf940154b0b",
   "metadata": {
    "editable": true,
    "execution": {
     "iopub.execute_input": "2023-10-23T10:35:25.933286Z",
     "iopub.status.busy": "2023-10-23T10:35:25.932895Z",
     "iopub.status.idle": "2023-10-23T10:35:25.944965Z",
     "shell.execute_reply": "2023-10-23T10:35:25.944003Z"
    },
    "slideshow": {
     "slide_type": ""
    },
    "tags": [
     "clear_answer_cell"
    ]
   },
   "outputs": [],
   "source": []
  },
  {
   "cell_type": "markdown",
   "id": "a0cc9e4a-ac7e-4b7a-baee-ee573db34be1",
   "metadata": {},
   "source": [
    "Write a `for` loop which calculates the number of letters in `software carpentry`. You should know the answer you're expecting from the last exercise!"
   ]
  },
  {
   "cell_type": "markdown",
   "id": "3be5ede1-a711-4fb0-b068-7da72d1f5519",
   "metadata": {},
   "source": [
    "_Hint: Create a variable to use as a counter._"
   ]
  },
  {
   "cell_type": "code",
   "execution_count": 3,
   "id": "0d664c0f-e5c4-4c3b-9e83-9edadd4c7256",
   "metadata": {
    "editable": true,
    "execution": {
     "iopub.execute_input": "2023-10-23T10:35:25.949983Z",
     "iopub.status.busy": "2023-10-23T10:35:25.949475Z",
     "iopub.status.idle": "2023-10-23T10:35:25.956830Z",
     "shell.execute_reply": "2023-10-23T10:35:25.955690Z"
    },
    "slideshow": {
     "slide_type": ""
    },
    "tags": [
     "clear_answer_cell"
    ]
   },
   "outputs": [],
   "source": []
  },
  {
   "cell_type": "markdown",
   "id": "723689b0-3b3a-4459-9ee0-352ad30e5d1b",
   "metadata": {},
   "source": [
    "Write a `for` loop which reverses the order of characters in the `software carpentry` string."
   ]
  },
  {
   "cell_type": "code",
   "execution_count": 4,
   "id": "822b49d8-e5fe-42e9-b99b-0e67c09d18fd",
   "metadata": {
    "editable": true,
    "execution": {
     "iopub.execute_input": "2023-10-23T10:35:25.961126Z",
     "iopub.status.busy": "2023-10-23T10:35:25.960684Z",
     "iopub.status.idle": "2023-10-23T10:35:25.967160Z",
     "shell.execute_reply": "2023-10-23T10:35:25.966241Z"
    },
    "slideshow": {
     "slide_type": ""
    },
    "tags": [
     "clear_answer_cell"
    ]
   },
   "outputs": [],
   "source": []
  },
  {
   "cell_type": "markdown",
   "id": "5828e11c-db2e-4adf-9456-6f33e7d5ac23",
   "metadata": {},
   "source": [
    "The following lines of code can be put together to form a loop which prints every multiple of 10 between 1 and 100. Rearrange them to make it work.\n",
    "```\n",
    "if (number%10) == 0:\n",
    "for number in range(100):\n",
    "print (number)\n",
    "```\n",
    "_(we're going to learn more about `if` statements next lesson, they're very useful!)_"
   ]
  },
  {
   "cell_type": "code",
   "execution_count": 5,
   "id": "e69de620-09f0-4deb-9e76-827c049b3a64",
   "metadata": {
    "editable": true,
    "execution": {
     "iopub.execute_input": "2023-10-23T10:35:25.971386Z",
     "iopub.status.busy": "2023-10-23T10:35:25.971020Z",
     "iopub.status.idle": "2023-10-23T10:35:25.977886Z",
     "shell.execute_reply": "2023-10-23T10:35:25.977063Z"
    },
    "slideshow": {
     "slide_type": ""
    },
    "tags": [
     "clear_answer_cell"
    ]
   },
   "outputs": [],
   "source": []
  },
  {
   "cell_type": "markdown",
   "id": "5d8c5eaa-410c-48ea-a655-2af1a8185daf",
   "metadata": {},
   "source": [
    "## 3. Using `for` loops to loop through strings"
   ]
  },
  {
   "cell_type": "markdown",
   "id": "3f86646d-c80a-4477-b0a2-b74564ee47f2",
   "metadata": {},
   "source": [
    "We can also use loops to loop through the characters in a string. Create a string with the value `I love to write Python` and loop through it using `for` to display each value."
   ]
  },
  {
   "cell_type": "code",
   "execution_count": 6,
   "id": "632c776f-4648-4360-afe8-89214097415e",
   "metadata": {
    "editable": true,
    "execution": {
     "iopub.execute_input": "2023-10-23T10:35:25.982240Z",
     "iopub.status.busy": "2023-10-23T10:35:25.981831Z",
     "iopub.status.idle": "2023-10-23T10:35:25.988334Z",
     "shell.execute_reply": "2023-10-23T10:35:25.986920Z"
    },
    "slideshow": {
     "slide_type": ""
    },
    "tags": [
     "clear_answer_cell"
    ]
   },
   "outputs": [],
   "source": []
  }
 ],
 "metadata": {
  "kernelspec": {
   "display_name": "Python 3 + Jaspy",
   "language": "python",
   "name": "jaspy"
  },
  "language_info": {
   "codemirror_mode": {
    "name": "ipython",
    "version": 3
   },
   "file_extension": ".py",
   "mimetype": "text/x-python",
   "name": "python",
   "nbconvert_exporter": "python",
   "pygments_lexer": "ipython3",
   "version": "3.11.9"
  }
 },
 "nbformat": 4,
 "nbformat_minor": 5
}
