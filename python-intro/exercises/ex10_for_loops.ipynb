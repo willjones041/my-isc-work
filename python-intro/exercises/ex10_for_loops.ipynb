{
 "cells": [
  {
   "cell_type": "markdown",
   "id": "152bcc58-9a3c-44e5-ab8c-0edde2576d34",
   "metadata": {
    "editable": true,
    "slideshow": {
     "slide_type": ""
    },
    "tags": []
   },
   "source": [
    "# Exercise 10: For Loops"
   ]
  },
  {
   "cell_type": "markdown",
   "id": "c24a1448-d258-4903-8c86-34bcf78202c8",
   "metadata": {},
   "source": [
    "## Aim: Understand what `for` loops are usually used for and learn how to implement them."
   ]
  },
  {
   "cell_type": "markdown",
   "id": "5deaf7ac-bc39-4781-aadb-4ae559ca5cd4",
   "metadata": {},
   "source": [
    "## Issues covered:\n",
    "- Looking at some basic `for` loops\n",
    "- Writing some basic `for` loops\n",
    "- Using `for` loops to loop through strings"
   ]
  },
  {
   "cell_type": "markdown",
   "id": "04e8fa99-8959-4faf-abe0-11be799eb813",
   "metadata": {},
   "source": [
    "## 1. Taking a look at some `for` loops"
   ]
  },
  {
   "cell_type": "markdown",
   "id": "5c50f031-c20b-4b3c-8b9e-f83c550202a0",
   "metadata": {},
   "source": [
    "Why does this `for` loop return an error? Can you fix the problem and re-run it?\n",
    "```\n",
    "for letter in ['a', 'b', 'c', 'd']\n",
    "print(letter)\n",
    "```"
   ]
  },
  {
   "cell_type": "code",
   "execution_count": 2,
   "id": "956fc818-c5b6-4570-b8c7-ca8af326dfdd",
   "metadata": {
    "editable": true,
    "slideshow": {
     "slide_type": ""
    },
    "tags": [
     "clear_answer_cell"
    ]
   },
   "outputs": [
    {
     "name": "stdout",
     "output_type": "stream",
     "text": [
      "a\n",
      "b\n",
      "c\n",
      "d\n"
     ]
    }
   ],
   "source": [
    "for letter in ['a', 'b', 'c', 'd']:\n",
    "    print(letter)"
   ]
  },
  {
   "cell_type": "markdown",
   "id": "e18a09af-34e8-4dae-af2d-85fb87fa32eb",
   "metadata": {},
   "source": [
    "## 2. Writing some `for` loops"
   ]
  },
  {
   "cell_type": "markdown",
   "id": "354eba71-94be-4b7b-82d7-926771066889",
   "metadata": {},
   "source": [
    "Write a `for` loop which prints out every number between 100 and 110 (including 100 and 110)."
   ]
  },
  {
   "cell_type": "markdown",
   "id": "9ff6ebb8-60ca-4821-9a93-98e6cb322f93",
   "metadata": {},
   "source": [
    "_Hint: Use `range()`._"
   ]
  },
  {
   "cell_type": "code",
   "execution_count": 4,
   "id": "8ecd51cb-22ab-4f8f-ae5f-dbf940154b0b",
   "metadata": {
    "editable": true,
    "slideshow": {
     "slide_type": ""
    },
    "tags": [
     "clear_answer_cell"
    ]
   },
   "outputs": [
    {
     "name": "stdout",
     "output_type": "stream",
     "text": [
      "100\n",
      "101\n",
      "102\n",
      "103\n",
      "104\n",
      "105\n",
      "106\n",
      "107\n",
      "108\n",
      "109\n",
      "110\n"
     ]
    }
   ],
   "source": [
    "for number in range(100,111):\n",
    "    print(number)"
   ]
  },
  {
   "cell_type": "markdown",
   "id": "a0cc9e4a-ac7e-4b7a-baee-ee573db34be1",
   "metadata": {},
   "source": [
    "Write a `for` loop which calculates the number of letters in `software carpentry`. You should know the answer you're expecting from the last exercise!"
   ]
  },
  {
   "cell_type": "markdown",
   "id": "3be5ede1-a711-4fb0-b068-7da72d1f5519",
   "metadata": {},
   "source": [
    "_Hint: Create a variable to use as a counter._"
   ]
  },
  {
   "cell_type": "code",
   "execution_count": 12,
   "id": "0d664c0f-e5c4-4c3b-9e83-9edadd4c7256",
   "metadata": {
    "editable": true,
    "slideshow": {
     "slide_type": ""
    },
    "tags": [
     "clear_answer_cell"
    ]
   },
   "outputs": [
    {
     "name": "stdout",
     "output_type": "stream",
     "text": [
      "18\n"
     ]
    }
   ],
   "source": [
    "i = 0\n",
    "for letter in list('software carpentry'):\n",
    "    i  +=1\n",
    "print(i)"
   ]
  },
  {
   "cell_type": "markdown",
   "id": "723689b0-3b3a-4459-9ee0-352ad30e5d1b",
   "metadata": {},
   "source": [
    "Write a `for` loop which reverses the order of characters in the `software carpentry` string."
   ]
  },
  {
   "cell_type": "code",
   "execution_count": 24,
   "id": "822b49d8-e5fe-42e9-b99b-0e67c09d18fd",
   "metadata": {
    "editable": true,
    "slideshow": {
     "slide_type": ""
    },
    "tags": [
     "clear_answer_cell"
    ]
   },
   "outputs": [
    {
     "name": "stdout",
     "output_type": "stream",
     "text": [
      "['y', 'r', 't', 'n', 'e', 'p', 'r', 'a', 'c', ' ', 'e', 'r', 'a', 'w', 't', 'f', 'o', 's']\n"
     ]
    }
   ],
   "source": [
    "my_reversed_list = []\n",
    "for letter in list(\"software carpentry\")[::-1]:\n",
    "    my_reversed_list.append(letter)\n",
    "print(my_reversed_list)\n",
    "\n"
   ]
  },
  {
   "cell_type": "markdown",
   "id": "5828e11c-db2e-4adf-9456-6f33e7d5ac23",
   "metadata": {},
   "source": [
    "The following lines of code can be put together to form a loop which prints every multiple of 10 between 1 and 100. Rearrange them to make it work.\n",
    "```\n",
    "if (number%10) == 0:\n",
    "for number in range(100):\n",
    "print (number)\n",
    "```\n",
    "_(we're going to learn more about `if` statements next lesson, they're very useful!)_"
   ]
  },
  {
   "cell_type": "code",
   "execution_count": 26,
   "id": "e69de620-09f0-4deb-9e76-827c049b3a64",
   "metadata": {
    "editable": true,
    "slideshow": {
     "slide_type": ""
    },
    "tags": [
     "clear_answer_cell"
    ]
   },
   "outputs": [
    {
     "name": "stdout",
     "output_type": "stream",
     "text": [
      "0\n",
      "10\n",
      "20\n",
      "30\n",
      "40\n",
      "50\n",
      "60\n",
      "70\n",
      "80\n",
      "90\n"
     ]
    }
   ],
   "source": [
    "for number in range(100):\n",
    "    if (number%10) ==0:\n",
    "        print(number)"
   ]
  },
  {
   "cell_type": "markdown",
   "id": "5d8c5eaa-410c-48ea-a655-2af1a8185daf",
   "metadata": {},
   "source": [
    "## 3. Using `for` loops to loop through strings"
   ]
  },
  {
   "cell_type": "markdown",
   "id": "3f86646d-c80a-4477-b0a2-b74564ee47f2",
   "metadata": {},
   "source": [
    "We can also use loops to loop through the characters in a string. Create a string with the value `I love to write Python` and loop through it using `for` to display each value."
   ]
  },
  {
   "cell_type": "code",
   "execution_count": 27,
   "id": "632c776f-4648-4360-afe8-89214097415e",
   "metadata": {
    "editable": true,
    "slideshow": {
     "slide_type": ""
    },
    "tags": [
     "clear_answer_cell"
    ]
   },
   "outputs": [
    {
     "name": "stdout",
     "output_type": "stream",
     "text": [
      "I\n",
      " \n",
      "l\n",
      "o\n",
      "v\n",
      "e\n",
      " \n",
      "t\n",
      "o\n",
      " \n",
      "w\n",
      "r\n",
      "i\n",
      "t\n",
      "e\n",
      " \n",
      "P\n",
      "y\n",
      "t\n",
      "h\n",
      "o\n",
      "n\n"
     ]
    }
   ],
   "source": [
    "for letter in str(\"I love to write Python\"):\n",
    "    print(letter)"
   ]
  },
  {
   "cell_type": "code",
   "execution_count": 33,
   "id": "43171f52-001b-4ade-9541-6b2cef5817de",
   "metadata": {},
   "outputs": [],
   "source": [
    "x =2"
   ]
  },
  {
   "cell_type": "code",
   "execution_count": 34,
   "id": "b2b388ac-3883-45ea-8ec6-ca5a2dc91371",
   "metadata": {},
   "outputs": [
    {
     "name": "stdout",
     "output_type": "stream",
     "text": [
      "true\n"
     ]
    }
   ],
   "source": [
    "if ['a']:\n",
    "    print('true')"
   ]
  },
  {
   "cell_type": "code",
   "execution_count": 37,
   "id": "39e5d832-0b86-4257-aa54-13e75e0ee241",
   "metadata": {},
   "outputs": [
    {
     "name": "stdout",
     "output_type": "stream",
     "text": [
      "True\n"
     ]
    }
   ],
   "source": [
    "if x:\n",
    "    print('True')"
   ]
  },
  {
   "cell_type": "code",
   "execution_count": 38,
   "id": "531146a9-6a84-420d-9999-87e2f75c4295",
   "metadata": {},
   "outputs": [
    {
     "ename": "NameError",
     "evalue": "name 'b' is not defined",
     "output_type": "error",
     "traceback": [
      "\u001b[0;31m---------------------------------------------------------------------------\u001b[0m",
      "\u001b[0;31mNameError\u001b[0m                                 Traceback (most recent call last)",
      "Cell \u001b[0;32mIn[38], line 1\u001b[0m\n\u001b[0;32m----> 1\u001b[0m x \u001b[38;5;129;01mis\u001b[39;00m \u001b[43mb\u001b[49m\n",
      "\u001b[0;31mNameError\u001b[0m: name 'b' is not defined"
     ]
    }
   ],
   "source": [
    "x is b"
   ]
  },
  {
   "cell_type": "code",
   "execution_count": 39,
   "id": "65914577-3c27-495d-b7b4-d7327c7616a4",
   "metadata": {},
   "outputs": [
    {
     "data": {
      "text/plain": [
       "2"
      ]
     },
     "execution_count": 39,
     "metadata": {},
     "output_type": "execute_result"
    }
   ],
   "source": [
    "x"
   ]
  },
  {
   "cell_type": "code",
   "execution_count": 40,
   "id": "e78918f3-a262-4488-80ea-84792f90601a",
   "metadata": {},
   "outputs": [
    {
     "ename": "NameError",
     "evalue": "name 'b' is not defined",
     "output_type": "error",
     "traceback": [
      "\u001b[0;31m---------------------------------------------------------------------------\u001b[0m",
      "\u001b[0;31mNameError\u001b[0m                                 Traceback (most recent call last)",
      "Cell \u001b[0;32mIn[40], line 1\u001b[0m\n\u001b[0;32m----> 1\u001b[0m \u001b[43mb\u001b[49m\n",
      "\u001b[0;31mNameError\u001b[0m: name 'b' is not defined"
     ]
    }
   ],
   "source": [
    "b"
   ]
  },
  {
   "cell_type": "code",
   "execution_count": 41,
   "id": "7f30731b-65e4-4c37-bb51-19b77e3165d1",
   "metadata": {},
   "outputs": [
    {
     "ename": "NameError",
     "evalue": "name 'b' is not defined",
     "output_type": "error",
     "traceback": [
      "\u001b[0;31m---------------------------------------------------------------------------\u001b[0m",
      "\u001b[0;31mNameError\u001b[0m                                 Traceback (most recent call last)",
      "Cell \u001b[0;32mIn[41], line 1\u001b[0m\n\u001b[0;32m----> 1\u001b[0m b \u001b[38;5;241m=\u001b[39m \u001b[43mb\u001b[49m\n",
      "\u001b[0;31mNameError\u001b[0m: name 'b' is not defined"
     ]
    }
   ],
   "source": [
    "b = b"
   ]
  },
  {
   "cell_type": "code",
   "execution_count": 42,
   "id": "09bfdc4d-fb50-4c6b-b5ee-798aa54b29cb",
   "metadata": {},
   "outputs": [],
   "source": [
    "b = 'b'"
   ]
  },
  {
   "cell_type": "code",
   "execution_count": 43,
   "id": "a13f19d7-bccc-4803-bacc-ce2405c1201b",
   "metadata": {},
   "outputs": [
    {
     "data": {
      "text/plain": [
       "False"
      ]
     },
     "execution_count": 43,
     "metadata": {},
     "output_type": "execute_result"
    }
   ],
   "source": [
    "b is x"
   ]
  },
  {
   "cell_type": "code",
   "execution_count": null,
   "id": "c532ad1e-b4fc-430d-a76a-9ace0ce809f7",
   "metadata": {},
   "outputs": [],
   "source": []
  }
 ],
 "metadata": {
  "kernelspec": {
   "display_name": "Python 3 + Jaspy",
   "language": "python",
   "name": "jaspy"
  },
  "language_info": {
   "codemirror_mode": {
    "name": "ipython",
    "version": 3
   },
   "file_extension": ".py",
   "mimetype": "text/x-python",
   "name": "python",
   "nbconvert_exporter": "python",
   "pygments_lexer": "ipython3",
   "version": "3.11.9"
  }
 },
 "nbformat": 4,
 "nbformat_minor": 5
}
