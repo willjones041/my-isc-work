{
 "cells": [
  {
   "cell_type": "markdown",
   "id": "5705908d-f299-44e0-a8fd-4f6c97e539cf",
   "metadata": {
    "editable": true,
    "slideshow": {
     "slide_type": ""
    },
    "tags": []
   },
   "source": [
    "# Exercise 12: Looping Over Data Sets"
   ]
  },
  {
   "cell_type": "markdown",
   "id": "e18f0b69-68ac-45ba-bcd3-faf7ed81b7d3",
   "metadata": {},
   "source": [
    "## Aim: Use `glob` to find sets of files, and write loops to perform operations on files. "
   ]
  },
  {
   "cell_type": "markdown",
   "id": "450ff8b3-ed3c-49a0-97b7-2eeccac09a9f",
   "metadata": {},
   "source": [
    "### Issues covered:\n",
    "- Using a `for` loop to loop over a given list of files\n",
    "- Using `glob` to match patterns of files\n",
    "- Looping over sets of files using `glob`\n",
    "- Using `glob` and `for` to process data from mutliple files"
   ]
  },
  {
   "cell_type": "markdown",
   "id": "ebdfcb2f-a714-4372-9d3d-5cae6baf3ee5",
   "metadata": {},
   "source": [
    "## 1. Looping over files from a simple list"
   ]
  },
  {
   "cell_type": "markdown",
   "id": "e102a051-77a9-45de-9d73-57d43ebca41e",
   "metadata": {
    "editable": true,
    "slideshow": {
     "slide_type": ""
    },
    "tags": []
   },
   "source": [
    "Use a `for` loop to loop over the files in the data folder (americas_gdp.csv, europe_gdp.csv and oceania_gdp.csv) and print out the maxima of the datasets."
   ]
  },
  {
   "cell_type": "code",
   "execution_count": 1,
   "id": "983f2f86-5da7-44e6-beac-33b4ec229ba8",
   "metadata": {
    "editable": true,
    "execution": {
     "iopub.execute_input": "2023-10-23T10:35:08.743658Z",
     "iopub.status.busy": "2023-10-23T10:35:08.743159Z",
     "iopub.status.idle": "2023-10-23T10:35:09.146791Z",
     "shell.execute_reply": "2023-10-23T10:35:09.145467Z"
    },
    "slideshow": {
     "slide_type": ""
    },
    "tags": [
     "clear_answer_cell"
    ]
   },
   "outputs": [],
   "source": []
  },
  {
   "cell_type": "markdown",
   "id": "2ea7848d-2d2f-4cdd-b0bc-e7f6fcacbdf1",
   "metadata": {},
   "source": [
    "## 2. Using `glob` to loop through files"
   ]
  },
  {
   "cell_type": "markdown",
   "id": "dc15445c-8337-4c37-ac17-8c026fe58845",
   "metadata": {},
   "source": [
    "What do you think `glob.glob('*.ipynb')` will return? Try it and see."
   ]
  },
  {
   "cell_type": "code",
   "execution_count": 2,
   "id": "ea1f697c-676a-4fbe-a54a-59b1bc554cb5",
   "metadata": {
    "editable": true,
    "execution": {
     "iopub.execute_input": "2023-10-23T10:35:09.153074Z",
     "iopub.status.busy": "2023-10-23T10:35:09.152602Z",
     "iopub.status.idle": "2023-10-23T10:35:09.162786Z",
     "shell.execute_reply": "2023-10-23T10:35:09.161842Z"
    },
    "slideshow": {
     "slide_type": ""
    },
    "tags": [
     "clear_answer_cell"
    ]
   },
   "outputs": [],
   "source": []
  },
  {
   "cell_type": "markdown",
   "id": "6683d4b0-914f-4f05-bb6f-bd6a2664a85a",
   "metadata": {},
   "source": [
    "How can we return only the files for exercises 1-9?"
   ]
  },
  {
   "cell_type": "code",
   "execution_count": 3,
   "id": "9580a2d9-8269-4b40-81c8-5f0bba20c5f7",
   "metadata": {
    "editable": true,
    "execution": {
     "iopub.execute_input": "2023-10-23T10:35:09.166714Z",
     "iopub.status.busy": "2023-10-23T10:35:09.166388Z",
     "iopub.status.idle": "2023-10-23T10:35:09.172629Z",
     "shell.execute_reply": "2023-10-23T10:35:09.171755Z"
    },
    "slideshow": {
     "slide_type": ""
    },
    "tags": [
     "clear_answer_cell"
    ]
   },
   "outputs": [],
   "source": []
  },
  {
   "cell_type": "markdown",
   "id": "dfa0bb84-9b31-4a45-845a-412b244a66b8",
   "metadata": {},
   "source": [
    "Which exercises have coffee in their title?"
   ]
  },
  {
   "cell_type": "code",
   "execution_count": 4,
   "id": "dadb89cd-7978-4b2c-a3fb-0043b706182a",
   "metadata": {
    "editable": true,
    "execution": {
     "iopub.execute_input": "2023-10-23T10:35:09.175441Z",
     "iopub.status.busy": "2023-10-23T10:35:09.175146Z",
     "iopub.status.idle": "2023-10-23T10:35:09.183753Z",
     "shell.execute_reply": "2023-10-23T10:35:09.182776Z"
    },
    "slideshow": {
     "slide_type": ""
    },
    "tags": [
     "clear_answer_cell"
    ]
   },
   "outputs": [],
   "source": []
  },
  {
   "cell_type": "markdown",
   "id": "61558e1f-e1ab-4f74-bb5e-b91876b18e31",
   "metadata": {},
   "source": [
    "## 3. Using `glob` and `for` to process files"
   ]
  },
  {
   "cell_type": "markdown",
   "id": "a1c888ca-63e3-45ca-acff-2f19941bd761",
   "metadata": {},
   "source": [
    "Write a `for` loop which loops through all of the files containing `gdp` in the title, write the data to a dataframe, then print the dataframe minimum for all columns (using `.min()`)."
   ]
  },
  {
   "cell_type": "code",
   "execution_count": 5,
   "id": "2c667ae6-5674-4532-a5f6-6b67d10cf531",
   "metadata": {
    "editable": true,
    "execution": {
     "iopub.execute_input": "2023-10-23T10:35:09.187073Z",
     "iopub.status.busy": "2023-10-23T10:35:09.186562Z",
     "iopub.status.idle": "2023-10-23T10:35:09.202339Z",
     "shell.execute_reply": "2023-10-23T10:35:09.201642Z"
    },
    "slideshow": {
     "slide_type": ""
    },
    "tags": [
     "clear_answer_cell"
    ]
   },
   "outputs": [],
   "source": []
  },
  {
   "cell_type": "code",
   "execution_count": null,
   "id": "a851ef57-c12e-45f9-bb77-5f75a5712aed",
   "metadata": {
    "editable": true,
    "slideshow": {
     "slide_type": ""
    },
    "tags": []
   },
   "outputs": [],
   "source": []
  }
 ],
 "metadata": {
  "kernelspec": {
   "display_name": "Python 3 + Jaspy",
   "language": "python",
   "name": "jaspy"
  },
  "language_info": {
   "codemirror_mode": {
    "name": "ipython",
    "version": 3
   },
   "file_extension": ".py",
   "mimetype": "text/x-python",
   "name": "python",
   "nbconvert_exporter": "python",
   "pygments_lexer": "ipython3",
   "version": "3.11.9"
  }
 },
 "nbformat": 4,
 "nbformat_minor": 5
}
