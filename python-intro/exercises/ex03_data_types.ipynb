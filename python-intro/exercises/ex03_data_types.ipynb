{
 "cells": [
  {
   "cell_type": "markdown",
   "id": "bf48c958-3dee-414c-aeac-aa8a6e99109d",
   "metadata": {
    "editable": true,
    "slideshow": {
     "slide_type": ""
    },
    "tags": []
   },
   "source": [
    "# Exercise 3: Data types and conversion"
   ]
  },
  {
   "cell_type": "markdown",
   "id": "67b0b07c-57b6-42e2-929a-c3adb2c16661",
   "metadata": {},
   "source": [
    "## Aim: Introduce data types and how to convert types."
   ]
  },
  {
   "cell_type": "markdown",
   "id": "2d7d2460-eed6-4b9a-809c-98339c7f8eef",
   "metadata": {},
   "source": [
    "### Issues covered:\n",
    "- Learning about types\n",
    "- More about strings\n",
    "- Operating on different types\n",
    "- Converting variable types"
   ]
  },
  {
   "cell_type": "markdown",
   "id": "18e551fe-82a4-44e5-9b82-2936fe480a84",
   "metadata": {},
   "source": [
    "## 1. Let's take a look at some data types."
   ]
  },
  {
   "cell_type": "markdown",
   "id": "7db82029-8f47-47c3-ac00-1d86f2131ac0",
   "metadata": {},
   "source": [
    "Here are some variables, each of a different type. Add them to the cell below and `print` out their type.\n",
    "```\n",
    "var1 = \"hello\"\n",
    "var2 = 100\n",
    "var3 = 7.52\n",
    "```"
   ]
  },
  {
   "cell_type": "code",
   "execution_count": 1,
   "id": "435d9ca4-3bc6-46f9-be6d-46857eea01ea",
   "metadata": {
    "editable": true,
    "execution": {
     "iopub.execute_input": "2023-10-23T10:35:44.834409Z",
     "iopub.status.busy": "2023-10-23T10:35:44.833794Z",
     "iopub.status.idle": "2023-10-23T10:35:44.848417Z",
     "shell.execute_reply": "2023-10-23T10:35:44.847546Z"
    },
    "slideshow": {
     "slide_type": ""
    },
    "tags": [
     "clear_answer_cell"
    ]
   },
   "outputs": [],
   "source": []
  },
  {
   "cell_type": "markdown",
   "id": "9886145a-a017-4186-9b7a-cbdf99159732",
   "metadata": {
    "editable": true,
    "slideshow": {
     "slide_type": ""
    },
    "tags": []
   },
   "source": [
    "Experiment with different operands for `**` - e.g. `2 ** 2` or `5.7 ** 2`. When is the output a `float`?"
   ]
  },
  {
   "cell_type": "code",
   "execution_count": 2,
   "id": "d5a84c34-85ae-4c31-8837-0670b09145d2",
   "metadata": {
    "editable": true,
    "execution": {
     "iopub.execute_input": "2023-10-23T10:35:44.851879Z",
     "iopub.status.busy": "2023-10-23T10:35:44.851557Z",
     "iopub.status.idle": "2023-10-23T10:35:44.862888Z",
     "shell.execute_reply": "2023-10-23T10:35:44.862244Z"
    },
    "slideshow": {
     "slide_type": ""
    },
    "tags": [
     "clear_answer_cell"
    ]
   },
   "outputs": [],
   "source": []
  },
  {
   "cell_type": "markdown",
   "id": "abe6d3d1-7dc4-4c1a-8813-6378ef13d78f",
   "metadata": {},
   "source": [
    "## 2. More about strings"
   ]
  },
  {
   "cell_type": "code",
   "execution_count": 3,
   "id": "00d3f796-d3f1-444b-af9e-c2b15e9f6c03",
   "metadata": {
    "editable": true,
    "execution": {
     "iopub.execute_input": "2023-10-23T10:35:44.867131Z",
     "iopub.status.busy": "2023-10-23T10:35:44.866745Z",
     "iopub.status.idle": "2023-10-23T10:35:44.871835Z",
     "shell.execute_reply": "2023-10-23T10:35:44.871057Z"
    },
    "slideshow": {
     "slide_type": ""
    },
    "tags": []
   },
   "outputs": [],
   "source": [
    "n = \"hello\"\n",
    "m = \"world\""
   ]
  },
  {
   "cell_type": "markdown",
   "id": "72401b9c-97ec-440c-a0f0-062f5c3d66dc",
   "metadata": {},
   "source": [
    "The variables `n` and `m` are both strings. Try subtracting them and see what happens."
   ]
  },
  {
   "cell_type": "code",
   "execution_count": 4,
   "id": "f47e50e8-a68c-4e3f-8148-76d9ef7225de",
   "metadata": {
    "editable": true,
    "execution": {
     "iopub.execute_input": "2023-10-23T10:35:44.875814Z",
     "iopub.status.busy": "2023-10-23T10:35:44.875370Z",
     "iopub.status.idle": "2023-10-23T10:35:45.314889Z",
     "shell.execute_reply": "2023-10-23T10:35:45.313476Z"
    },
    "slideshow": {
     "slide_type": ""
    },
    "tags": [
     "clear_answer_cell",
     "allow_errors"
    ]
   },
   "outputs": [],
   "source": []
  },
  {
   "cell_type": "markdown",
   "id": "defb95ee-853f-45d2-9bc7-a7321cb5c193",
   "metadata": {
    "editable": true,
    "slideshow": {
     "slide_type": ""
    },
    "tags": []
   },
   "source": [
    "The `-` operator isn't supported for strings, however other operators are. Try using the `+` operator with `n` and `m` and print out the results."
   ]
  },
  {
   "cell_type": "code",
   "execution_count": 5,
   "id": "d18bd66d-858b-4644-8131-b595d10f39e8",
   "metadata": {
    "editable": true,
    "execution": {
     "iopub.execute_input": "2023-10-23T10:35:45.321534Z",
     "iopub.status.busy": "2023-10-23T10:35:45.320879Z",
     "iopub.status.idle": "2023-10-23T10:35:45.328527Z",
     "shell.execute_reply": "2023-10-23T10:35:45.327349Z"
    },
    "slideshow": {
     "slide_type": ""
    },
    "tags": [
     "clear_answer_cell"
    ]
   },
   "outputs": [],
   "source": []
  },
  {
   "cell_type": "markdown",
   "id": "7507ac95-12d3-4f36-96cf-f61d24be6f42",
   "metadata": {
    "editable": true,
    "slideshow": {
     "slide_type": ""
    },
    "tags": []
   },
   "source": [
    "Try multiplying `n` or `m` by an integer and see what happens."
   ]
  },
  {
   "cell_type": "code",
   "execution_count": 6,
   "id": "c0efb234-27a7-47f2-bc3a-8fb4ab9ef919",
   "metadata": {
    "editable": true,
    "execution": {
     "iopub.execute_input": "2023-10-23T10:35:45.333556Z",
     "iopub.status.busy": "2023-10-23T10:35:45.333034Z",
     "iopub.status.idle": "2023-10-23T10:35:45.340849Z",
     "shell.execute_reply": "2023-10-23T10:35:45.339818Z"
    },
    "slideshow": {
     "slide_type": ""
    },
    "tags": [
     "clear_answer_cell"
    ]
   },
   "outputs": [],
   "source": []
  },
  {
   "cell_type": "markdown",
   "id": "795cb54d-7259-4006-93ae-ca705679aa02",
   "metadata": {
    "editable": true,
    "slideshow": {
     "slide_type": ""
    },
    "tags": []
   },
   "source": [
    "## 3. Converting variable types."
   ]
  },
  {
   "cell_type": "code",
   "execution_count": 7,
   "id": "5cf92be4-340b-4328-a28a-0d3857c36a86",
   "metadata": {
    "editable": true,
    "execution": {
     "iopub.execute_input": "2023-10-23T10:35:45.344789Z",
     "iopub.status.busy": "2023-10-23T10:35:45.344257Z",
     "iopub.status.idle": "2023-10-23T10:35:45.351503Z",
     "shell.execute_reply": "2023-10-23T10:35:45.349979Z"
    },
    "slideshow": {
     "slide_type": ""
    },
    "tags": []
   },
   "outputs": [],
   "source": [
    "a = 3\n",
    "b = 4\n",
    "c = (a**2 + b**2) ** 0.5"
   ]
  },
  {
   "cell_type": "markdown",
   "id": "7186f750-f0b7-4652-803a-e3033a1c5222",
   "metadata": {
    "editable": true,
    "slideshow": {
     "slide_type": ""
    },
    "tags": []
   },
   "source": [
    "Try converting the variable `c` to an integer type using the `int()` function."
   ]
  },
  {
   "cell_type": "code",
   "execution_count": 8,
   "id": "ef4ed5c4-305e-41b0-94c2-8e6e0c5666aa",
   "metadata": {
    "editable": true,
    "execution": {
     "iopub.execute_input": "2023-10-23T10:35:45.355885Z",
     "iopub.status.busy": "2023-10-23T10:35:45.355216Z",
     "iopub.status.idle": "2023-10-23T10:35:45.361318Z",
     "shell.execute_reply": "2023-10-23T10:35:45.360428Z"
    },
    "slideshow": {
     "slide_type": ""
    },
    "tags": [
     "clear_answer_cell"
    ]
   },
   "outputs": [],
   "source": []
  },
  {
   "cell_type": "markdown",
   "id": "3e471b79-0ad8-4e6a-ba31-9518ed3525b6",
   "metadata": {},
   "source": [
    "Print the data type of `c` to check it worked."
   ]
  },
  {
   "cell_type": "code",
   "execution_count": 9,
   "id": "882b7b7c-0de9-484e-852a-c4766b8c6a3b",
   "metadata": {
    "editable": true,
    "execution": {
     "iopub.execute_input": "2023-10-23T10:35:45.364969Z",
     "iopub.status.busy": "2023-10-23T10:35:45.364625Z",
     "iopub.status.idle": "2023-10-23T10:35:45.370409Z",
     "shell.execute_reply": "2023-10-23T10:35:45.369584Z"
    },
    "slideshow": {
     "slide_type": ""
    },
    "tags": [
     "clear_answer_cell"
    ]
   },
   "outputs": [],
   "source": []
  },
  {
   "cell_type": "markdown",
   "id": "737a5f1e-e178-470c-a827-56dceb7cd3b1",
   "metadata": {
    "editable": true,
    "slideshow": {
     "slide_type": ""
    },
    "tags": []
   },
   "source": [
    "Try running the following line of code and see what happens:\n",
    "```\n",
    "print(a + \" squared equals \" + b + \" squared \" + c + \" squared.\")\n",
    "```"
   ]
  },
  {
   "cell_type": "code",
   "execution_count": 10,
   "id": "7cfcff06-7922-4816-bda8-7885d0f7d28f",
   "metadata": {
    "editable": true,
    "execution": {
     "iopub.execute_input": "2023-10-23T10:35:45.374649Z",
     "iopub.status.busy": "2023-10-23T10:35:45.373919Z",
     "iopub.status.idle": "2023-10-23T10:35:45.402457Z",
     "shell.execute_reply": "2023-10-23T10:35:45.400779Z"
    },
    "slideshow": {
     "slide_type": ""
    },
    "tags": [
     "allow_errors",
     "clear_answer_cell"
    ]
   },
   "outputs": [],
   "source": []
  },
  {
   "cell_type": "markdown",
   "id": "9c465de9-5936-454c-a402-4a92f23a55ed",
   "metadata": {
    "editable": true,
    "slideshow": {
     "slide_type": ""
    },
    "tags": []
   },
   "source": [
    "You should get an error, can you remember why this isn't a valid operation? "
   ]
  },
  {
   "cell_type": "markdown",
   "id": "dbb60403-e056-4c66-ae39-b11f2a96610a",
   "metadata": {
    "editable": true,
    "slideshow": {
     "slide_type": ""
    },
    "tags": []
   },
   "source": [
    "_Hint: Consider the types of the arguments. Try using `str()` to fix the error._"
   ]
  },
  {
   "cell_type": "code",
   "execution_count": 11,
   "id": "07172c8a-0360-4034-ab51-a3ea4e108826",
   "metadata": {
    "editable": true,
    "execution": {
     "iopub.execute_input": "2023-10-23T10:35:45.408392Z",
     "iopub.status.busy": "2023-10-23T10:35:45.407878Z",
     "iopub.status.idle": "2023-10-23T10:35:45.414946Z",
     "shell.execute_reply": "2023-10-23T10:35:45.413765Z"
    },
    "slideshow": {
     "slide_type": ""
    },
    "tags": [
     "clear_answer_cell"
    ]
   },
   "outputs": [],
   "source": []
  },
  {
   "cell_type": "markdown",
   "id": "d69ae7a2-6082-42b0-a4a2-971895672044",
   "metadata": {
    "editable": true,
    "slideshow": {
     "slide_type": ""
    },
    "tags": []
   },
   "source": [
    "Note that `print` essentially gives you the output of `str()` for each of the comma-separated items, adding spaces between them. This means we could print the same line using: `print(a, \"squared +\", b, \"squared equals\", c, \"squared\")`. Try it below."
   ]
  },
  {
   "cell_type": "code",
   "execution_count": 12,
   "id": "294dfaec-0a51-4d0d-8558-9819f608cca2",
   "metadata": {
    "editable": true,
    "execution": {
     "iopub.execute_input": "2023-10-23T10:35:45.418860Z",
     "iopub.status.busy": "2023-10-23T10:35:45.418373Z",
     "iopub.status.idle": "2023-10-23T10:35:45.424157Z",
     "shell.execute_reply": "2023-10-23T10:35:45.423487Z"
    },
    "slideshow": {
     "slide_type": ""
    },
    "tags": [
     "clear_answer_cell"
    ]
   },
   "outputs": [],
   "source": []
  }
 ],
 "metadata": {
  "kernelspec": {
   "display_name": "Python 3 + Jaspy",
   "language": "python",
   "name": "jaspy"
  },
  "language_info": {
   "codemirror_mode": {
    "name": "ipython",
    "version": 3
   },
   "file_extension": ".py",
   "mimetype": "text/x-python",
   "name": "python",
   "nbconvert_exporter": "python",
   "pygments_lexer": "ipython3",
   "version": "3.10.5"
  }
 },
 "nbformat": 4,
 "nbformat_minor": 5
}
