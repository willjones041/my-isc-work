{
 "cells": [
  {
   "cell_type": "markdown",
   "id": "9fa28474-9ef5-4210-b746-6f8a86bf4cfd",
   "metadata": {
    "editable": true,
    "slideshow": {
     "slide_type": ""
    },
    "tags": []
   },
   "source": [
    "# Exercise 4: Built-in functions and `Help`"
   ]
  },
  {
   "cell_type": "markdown",
   "id": "29c09b45-c602-4b44-8a2e-03db29b28aa8",
   "metadata": {},
   "source": [
    "## Aim: Learn about using some built-in functions. "
   ]
  },
  {
   "cell_type": "markdown",
   "id": "5dee770b-d980-4dcb-93a3-c1b87eaef8c0",
   "metadata": {},
   "source": [
    "### Issues Covered:\n",
    "- Examples of commonly-used functions\n",
    "- Using some built-in functions\n",
    "- Using `methods` of built-in functions\n",
    "- Getting help"
   ]
  },
  {
   "cell_type": "markdown",
   "id": "4a09746d-b83c-45b6-95d0-de9000b58d71",
   "metadata": {
    "editable": true,
    "slideshow": {
     "slide_type": ""
    },
    "tags": []
   },
   "source": [
    "It's good practice to include comments to add documentation to your programs. In Python, we do this using `#` - try it below."
   ]
  },
  {
   "cell_type": "code",
   "execution_count": 1,
   "id": "283ca90b-68a2-438f-9d9d-0683d0ef1d8b",
   "metadata": {
    "editable": true,
    "execution": {
     "iopub.execute_input": "2023-10-23T10:34:20.387086Z",
     "iopub.status.busy": "2023-10-23T10:34:20.386364Z",
     "iopub.status.idle": "2023-10-23T10:34:20.394980Z",
     "shell.execute_reply": "2023-10-23T10:34:20.393403Z"
    },
    "slideshow": {
     "slide_type": ""
    },
    "tags": [
     "clear_answer_cell"
    ]
   },
   "outputs": [],
   "source": []
  },
  {
   "cell_type": "markdown",
   "id": "ac35dbf8-373e-48e9-b508-06b1bc369faa",
   "metadata": {},
   "source": [
    "## 1. Examples of commonly-used built-in functions. "
   ]
  },
  {
   "cell_type": "markdown",
   "id": "121faf7f-0c98-4275-9db2-6150d1d09cf1",
   "metadata": {},
   "source": [
    "We've already used some built in functions like `print` and `len`, let's use some more."
   ]
  },
  {
   "cell_type": "markdown",
   "id": "42bdcaeb-9e5e-4a96-81ef-58d797ee6331",
   "metadata": {
    "editable": true,
    "slideshow": {
     "slide_type": ""
    },
    "tags": []
   },
   "source": [
    "Here's a list: \n",
    "```\n",
    "mylist = (72, 24, 38, 104)\n",
    "```\n",
    "Can you find the largest value from the list using the built-in function `max`?"
   ]
  },
  {
   "cell_type": "code",
   "execution_count": 2,
   "id": "aea4f6f5-4ba3-4681-8b12-fe63a3b70f38",
   "metadata": {
    "editable": true,
    "execution": {
     "iopub.execute_input": "2023-10-23T10:34:20.399952Z",
     "iopub.status.busy": "2023-10-23T10:34:20.399297Z",
     "iopub.status.idle": "2023-10-23T10:34:20.418334Z",
     "shell.execute_reply": "2023-10-23T10:34:20.417022Z"
    },
    "slideshow": {
     "slide_type": ""
    },
    "tags": [
     "clear_answer_cell"
    ]
   },
   "outputs": [],
   "source": []
  },
  {
   "cell_type": "markdown",
   "id": "29e18d04-ccec-4553-8c54-192f61d11c90",
   "metadata": {
    "editable": true,
    "slideshow": {
     "slide_type": ""
    },
    "tags": []
   },
   "source": [
    "Can you find the smallest value from the list using the built-in function `min`? "
   ]
  },
  {
   "cell_type": "code",
   "execution_count": 3,
   "id": "05fe1f1f-f046-4b76-9050-284c58417d4c",
   "metadata": {
    "editable": true,
    "execution": {
     "iopub.execute_input": "2023-10-23T10:34:20.422571Z",
     "iopub.status.busy": "2023-10-23T10:34:20.422073Z",
     "iopub.status.idle": "2023-10-23T10:34:20.429204Z",
     "shell.execute_reply": "2023-10-23T10:34:20.428032Z"
    },
    "slideshow": {
     "slide_type": ""
    },
    "tags": [
     "clear_answer_cell"
    ]
   },
   "outputs": [],
   "source": []
  },
  {
   "cell_type": "markdown",
   "id": "c2051213-9647-4842-a341-1dfc4677f028",
   "metadata": {
    "editable": true,
    "slideshow": {
     "slide_type": ""
    },
    "tags": []
   },
   "source": [
    "Try running the following and see what happens:\n",
    "```\n",
    "print(max(70, 'z'))\n",
    "```"
   ]
  },
  {
   "cell_type": "code",
   "execution_count": 4,
   "id": "0a00b7d3-c689-4f40-9bf6-195f398b51fd",
   "metadata": {
    "editable": true,
    "execution": {
     "iopub.execute_input": "2023-10-23T10:34:20.432949Z",
     "iopub.status.busy": "2023-10-23T10:34:20.432463Z",
     "iopub.status.idle": "2023-10-23T10:34:20.850219Z",
     "shell.execute_reply": "2023-10-23T10:34:20.848842Z"
    },
    "slideshow": {
     "slide_type": ""
    },
    "tags": [
     "allow_errors",
     "clear_answer_cell"
    ]
   },
   "outputs": [],
   "source": []
  },
  {
   "cell_type": "markdown",
   "id": "3fdc967c-e06e-4625-b75e-084658ad4f8c",
   "metadata": {
    "editable": true,
    "slideshow": {
     "slide_type": ""
    },
    "tags": []
   },
   "source": [
    "Do you know what the problem is? Try using built-in functions to fix the error."
   ]
  },
  {
   "cell_type": "markdown",
   "id": "89e05c45-99cd-44e2-ae64-3c6ccd127055",
   "metadata": {
    "editable": true,
    "slideshow": {
     "slide_type": ""
    },
    "tags": []
   },
   "source": [
    "_Hint: `max` and `min` work on strings as well as integers and floats, but must be given things that can meaningfully be compared. Try converting the integer to a string. Remember that strings are quantified in the order (0-9, A-Z, a-z)._"
   ]
  },
  {
   "cell_type": "code",
   "execution_count": 5,
   "id": "6a424a69-9ac4-41a4-99ea-d85c81be9c2c",
   "metadata": {
    "editable": true,
    "execution": {
     "iopub.execute_input": "2023-10-23T10:34:20.857781Z",
     "iopub.status.busy": "2023-10-23T10:34:20.857029Z",
     "iopub.status.idle": "2023-10-23T10:34:20.864909Z",
     "shell.execute_reply": "2023-10-23T10:34:20.863660Z"
    },
    "slideshow": {
     "slide_type": ""
    },
    "tags": [
     "clear_answer_cell"
    ]
   },
   "outputs": [],
   "source": []
  },
  {
   "cell_type": "markdown",
   "id": "3b97e68e-a693-4ca6-b1fa-eb7359999a34",
   "metadata": {
    "editable": true,
    "slideshow": {
     "slide_type": ""
    },
    "tags": []
   },
   "source": [
    "Here's a (bad) approximation of pi to many decimal places:"
   ]
  },
  {
   "cell_type": "code",
   "execution_count": 6,
   "id": "f03830e1-04da-48e9-a367-637068a042c5",
   "metadata": {
    "editable": false,
    "execution": {
     "iopub.execute_input": "2023-10-23T10:34:20.869265Z",
     "iopub.status.busy": "2023-10-23T10:34:20.868815Z",
     "iopub.status.idle": "2023-10-23T10:34:20.874838Z",
     "shell.execute_reply": "2023-10-23T10:34:20.874016Z"
    },
    "slideshow": {
     "slide_type": ""
    },
    "tags": []
   },
   "outputs": [
    {
     "name": "stdout",
     "output_type": "stream",
     "text": [
      "3.142857142857143\n"
     ]
    }
   ],
   "source": [
    "pi = 22/7\n",
    "print(pi)"
   ]
  },
  {
   "cell_type": "markdown",
   "id": "3324456a-5d9c-4343-a430-fa2a278df2df",
   "metadata": {
    "editable": true,
    "slideshow": {
     "slide_type": ""
    },
    "tags": []
   },
   "source": [
    "Try rounding `pi` using the in-built function `round`."
   ]
  },
  {
   "cell_type": "code",
   "execution_count": 7,
   "id": "377b5521-24c5-4b67-a6fd-1f6058e2a183",
   "metadata": {
    "editable": true,
    "execution": {
     "iopub.execute_input": "2023-10-23T10:34:20.878827Z",
     "iopub.status.busy": "2023-10-23T10:34:20.878417Z",
     "iopub.status.idle": "2023-10-23T10:34:20.888392Z",
     "shell.execute_reply": "2023-10-23T10:34:20.887641Z"
    },
    "slideshow": {
     "slide_type": ""
    },
    "tags": [
     "clear_answer_cell"
    ]
   },
   "outputs": [],
   "source": []
  },
  {
   "cell_type": "markdown",
   "id": "f3745007-519e-40d4-b357-776ca2d24bbb",
   "metadata": {
    "editable": true,
    "slideshow": {
     "slide_type": ""
    },
    "tags": []
   },
   "source": [
    "By default, this function rounds to zero decimal places. Instead, make it round to 4 decimal places."
   ]
  },
  {
   "cell_type": "code",
   "execution_count": 8,
   "id": "0d3e2cbd-a0c0-4703-8238-eb6d4a287a46",
   "metadata": {
    "editable": true,
    "execution": {
     "iopub.execute_input": "2023-10-23T10:34:20.891746Z",
     "iopub.status.busy": "2023-10-23T10:34:20.891372Z",
     "iopub.status.idle": "2023-10-23T10:34:20.898119Z",
     "shell.execute_reply": "2023-10-23T10:34:20.897512Z"
    },
    "slideshow": {
     "slide_type": ""
    },
    "tags": [
     "clear_answer_cell"
    ]
   },
   "outputs": [],
   "source": []
  },
  {
   "cell_type": "markdown",
   "id": "0638764e-4bda-4c60-b862-e8ba2b1402b4",
   "metadata": {},
   "source": [
    "## 2. Functions attached to objects - `methods`"
   ]
  },
  {
   "cell_type": "markdown",
   "id": "af0e73ec-6a47-456c-911b-88b7c491ea24",
   "metadata": {
    "editable": true,
    "slideshow": {
     "slide_type": ""
    },
    "tags": []
   },
   "source": [
    "Methods have parentheses like functions, but they come after the variable. Let's use some examples of these."
   ]
  },
  {
   "cell_type": "code",
   "execution_count": 9,
   "id": "41495614-7bec-413b-8677-c33b509e53c0",
   "metadata": {
    "editable": true,
    "execution": {
     "iopub.execute_input": "2023-10-23T10:34:20.901018Z",
     "iopub.status.busy": "2023-10-23T10:34:20.900703Z",
     "iopub.status.idle": "2023-10-23T10:34:20.906370Z",
     "shell.execute_reply": "2023-10-23T10:34:20.905708Z"
    },
    "slideshow": {
     "slide_type": ""
    },
    "tags": []
   },
   "outputs": [],
   "source": [
    "example_string = 'Hello NCAS-ISC participants'"
   ]
  },
  {
   "cell_type": "markdown",
   "id": "31eaf1e5-0f9c-45d5-a186-a5c8113c5d81",
   "metadata": {
    "editable": true,
    "slideshow": {
     "slide_type": ""
    },
    "tags": []
   },
   "source": [
    "Use the method `swapcase()`to make `example_string` swap case."
   ]
  },
  {
   "cell_type": "code",
   "execution_count": 10,
   "id": "752ce167-b02b-418d-9172-077c392b5a05",
   "metadata": {
    "editable": true,
    "execution": {
     "iopub.execute_input": "2023-10-23T10:34:20.909523Z",
     "iopub.status.busy": "2023-10-23T10:34:20.909176Z",
     "iopub.status.idle": "2023-10-23T10:34:20.916796Z",
     "shell.execute_reply": "2023-10-23T10:34:20.916128Z"
    },
    "slideshow": {
     "slide_type": ""
    },
    "tags": [
     "clear_answer_cell"
    ]
   },
   "outputs": [],
   "source": []
  },
  {
   "cell_type": "markdown",
   "id": "8b27c3cd-9b2a-4e8b-9150-0b5255e8ff8a",
   "metadata": {},
   "source": [
    "Methods for internal Python operations are marked with double underlines."
   ]
  },
  {
   "cell_type": "markdown",
   "id": "9436d378-df7e-4b02-849c-469a7779ea06",
   "metadata": {
    "editable": true,
    "slideshow": {
     "slide_type": ""
    },
    "tags": []
   },
   "source": [
    "Try using the internal method `__len__()` to find the length of the string."
   ]
  },
  {
   "cell_type": "code",
   "execution_count": 11,
   "id": "16d318ff-6377-4322-b195-f17a13378b2e",
   "metadata": {
    "editable": true,
    "execution": {
     "iopub.execute_input": "2023-10-23T10:34:20.921306Z",
     "iopub.status.busy": "2023-10-23T10:34:20.920687Z",
     "iopub.status.idle": "2023-10-23T10:34:20.929959Z",
     "shell.execute_reply": "2023-10-23T10:34:20.928708Z"
    },
    "slideshow": {
     "slide_type": ""
    },
    "tags": [
     "clear_answer_cell"
    ]
   },
   "outputs": [],
   "source": []
  },
  {
   "cell_type": "markdown",
   "id": "39428d8a-bc57-4f69-bb4a-89564953a2c4",
   "metadata": {
    "editable": true,
    "slideshow": {
     "slide_type": ""
    },
    "tags": []
   },
   "source": [
    "Use `isupper()` to return a boolean value (`True` or `False`) which describes whether all letters of the string are uppercase."
   ]
  },
  {
   "cell_type": "code",
   "execution_count": 12,
   "id": "7b601a29-421f-404b-b4bd-1f3bb92c7d89",
   "metadata": {
    "editable": true,
    "execution": {
     "iopub.execute_input": "2023-10-23T10:34:20.933779Z",
     "iopub.status.busy": "2023-10-23T10:34:20.933300Z",
     "iopub.status.idle": "2023-10-23T10:34:20.940354Z",
     "shell.execute_reply": "2023-10-23T10:34:20.939475Z"
    },
    "slideshow": {
     "slide_type": ""
    },
    "tags": [
     "clear_answer_cell"
    ]
   },
   "outputs": [],
   "source": []
  },
  {
   "cell_type": "markdown",
   "id": "440bf22a-232b-42f4-95f9-715dac5e3adc",
   "metadata": {
    "editable": true,
    "slideshow": {
     "slide_type": ""
    },
    "tags": []
   },
   "source": [
    "Use `upper` to capitalise all letters of your string."
   ]
  },
  {
   "cell_type": "code",
   "execution_count": 13,
   "id": "ccd433b1-0bd2-4672-9d0c-8a085339403f",
   "metadata": {
    "editable": true,
    "execution": {
     "iopub.execute_input": "2023-10-23T10:34:20.943823Z",
     "iopub.status.busy": "2023-10-23T10:34:20.943410Z",
     "iopub.status.idle": "2023-10-23T10:34:20.949569Z",
     "shell.execute_reply": "2023-10-23T10:34:20.948964Z"
    },
    "slideshow": {
     "slide_type": ""
    },
    "tags": [
     "clear_answer_cell"
    ]
   },
   "outputs": [],
   "source": []
  },
  {
   "cell_type": "markdown",
   "id": "66ef0d06-1a05-4519-bb36-eaa1011d013b",
   "metadata": {
    "editable": true,
    "slideshow": {
     "slide_type": ""
    },
    "tags": []
   },
   "source": [
    "Try capitalising your string, then check that it has been capitalised by chaining the two methods we just used together."
   ]
  },
  {
   "cell_type": "code",
   "execution_count": 14,
   "id": "c5e2758e-8845-4fbe-beb5-951cc1200da1",
   "metadata": {
    "editable": true,
    "execution": {
     "iopub.execute_input": "2023-10-23T10:34:20.952637Z",
     "iopub.status.busy": "2023-10-23T10:34:20.952311Z",
     "iopub.status.idle": "2023-10-23T10:34:20.960635Z",
     "shell.execute_reply": "2023-10-23T10:34:20.959791Z"
    },
    "slideshow": {
     "slide_type": ""
    },
    "tags": [
     "clear_answer_cell"
    ]
   },
   "outputs": [],
   "source": []
  },
  {
   "cell_type": "markdown",
   "id": "32ed5d6a-9d8e-41f6-9283-db5471326447",
   "metadata": {
    "editable": true,
    "slideshow": {
     "slide_type": ""
    },
    "tags": []
   },
   "source": [
    "## 3. Getting help"
   ]
  },
  {
   "cell_type": "markdown",
   "id": "1ae30325-7c1f-4fa6-abc8-695d4faf9c54",
   "metadata": {
    "editable": true,
    "slideshow": {
     "slide_type": ""
    },
    "tags": []
   },
   "source": [
    "Get documentation for `round` using `help()`."
   ]
  },
  {
   "cell_type": "code",
   "execution_count": 15,
   "id": "f1aa1e13-bc8c-45a2-8a30-6fb7f48932a2",
   "metadata": {
    "editable": true,
    "execution": {
     "iopub.execute_input": "2023-10-23T10:34:20.963549Z",
     "iopub.status.busy": "2023-10-23T10:34:20.963146Z",
     "iopub.status.idle": "2023-10-23T10:34:20.971288Z",
     "shell.execute_reply": "2023-10-23T10:34:20.970538Z"
    },
    "slideshow": {
     "slide_type": ""
    },
    "tags": [
     "clear_answer_cell"
    ]
   },
   "outputs": [],
   "source": []
  },
  {
   "cell_type": "markdown",
   "id": "533e649d-da4e-460c-a84b-c3d1275a1c32",
   "metadata": {
    "editable": true,
    "slideshow": {
     "slide_type": ""
    },
    "tags": []
   },
   "source": [
    "Can you remember another way to get help with a function in Jupyter Notebooks? Try it with `print`."
   ]
  },
  {
   "cell_type": "code",
   "execution_count": 16,
   "id": "76c6bed8-bae0-4cd2-bf21-b067dce20752",
   "metadata": {
    "editable": true,
    "execution": {
     "iopub.execute_input": "2023-10-23T10:34:20.974449Z",
     "iopub.status.busy": "2023-10-23T10:34:20.974056Z",
     "iopub.status.idle": "2023-10-23T10:34:20.981115Z",
     "shell.execute_reply": "2023-10-23T10:34:20.980297Z"
    },
    "slideshow": {
     "slide_type": ""
    },
    "tags": [
     "clear_answer_cell"
    ]
   },
   "outputs": [],
   "source": []
  },
  {
   "cell_type": "markdown",
   "id": "f48f372d-fdbf-4da3-a8ae-90186a5dfb73",
   "metadata": {
    "editable": true,
    "slideshow": {
     "slide_type": ""
    },
    "tags": []
   },
   "source": [
    "## 4. Extension: Learning to understand syntax and runtime errors"
   ]
  },
  {
   "cell_type": "markdown",
   "id": "10749702-678d-44bc-beb6-a22e1c78dc3b",
   "metadata": {},
   "source": [
    "Python reports a syntax error when it can't understand the source of a program. Try running the following cells and see if you can work out what the problem is from the error messages:"
   ]
  },
  {
   "cell_type": "markdown",
   "id": "c6728876-7016-49e0-8f1e-7dcbad977865",
   "metadata": {
    "editable": true,
    "slideshow": {
     "slide_type": ""
    },
    "tags": []
   },
   "source": [
    "_Hint: The arrows point to (approximately) where in the line the problem is. The text describes the problem:_\n",
    "- _Unterminated string literal means you haven't closed the string._\n",
    "- _Invalid syntax means you have written something Python doesn't recognise - check for invalid or extra characters._\n",
    "- _Incomplete input means that you may have missed something from the end of your line._"
   ]
  },
  {
   "cell_type": "code",
   "execution_count": 17,
   "id": "77f2a74b-819e-4d1c-8dc5-81ef8d07bbae",
   "metadata": {
    "editable": true,
    "execution": {
     "iopub.execute_input": "2023-10-23T10:34:20.984497Z",
     "iopub.status.busy": "2023-10-23T10:34:20.984102Z",
     "iopub.status.idle": "2023-10-23T10:34:20.993586Z",
     "shell.execute_reply": "2023-10-23T10:34:20.992176Z"
    },
    "slideshow": {
     "slide_type": ""
    },
    "tags": [
     "allow_errors"
    ]
   },
   "outputs": [
    {
     "ename": "SyntaxError",
     "evalue": "unterminated string literal (detected at line 1) (882620440.py, line 1)",
     "output_type": "error",
     "traceback": [
      "\u001b[0;36m  Input \u001b[0;32mIn [17]\u001b[0;36m\u001b[0m\n\u001b[0;31m    name = 'Bob\u001b[0m\n\u001b[0m           ^\u001b[0m\n\u001b[0;31mSyntaxError\u001b[0m\u001b[0;31m:\u001b[0m unterminated string literal (detected at line 1)\n"
     ]
    }
   ],
   "source": [
    "name = 'Bob"
   ]
  },
  {
   "cell_type": "code",
   "execution_count": 18,
   "id": "f7cd5f20-791a-40bd-a7cd-4a2a14079763",
   "metadata": {
    "editable": true,
    "execution": {
     "iopub.execute_input": "2023-10-23T10:34:20.998296Z",
     "iopub.status.busy": "2023-10-23T10:34:20.997627Z",
     "iopub.status.idle": "2023-10-23T10:34:21.005444Z",
     "shell.execute_reply": "2023-10-23T10:34:21.004199Z"
    },
    "slideshow": {
     "slide_type": ""
    },
    "tags": [
     "allow_errors"
    ]
   },
   "outputs": [
    {
     "ename": "SyntaxError",
     "evalue": "invalid syntax (4218391323.py, line 1)",
     "output_type": "error",
     "traceback": [
      "\u001b[0;36m  Input \u001b[0;32mIn [18]\u001b[0;36m\u001b[0m\n\u001b[0;31m    age = = 100\u001b[0m\n\u001b[0m          ^\u001b[0m\n\u001b[0;31mSyntaxError\u001b[0m\u001b[0;31m:\u001b[0m invalid syntax\n"
     ]
    }
   ],
   "source": [
    "age = = 100"
   ]
  },
  {
   "cell_type": "code",
   "execution_count": 19,
   "id": "f90f8013-6376-4ee8-b95c-100af9c52ea3",
   "metadata": {
    "editable": true,
    "execution": {
     "iopub.execute_input": "2023-10-23T10:34:21.009966Z",
     "iopub.status.busy": "2023-10-23T10:34:21.009486Z",
     "iopub.status.idle": "2023-10-23T10:34:21.016138Z",
     "shell.execute_reply": "2023-10-23T10:34:21.015143Z"
    },
    "slideshow": {
     "slide_type": ""
    },
    "tags": [
     "allow_errors"
    ]
   },
   "outputs": [
    {
     "ename": "SyntaxError",
     "evalue": "incomplete input (3119847408.py, line 1)",
     "output_type": "error",
     "traceback": [
      "\u001b[0;36m  Input \u001b[0;32mIn [19]\u001b[0;36m\u001b[0m\n\u001b[0;31m    print(\"goodbye\"\u001b[0m\n\u001b[0m                   ^\u001b[0m\n\u001b[0;31mSyntaxError\u001b[0m\u001b[0;31m:\u001b[0m incomplete input\n"
     ]
    }
   ],
   "source": [
    "print(\"goodbye\""
   ]
  },
  {
   "cell_type": "markdown",
   "id": "446dc8b7-17f4-40b2-9482-0aaddf9dfeeb",
   "metadata": {
    "editable": true,
    "slideshow": {
     "slide_type": ""
    },
    "tags": []
   },
   "source": [
    "Python reports a runtime error when something goes wrong whilst the program is executing. Try running the following cells and see if you can work out what the problem is from the error messages:"
   ]
  },
  {
   "cell_type": "markdown",
   "id": "556934b3-5af2-4e40-ad6f-618cf04ca102",
   "metadata": {
    "editable": true,
    "slideshow": {
     "slide_type": ""
    },
    "tags": []
   },
   "source": [
    "_Hint: Runtime errors point to where the problem is occuring so check where the arrow points to and what is highlighted. Common issues include spelling mistakes and using variables before they are defined._"
   ]
  },
  {
   "cell_type": "code",
   "execution_count": 20,
   "id": "087c9ac0-9b8f-4202-a971-501a18e50b86",
   "metadata": {
    "editable": true,
    "execution": {
     "iopub.execute_input": "2023-10-23T10:34:21.020330Z",
     "iopub.status.busy": "2023-10-23T10:34:21.019926Z",
     "iopub.status.idle": "2023-10-23T10:34:21.037296Z",
     "shell.execute_reply": "2023-10-23T10:34:21.036519Z"
    },
    "slideshow": {
     "slide_type": ""
    },
    "tags": [
     "allow_errors"
    ]
   },
   "outputs": [
    {
     "ename": "NameError",
     "evalue": "name 'agg' is not defined",
     "output_type": "error",
     "traceback": [
      "\u001b[0;31m---------------------------------------------------------------------------\u001b[0m",
      "\u001b[0;31mNameError\u001b[0m                                 Traceback (most recent call last)",
      "Input \u001b[0;32mIn [20]\u001b[0m, in \u001b[0;36m<cell line: 2>\u001b[0;34m()\u001b[0m\n\u001b[1;32m      1\u001b[0m age \u001b[38;5;241m=\u001b[39m \u001b[38;5;241m80\u001b[39m\n\u001b[0;32m----> 2\u001b[0m remaining \u001b[38;5;241m=\u001b[39m \u001b[38;5;241m100\u001b[39m \u001b[38;5;241m-\u001b[39m \u001b[43magg\u001b[49m\n",
      "\u001b[0;31mNameError\u001b[0m: name 'agg' is not defined"
     ]
    }
   ],
   "source": [
    "age = 80\n",
    "remaining = 100 - agg"
   ]
  },
  {
   "cell_type": "code",
   "execution_count": 21,
   "id": "c4332f8d-99cd-4149-ab0f-b60dff75501f",
   "metadata": {
    "editable": true,
    "execution": {
     "iopub.execute_input": "2023-10-23T10:34:21.041237Z",
     "iopub.status.busy": "2023-10-23T10:34:21.040896Z",
     "iopub.status.idle": "2023-10-23T10:34:21.055128Z",
     "shell.execute_reply": "2023-10-23T10:34:21.054517Z"
    },
    "slideshow": {
     "slide_type": ""
    },
    "tags": [
     "allow_errors"
    ]
   },
   "outputs": [
    {
     "ename": "NameError",
     "evalue": "name 'myvar' is not defined",
     "output_type": "error",
     "traceback": [
      "\u001b[0;31m---------------------------------------------------------------------------\u001b[0m",
      "\u001b[0;31mNameError\u001b[0m                                 Traceback (most recent call last)",
      "Input \u001b[0;32mIn [21]\u001b[0m, in \u001b[0;36m<cell line: 1>\u001b[0;34m()\u001b[0m\n\u001b[0;32m----> 1\u001b[0m \u001b[38;5;28mprint\u001b[39m(\u001b[43mmyvar\u001b[49m)\n\u001b[1;32m      2\u001b[0m myvar \u001b[38;5;241m=\u001b[39m \u001b[38;5;241m10000\u001b[39m\n",
      "\u001b[0;31mNameError\u001b[0m: name 'myvar' is not defined"
     ]
    }
   ],
   "source": [
    "print(myvar)\n",
    "myvar = 10000"
   ]
  }
 ],
 "metadata": {
  "kernelspec": {
   "display_name": "Python 3 + Jaspy",
   "language": "python",
   "name": "jaspy"
  },
  "language_info": {
   "codemirror_mode": {
    "name": "ipython",
    "version": 3
   },
   "file_extension": ".py",
   "mimetype": "text/x-python",
   "name": "python",
   "nbconvert_exporter": "python",
   "pygments_lexer": "ipython3",
   "version": "3.10.5"
  }
 },
 "nbformat": 4,
 "nbformat_minor": 5
}
