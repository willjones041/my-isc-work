{
 "cells": [
  {
   "cell_type": "markdown",
   "id": "9cd808c7-e8aa-4804-ac9c-ebb88aaa4adf",
   "metadata": {
    "editable": true,
    "slideshow": {
     "slide_type": ""
    },
    "tags": []
   },
   "source": [
    "# Exercise 13: Writing Functions"
   ]
  },
  {
   "cell_type": "markdown",
   "id": "cbeaf56a-3624-47b2-be5d-96e2178b39e7",
   "metadata": {},
   "source": [
    "## Aim: Introduce writing and calling functions."
   ]
  },
  {
   "cell_type": "markdown",
   "id": "8cc7da2d-e917-4340-8b12-a9f1ae0bc9f7",
   "metadata": {},
   "source": [
    "### Issues covered:\n",
    "- Writing a simple function\n",
    "- Indenting code within a function\n",
    "- Sending arguments to functions\n",
    "- Calling functions\n",
    "- Checking arguments in functions"
   ]
  },
  {
   "cell_type": "markdown",
   "id": "dd98dff4-37ca-4ed4-912a-7a607ede591f",
   "metadata": {},
   "source": [
    "## 1. Let's write a simple function and use it"
   ]
  },
  {
   "cell_type": "markdown",
   "id": "aea58556-8b04-4c7e-93e9-970411285915",
   "metadata": {},
   "source": [
    "Use the `def` function to define a function called `hello` to introduce yourself."
   ]
  },
  {
   "cell_type": "code",
   "execution_count": 1,
   "id": "0ffd8204-9f53-4046-9777-0d9788eaf882",
   "metadata": {
    "editable": true,
    "slideshow": {
     "slide_type": ""
    },
    "tags": [
     "clear_answer_cell"
    ]
   },
   "outputs": [],
   "source": [
    "def hello(name,age,job):\n",
    "    introduction = f\"Hello my name is {name}, I'm {age} years old, and I am a {job}\"\n",
    "    return introduction"
   ]
  },
  {
   "cell_type": "markdown",
   "id": "924ff97c-c9cb-45b2-8013-911421567b28",
   "metadata": {},
   "source": [
    "Did the function return anything? If not, try running it!"
   ]
  },
  {
   "cell_type": "code",
   "execution_count": 2,
   "id": "2c3ba0cf-e7f9-4a00-9cee-62beadcf564c",
   "metadata": {
    "editable": true,
    "slideshow": {
     "slide_type": ""
    },
    "tags": [
     "clear_answer_cell"
    ]
   },
   "outputs": [
    {
     "data": {
      "text/plain": [
       "\"Hello my name is Will, I'm 24 years old, and I am a PhD Student\""
      ]
     },
     "execution_count": 2,
     "metadata": {},
     "output_type": "execute_result"
    }
   ],
   "source": [
    "hello(job=\"PhD Student\",name=\"Will\",age=24)"
   ]
  },
  {
   "cell_type": "markdown",
   "id": "2b65a48a-59b6-49bb-a50f-0337f6337140",
   "metadata": {},
   "source": [
    "## 2. Now let's write a function that takes an argument"
   ]
  },
  {
   "cell_type": "markdown",
   "id": "c04ce937-eb00-46b0-9484-0641f6785642",
   "metadata": {},
   "source": [
    "Write a function which takes a number and doubles it."
   ]
  },
  {
   "cell_type": "code",
   "execution_count": 3,
   "id": "74f33b99-6408-4819-8163-01354e71244c",
   "metadata": {
    "editable": true,
    "slideshow": {
     "slide_type": ""
    },
    "tags": [
     "clear_answer_cell"
    ]
   },
   "outputs": [],
   "source": [
    "def doubler(number):\n",
    "    number = number*2\n",
    "    return number"
   ]
  },
  {
   "cell_type": "markdown",
   "id": "1fb61867-5131-4d0f-b512-d5d617ea10d5",
   "metadata": {},
   "source": [
    "Test the function by calling it with an integer, then a float."
   ]
  },
  {
   "cell_type": "code",
   "execution_count": 5,
   "id": "f4009b05-5d2a-45a1-9b5a-a44116b470eb",
   "metadata": {
    "editable": true,
    "slideshow": {
     "slide_type": ""
    },
    "tags": [
     "clear_answer_cell"
    ]
   },
   "outputs": [
    {
     "data": {
      "text/plain": [
       "3.4"
      ]
     },
     "execution_count": 5,
     "metadata": {},
     "output_type": "execute_result"
    }
   ],
   "source": [
    "doubler(1.7)"
   ]
  },
  {
   "cell_type": "markdown",
   "id": "6323b572-4189-4c13-a794-bfd2126625cc",
   "metadata": {},
   "source": [
    "What happens if you give it a string rather than a number?"
   ]
  },
  {
   "cell_type": "code",
   "execution_count": 6,
   "id": "eaba99a3-d877-4454-b828-9e75984811e2",
   "metadata": {
    "editable": true,
    "slideshow": {
     "slide_type": ""
    },
    "tags": [
     "clear_answer_cell"
    ]
   },
   "outputs": [
    {
     "data": {
      "text/plain": [
       "'hellohello'"
      ]
     },
     "execution_count": 6,
     "metadata": {},
     "output_type": "execute_result"
    }
   ],
   "source": [
    "doubler(\"hello\")"
   ]
  },
  {
   "cell_type": "markdown",
   "id": "908a4511-dee8-4f94-8a7e-16e36a53c8c6",
   "metadata": {},
   "source": [
    "What happens if you give it 2 numbers?"
   ]
  },
  {
   "cell_type": "code",
   "execution_count": 7,
   "id": "67c6badc-66ca-4967-a333-31f41146e5ea",
   "metadata": {
    "editable": true,
    "slideshow": {
     "slide_type": ""
    },
    "tags": [
     "clear_answer_cell",
     "allow_errors"
    ]
   },
   "outputs": [
    {
     "ename": "TypeError",
     "evalue": "doubler() takes 1 positional argument but 2 were given",
     "output_type": "error",
     "traceback": [
      "\u001b[0;31m---------------------------------------------------------------------------\u001b[0m",
      "\u001b[0;31mTypeError\u001b[0m                                 Traceback (most recent call last)",
      "Cell \u001b[0;32mIn[7], line 1\u001b[0m\n\u001b[0;32m----> 1\u001b[0m \u001b[43mdoubler\u001b[49m\u001b[43m(\u001b[49m\u001b[38;5;241;43m4\u001b[39;49m\u001b[43m,\u001b[49m\u001b[38;5;241;43m5\u001b[39;49m\u001b[43m)\u001b[49m\n",
      "\u001b[0;31mTypeError\u001b[0m: doubler() takes 1 positional argument but 2 were given"
     ]
    }
   ],
   "source": [
    "doubler(4,5)"
   ]
  },
  {
   "cell_type": "markdown",
   "id": "af866a18-40dc-40e1-b35c-df45c4f3b09a",
   "metadata": {},
   "source": [
    "## 3. Let's take a look at what functions return"
   ]
  },
  {
   "cell_type": "markdown",
   "id": "8a892f7c-c239-4789-a7e1-85273e3b18ca",
   "metadata": {},
   "source": [
    "Why is the result of the following `None`? Can you fix it?\n",
    "```\n",
    "def print_time(hour, minute, second):\n",
    "    time_string = str(hour) + ':' + str(minute) + ':' + str(second)\n",
    "    print(time_string)\n",
    "\n",
    "result = print_time(11, 37, 59)\n",
    "print('result of call is:', result)\n",
    "```"
   ]
  },
  {
   "cell_type": "code",
   "execution_count": 9,
   "id": "5e2860aa-633f-4cc9-9c50-117fcfac5088",
   "metadata": {
    "editable": true,
    "slideshow": {
     "slide_type": ""
    },
    "tags": [
     "clear_answer_cell"
    ]
   },
   "outputs": [
    {
     "name": "stdout",
     "output_type": "stream",
     "text": [
      "result of call is: 11:37:59\n"
     ]
    }
   ],
   "source": [
    "def print_time(hour, minute, second):\n",
    "    time_string = str(hour) + ':' + str(minute) + ':' + str(second)\n",
    "    return time_string\n",
    "\n",
    "result = print_time(11, 37, 59)\n",
    "print('result of call is:', result)"
   ]
  },
  {
   "cell_type": "markdown",
   "id": "5d75c52c-7fcb-4726-8dba-b5447cc1c714",
   "metadata": {},
   "source": [
    "Run the following and take a look at what it prints. Restructure it so that instead it prints `calling pressure is 22.5`.\n",
    "```\n",
    "def report(pressure):\n",
    "    print('pressure is', pressure)\n",
    "\n",
    "print('calling', report, 22.5)\n",
    "```"
   ]
  },
  {
   "cell_type": "code",
   "execution_count": 21,
   "id": "b4017873-8a1b-465f-a929-19ee518bb515",
   "metadata": {
    "editable": true,
    "slideshow": {
     "slide_type": ""
    },
    "tags": [
     "clear_answer_cell"
    ]
   },
   "outputs": [
    {
     "name": "stdout",
     "output_type": "stream",
     "text": [
      "calling pressure is 22.5\n"
     ]
    }
   ],
   "source": [
    "def report(pressure):\n",
    "    intro= 'calling pressure is'\n",
    "    statement = intro + ' '+ str(pressure)\n",
    "    return print(statement)\n",
    "report(22.5)\n",
    "\n",
    "\n",
    "\n",
    "\n",
    "    \n",
    "\n"
   ]
  },
  {
   "cell_type": "markdown",
   "id": "109d940a-3794-4998-bb51-f7b070b81ccf",
   "metadata": {},
   "source": [
    "## 4. Let's write a function to use Pythagoras' Theorem, like in exercise 2."
   ]
  },
  {
   "cell_type": "markdown",
   "id": "321170b7-0af5-4c77-84a6-39571b8f72af",
   "metadata": {},
   "source": [
    "Define a function `calc_hypo` that takes two arguments, `a` and `b`. Inside the function, define a variable `hypo` equal to the length of the hypotenuse and return the value."
   ]
  },
  {
   "cell_type": "code",
   "execution_count": 28,
   "id": "cbad04e1-9a87-4637-9d8c-b1972fe0fcee",
   "metadata": {
    "editable": true,
    "slideshow": {
     "slide_type": ""
    },
    "tags": [
     "clear_answer_cell"
    ]
   },
   "outputs": [],
   "source": [
    "def calc_hypo(a,b):\n",
    "    hypo = (a**2 +b**2)**0.5\n",
    "    return hypo\n",
    "\n"
   ]
  },
  {
   "cell_type": "markdown",
   "id": "a6da8a84-25e8-4b8d-a13b-04d4d96f6b77",
   "metadata": {},
   "source": [
    "Test out the function by calling it with the values `3` and `4`."
   ]
  },
  {
   "cell_type": "code",
   "execution_count": 30,
   "id": "1dff411a-3553-4502-a8c5-2de7337ff677",
   "metadata": {
    "editable": true,
    "slideshow": {
     "slide_type": ""
    },
    "tags": [
     "clear_answer_cell"
    ]
   },
   "outputs": [
    {
     "data": {
      "text/plain": [
       "5.0"
      ]
     },
     "execution_count": 30,
     "metadata": {},
     "output_type": "execute_result"
    }
   ],
   "source": [
    "calc_hypo(3,4)"
   ]
  },
  {
   "cell_type": "markdown",
   "id": "f8da770a-b3e0-4e50-8845-a6b5b94e6d89",
   "metadata": {},
   "source": [
    "Let's improve the function by adding some checks. Use `if` statements to print \"bad argument\" and return `None` if the argument type isn't `int` or `float`. "
   ]
  },
  {
   "cell_type": "code",
   "execution_count": 44,
   "id": "f2019964-bc0d-4dcb-9b4a-ce12f338a652",
   "metadata": {
    "editable": true,
    "slideshow": {
     "slide_type": ""
    },
    "tags": [
     "clear_answer_cell"
    ]
   },
   "outputs": [
    {
     "name": "stdout",
     "output_type": "stream",
     "text": [
      "bad argument\n"
     ]
    }
   ],
   "source": [
    "def calc_hypo(a,b):\n",
    "    if (type(a) and type(b)) is (int or float):\n",
    "        hypo = (a**2 +b**2)**0.5\n",
    "        return hypo\n",
    "    else:\n",
    "        print(\"bad argument\")\n",
    "        return None\n",
    "calc_hypo(3,\"peas\")\n",
    "\n",
    "    \n"
   ]
  },
  {
   "cell_type": "markdown",
   "id": "f6635e58-80ed-4840-ba6d-a09e7442d129",
   "metadata": {},
   "source": [
    "Call the function with different arguments to check that this is working."
   ]
  },
  {
   "cell_type": "code",
   "execution_count": 45,
   "id": "da8e4b43-be64-410c-8a06-f33480278eb2",
   "metadata": {
    "editable": true,
    "slideshow": {
     "slide_type": ""
    },
    "tags": [
     "clear_answer_cell"
    ]
   },
   "outputs": [
    {
     "name": "stdout",
     "output_type": "stream",
     "text": [
      "bad argument\n"
     ]
    }
   ],
   "source": [
    "calc_hypo(3,\"peas\")"
   ]
  },
  {
   "cell_type": "markdown",
   "id": "860ff888-80d9-4363-81a3-a748731806f8",
   "metadata": {},
   "source": [
    "Add a second check to the function which prints \"Bad argument\" and returns `None` if a number equal to or less than zero is given."
   ]
  },
  {
   "cell_type": "code",
   "execution_count": 69,
   "id": "10976433-eade-48dc-aa6e-9c2107812f6d",
   "metadata": {
    "editable": true,
    "slideshow": {
     "slide_type": ""
    },
    "tags": [
     "clear_answer_cell"
    ]
   },
   "outputs": [],
   "source": [
    "def calc_hypo(a,b):\n",
    "    if (a<=0) or (b <= 0):\n",
    "        print(\"bad argument\")\n",
    "        return None\n",
    "    elif (type(a) and type(b)) is (int or float):\n",
    "        hypo = (a**2 +b**2)**0.5\n",
    "        return hypo\n",
    "    else:\n",
    "        print(\"bad argument\")\n",
    "        return None"
   ]
  },
  {
   "cell_type": "markdown",
   "id": "7e47de0e-20d4-4297-9945-fc08c8c1fda6",
   "metadata": {},
   "source": [
    "Test out the check you added."
   ]
  },
  {
   "cell_type": "code",
   "execution_count": 72,
   "id": "5db34b2d-a7c6-44ee-8daf-3fed95c1c850",
   "metadata": {
    "editable": true,
    "slideshow": {
     "slide_type": ""
    },
    "tags": [
     "clear_answer_cell"
    ]
   },
   "outputs": [
    {
     "name": "stdout",
     "output_type": "stream",
     "text": [
      "bad argument\n"
     ]
    }
   ],
   "source": [
    "calc_hypo(3,0)"
   ]
  },
  {
   "cell_type": "markdown",
   "id": "11d678c1-135f-415f-aec5-ee2215d1a32e",
   "metadata": {},
   "source": [
    "## 5. Extension Activity"
   ]
  },
  {
   "cell_type": "markdown",
   "id": "e554c739-cbb7-4137-8caa-0e5619331efb",
   "metadata": {},
   "source": [
    "1. Write a function which computes the average GDP for each file for a given country, continent and year."
   ]
  },
  {
   "cell_type": "markdown",
   "id": "6b8ff5a3-dfcc-4eec-aa62-72824c4f7b4e",
   "metadata": {},
   "source": [
    "_Hint: You will need the following steps:_\n",
    "1. Create a function with the arguments country, continent, year.\n",
    "2. Read the csv file (use the continent variable in the filename to open any file - e.g. the file name should be /data/`continent`_gdp.csv).\n",
    "3. Use `.loc[ ]` to locate where the data for the country is.\n",
    "4. Work out the GDP decade using the year given (maybe using floor division `//`).\n",
    "5. Loop over the columns to find the one which starts with 'gdpPercap_`year`' (make use of `.index` and `.startswith()`).\n",
    "6. Try calling the function and see what it returns - if you call it for Canada, americas in 1952 your answer should be 11928.55559."
   ]
  },
  {
   "cell_type": "code",
   "execution_count": 130,
   "id": "912dcf85-c6ea-49a7-b73f-4d036357cef9",
   "metadata": {
    "editable": true,
    "slideshow": {
     "slide_type": ""
    },
    "tags": [
     "clear_answer_cell"
    ]
   },
   "outputs": [
    {
     "data": {
      "text/plain": [
       "11367.16112"
      ]
     },
     "execution_count": 130,
     "metadata": {},
     "output_type": "execute_result"
    }
   ],
   "source": [
    "import pandas as pd\n",
    "from pathlib import Path\n",
    "def gdp_avg(country,continent,year):\n",
    "    file = pd.read_csv('../data/'+continent+'_gdp.csv',index_col=\"country\")\n",
    "    years = file.columns.str.replace('gdpPercap_','')\n",
    "    file.columns = years\n",
    "    file.loc[country,:]\n",
    "    dgp_decade = year//10\n",
    "    return file.loc[country,:].loc[str(year)]\n",
    "    \n",
    "    \n",
    "gdp_avg(\"Canada\",\"americas\",1952)\n",
    "    \n",
    "    \n",
    "    \n",
    "    \n",
    "\n",
    "\n",
    "    \n",
    "    "
   ]
  },
  {
   "cell_type": "code",
   "execution_count": null,
   "id": "06347428-074b-4b53-a7b5-0728fb4cef92",
   "metadata": {
    "editable": true,
    "slideshow": {
     "slide_type": ""
    },
    "tags": []
   },
   "outputs": [],
   "source": []
  }
 ],
 "metadata": {
  "kernelspec": {
   "display_name": "Python 3 + Jaspy",
   "language": "python",
   "name": "jaspy"
  },
  "language_info": {
   "codemirror_mode": {
    "name": "ipython",
    "version": 3
   },
   "file_extension": ".py",
   "mimetype": "text/x-python",
   "name": "python",
   "nbconvert_exporter": "python",
   "pygments_lexer": "ipython3",
   "version": "3.11.9"
  }
 },
 "nbformat": 4,
 "nbformat_minor": 5
}
