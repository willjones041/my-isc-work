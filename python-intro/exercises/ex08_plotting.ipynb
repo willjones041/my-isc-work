{
 "cells": [
  {
   "cell_type": "markdown",
   "id": "829d141c-f9df-4623-a146-376548745683",
   "metadata": {
    "editable": true,
    "slideshow": {
     "slide_type": ""
    },
    "tags": []
   },
   "source": [
    "# Exercise 8: Plotting with `matplotlib`"
   ]
  },
  {
   "cell_type": "markdown",
   "id": "dc7ae3ea-49ef-46a7-8db5-3249f25b3b9b",
   "metadata": {},
   "source": [
    "## Aim: Use `pyplot` to create time series plots."
   ]
  },
  {
   "cell_type": "markdown",
   "id": "2ca667c7-2ff3-4828-8a7b-147d6cdfe2be",
   "metadata": {},
   "source": [
    "### Issues covered:\n",
    "- Import `pyplot` from `matplotlib`\n",
    "- Create a basic time series plot from lists\n",
    "- Create a plot from a `pandas` DataFrame\n",
    "- Plot multiple series on one graph\n",
    "- Create different kinds of plots - including scatter and bar graphs"
   ]
  },
  {
   "cell_type": "markdown",
   "id": "359977f2-af21-4ee1-b957-66d3e09fcca7",
   "metadata": {},
   "source": [
    "## 1. Create a simple time series from a list"
   ]
  },
  {
   "cell_type": "markdown",
   "id": "1387a54b-2cf4-41a2-8497-334b4989a5da",
   "metadata": {
    "editable": true,
    "slideshow": {
     "slide_type": ""
    },
    "tags": []
   },
   "source": [
    "Import `matplotlib.pyplot` as `plt`, then create two datasets - one for the time values `[0, 10, 20, 30]`, and one for the positions with the value `[0, 200, 400, 600]`."
   ]
  },
  {
   "cell_type": "code",
   "execution_count": 1,
   "id": "e045729e-e211-4c7f-bbfa-4de6e0d97b4a",
   "metadata": {
    "editable": true,
    "execution": {
     "iopub.execute_input": "2023-10-23T10:34:24.690219Z",
     "iopub.status.busy": "2023-10-23T10:34:24.689481Z",
     "iopub.status.idle": "2023-10-23T10:34:25.576326Z",
     "shell.execute_reply": "2023-10-23T10:34:25.574763Z"
    },
    "slideshow": {
     "slide_type": ""
    },
    "tags": [
     "clear_answer_cell"
    ]
   },
   "outputs": [],
   "source": []
  },
  {
   "cell_type": "markdown",
   "id": "e15c4d73-bb75-4581-abcb-5a4264d6280f",
   "metadata": {
    "editable": true,
    "slideshow": {
     "slide_type": ""
    },
    "tags": []
   },
   "source": [
    "Plot the data using `plt.plot()` and add axis labels."
   ]
  },
  {
   "cell_type": "code",
   "execution_count": 2,
   "id": "ef059b01-478f-4696-982a-c36fddcbf9b0",
   "metadata": {
    "editable": true,
    "execution": {
     "iopub.execute_input": "2023-10-23T10:34:25.584075Z",
     "iopub.status.busy": "2023-10-23T10:34:25.583162Z",
     "iopub.status.idle": "2023-10-23T10:34:25.721056Z",
     "shell.execute_reply": "2023-10-23T10:34:25.720418Z"
    },
    "slideshow": {
     "slide_type": ""
    },
    "tags": [
     "clear_answer_cell"
    ]
   },
   "outputs": [],
   "source": []
  },
  {
   "cell_type": "markdown",
   "id": "5b38ecb0-1397-417b-a708-db45181ab8a0",
   "metadata": {},
   "source": [
    "## 2. Create a plot from a DataFrame"
   ]
  },
  {
   "cell_type": "markdown",
   "id": "49e01685-b6dc-46b2-ba4e-e6a5763b75d4",
   "metadata": {
    "editable": true,
    "slideshow": {
     "slide_type": ""
    },
    "tags": []
   },
   "source": [
    "Create a dataframe that we will use to make a plot. Use the file `data/oceania_gdp` and index it by country. "
   ]
  },
  {
   "cell_type": "code",
   "execution_count": 3,
   "id": "3c4198de-2ae8-4222-86ed-b82788cf9831",
   "metadata": {
    "editable": true,
    "execution": {
     "iopub.execute_input": "2023-10-23T10:34:25.727911Z",
     "iopub.status.busy": "2023-10-23T10:34:25.727522Z",
     "iopub.status.idle": "2023-10-23T10:34:25.944915Z",
     "shell.execute_reply": "2023-10-23T10:34:25.944095Z"
    },
    "slideshow": {
     "slide_type": ""
    },
    "tags": [
     "clear_answer_cell"
    ]
   },
   "outputs": [],
   "source": []
  },
  {
   "cell_type": "markdown",
   "id": "b5b1b76a-0be3-4080-bd1f-9a363c85c922",
   "metadata": {
    "editable": true,
    "slideshow": {
     "slide_type": ""
    },
    "tags": []
   },
   "source": [
    "Extract the year from the last 4 characters of the column names using:\n",
    "```\n",
    "data.columns.str.replace('gdpPercap_', '')\n",
    "```"
   ]
  },
  {
   "cell_type": "code",
   "execution_count": 4,
   "id": "12ce0da5-d7a9-459c-b5d3-4697646b4a1e",
   "metadata": {
    "editable": true,
    "execution": {
     "iopub.execute_input": "2023-10-23T10:34:25.950487Z",
     "iopub.status.busy": "2023-10-23T10:34:25.950098Z",
     "iopub.status.idle": "2023-10-23T10:34:25.954655Z",
     "shell.execute_reply": "2023-10-23T10:34:25.954028Z"
    },
    "slideshow": {
     "slide_type": ""
    },
    "tags": [
     "clear_answer_cell"
    ]
   },
   "outputs": [],
   "source": []
  },
  {
   "cell_type": "markdown",
   "id": "b2146833-4ac7-45d7-aa30-2d2a10e7da7d",
   "metadata": {
    "editable": true,
    "slideshow": {
     "slide_type": ""
    },
    "tags": []
   },
   "source": [
    "Convert the years values to integers using `astype()`and save the results back to the dataframe."
   ]
  },
  {
   "cell_type": "code",
   "execution_count": 5,
   "id": "2797c7ce-dbe8-4cc7-930c-165f24812223",
   "metadata": {
    "editable": true,
    "execution": {
     "iopub.execute_input": "2023-10-23T10:34:25.959998Z",
     "iopub.status.busy": "2023-10-23T10:34:25.959671Z",
     "iopub.status.idle": "2023-10-23T10:34:25.966014Z",
     "shell.execute_reply": "2023-10-23T10:34:25.965355Z"
    },
    "slideshow": {
     "slide_type": ""
    },
    "tags": [
     "clear_answer_cell"
    ]
   },
   "outputs": [],
   "source": []
  },
  {
   "cell_type": "markdown",
   "id": "90f7c956-ab79-4d50-a9a4-11f079bd7462",
   "metadata": {
    "editable": true,
    "slideshow": {
     "slide_type": ""
    },
    "tags": []
   },
   "source": [
    "Plot the resulting data for 'Australia'. Set the x and y axis labels to `Year` and `GDP per capita` respectively."
   ]
  },
  {
   "cell_type": "code",
   "execution_count": 6,
   "id": "c44cbad7-b04a-48ae-9f3d-51f0944cbd1c",
   "metadata": {
    "editable": true,
    "execution": {
     "iopub.execute_input": "2023-10-23T10:34:25.970042Z",
     "iopub.status.busy": "2023-10-23T10:34:25.969690Z",
     "iopub.status.idle": "2023-10-23T10:34:26.104122Z",
     "shell.execute_reply": "2023-10-23T10:34:26.103402Z"
    },
    "slideshow": {
     "slide_type": ""
    },
    "tags": [
     "clear_answer_cell"
    ]
   },
   "outputs": [],
   "source": []
  },
  {
   "cell_type": "markdown",
   "id": "bc0a3be8-8675-40e7-8632-c4d64c5a4d79",
   "metadata": {},
   "source": [
    "## 3. Plot multiple series"
   ]
  },
  {
   "cell_type": "markdown",
   "id": "e763190f-386b-4c90-96d5-e768e6fa04c7",
   "metadata": {
    "editable": true,
    "slideshow": {
     "slide_type": ""
    },
    "tags": []
   },
   "source": [
    "Plot multiple series using `.T.plot()` and set the axis labels to `Year` and `GDP per capita` again."
   ]
  },
  {
   "cell_type": "code",
   "execution_count": 7,
   "id": "443ec95b-6ccd-42e8-a0ec-279299bcf5b0",
   "metadata": {
    "editable": true,
    "execution": {
     "iopub.execute_input": "2023-10-23T10:34:26.110531Z",
     "iopub.status.busy": "2023-10-23T10:34:26.110308Z",
     "iopub.status.idle": "2023-10-23T10:34:26.252988Z",
     "shell.execute_reply": "2023-10-23T10:34:26.251856Z"
    },
    "slideshow": {
     "slide_type": ""
    },
    "tags": [
     "clear_answer_cell"
    ]
   },
   "outputs": [],
   "source": []
  },
  {
   "cell_type": "markdown",
   "id": "f37d0942-8269-4f1e-8524-3cff1d113eb6",
   "metadata": {},
   "source": [
    "## 4. Plot some different types of graphs"
   ]
  },
  {
   "cell_type": "markdown",
   "id": "e15c35b3-d498-4b54-a376-90e9296a5922",
   "metadata": {
    "editable": true,
    "slideshow": {
     "slide_type": ""
    },
    "tags": []
   },
   "source": [
    "Plot the data in the form of a bar chart, including axis labels."
   ]
  },
  {
   "cell_type": "code",
   "execution_count": 8,
   "id": "b6dd18d0-6d3d-48e3-84fe-2f6479f531a9",
   "metadata": {
    "editable": true,
    "execution": {
     "iopub.execute_input": "2023-10-23T10:34:26.258928Z",
     "iopub.status.busy": "2023-10-23T10:34:26.258498Z",
     "iopub.status.idle": "2023-10-23T10:34:26.466592Z",
     "shell.execute_reply": "2023-10-23T10:34:26.465384Z"
    },
    "slideshow": {
     "slide_type": ""
    },
    "tags": [
     "clear_answer_cell"
    ]
   },
   "outputs": [],
   "source": []
  },
  {
   "cell_type": "markdown",
   "id": "a1609d38-c8e5-4711-a577-c8c4ef741684",
   "metadata": {
    "editable": true,
    "slideshow": {
     "slide_type": ""
    },
    "tags": []
   },
   "source": [
    "Create a variable called `years`, setting the value as the columns from your dataframe. Create a variable called `gdp_australia` which uses `loc()` to get the data for Australia. Try making a plot by calling the `plt.plot(x,y)` function directly for `years` on the x axis and `gdp_australia` on the y axis. Plot the data using a blue dashed line."
   ]
  },
  {
   "cell_type": "code",
   "execution_count": 9,
   "id": "362a52f5-b853-4335-a8ec-8dbaf8b3213c",
   "metadata": {
    "editable": true,
    "execution": {
     "iopub.execute_input": "2023-10-23T10:34:26.472433Z",
     "iopub.status.busy": "2023-10-23T10:34:26.472074Z",
     "iopub.status.idle": "2023-10-23T10:34:26.585330Z",
     "shell.execute_reply": "2023-10-23T10:34:26.584159Z"
    },
    "slideshow": {
     "slide_type": ""
    },
    "tags": [
     "clear_answer_cell"
    ]
   },
   "outputs": [],
   "source": []
  },
  {
   "cell_type": "markdown",
   "id": "572b2994-09d3-436f-9f8f-6deada5ce7f7",
   "metadata": {
    "editable": true,
    "slideshow": {
     "slide_type": ""
    },
    "tags": []
   },
   "source": [
    "Plot multiple datasets on the same graph by following the steps above for both Australia and New Zealand. Include axis labels and a legend. Plot New Zealand with a green dashed line and Australia a red dashed line."
   ]
  },
  {
   "cell_type": "code",
   "execution_count": 10,
   "id": "94fa587e-a8e2-427b-a403-ebe613b21e46",
   "metadata": {
    "editable": true,
    "execution": {
     "iopub.execute_input": "2023-10-23T10:34:26.590850Z",
     "iopub.status.busy": "2023-10-23T10:34:26.590461Z",
     "iopub.status.idle": "2023-10-23T10:34:26.724950Z",
     "shell.execute_reply": "2023-10-23T10:34:26.723549Z"
    },
    "slideshow": {
     "slide_type": ""
    },
    "tags": [
     "clear_answer_cell"
    ]
   },
   "outputs": [],
   "source": []
  },
  {
   "cell_type": "markdown",
   "id": "c8de7333-337c-4791-9667-df008c97d9b7",
   "metadata": {
    "editable": true,
    "slideshow": {
     "slide_type": ""
    },
    "tags": []
   },
   "source": [
    "Create a scatter plot using `plt.scatter()` to compare the GDP of Australia and New Zealand."
   ]
  },
  {
   "cell_type": "code",
   "execution_count": 11,
   "id": "1094947a-0858-4283-a54a-5203321950f9",
   "metadata": {
    "editable": true,
    "execution": {
     "iopub.execute_input": "2023-10-23T10:34:26.731669Z",
     "iopub.status.busy": "2023-10-23T10:34:26.731103Z",
     "iopub.status.idle": "2023-10-23T10:34:26.912236Z",
     "shell.execute_reply": "2023-10-23T10:34:26.911224Z"
    },
    "slideshow": {
     "slide_type": ""
    },
    "tags": [
     "clear_answer_cell"
    ]
   },
   "outputs": [],
   "source": []
  },
  {
   "cell_type": "markdown",
   "id": "e0b7be4f-86b0-4537-aaa1-ca1dc0e9e826",
   "metadata": {},
   "source": [
    "## 5. Extension activity: Customise a plot and save it."
   ]
  },
  {
   "cell_type": "markdown",
   "id": "023a55ae-e5f9-4a2a-823f-44fd5d0c8e4e",
   "metadata": {},
   "source": [
    "1. Create an x axis using `x = np.arange(0, 5, 0.1)`. Print it out to see what this line of code does."
   ]
  },
  {
   "cell_type": "markdown",
   "id": "011ef001-1c61-4cf9-89a8-958b68bc7d06",
   "metadata": {},
   "source": [
    "_Hint: Remember to import `numpy` as `np`._"
   ]
  },
  {
   "cell_type": "code",
   "execution_count": 12,
   "id": "e3fabef6-1199-43a0-892a-cbd1d9b5a5ae",
   "metadata": {
    "editable": true,
    "execution": {
     "iopub.execute_input": "2023-10-23T10:34:26.918281Z",
     "iopub.status.busy": "2023-10-23T10:34:26.917922Z",
     "iopub.status.idle": "2023-10-23T10:34:26.924073Z",
     "shell.execute_reply": "2023-10-23T10:34:26.923209Z"
    },
    "slideshow": {
     "slide_type": ""
    },
    "tags": [
     "clear_answer_cell"
    ]
   },
   "outputs": [],
   "source": []
  },
  {
   "cell_type": "markdown",
   "id": "fb0ebb62-eea4-4baa-af87-9741eaacebcd",
   "metadata": {},
   "source": [
    "2. Create a y axis with values $sin(x)$ using a relevant function from `numpy` with the x values from the previous question."
   ]
  },
  {
   "cell_type": "code",
   "execution_count": 13,
   "id": "4bcdb740-210f-4304-b551-67471bf98e0d",
   "metadata": {
    "editable": true,
    "execution": {
     "iopub.execute_input": "2023-10-23T10:34:26.929114Z",
     "iopub.status.busy": "2023-10-23T10:34:26.928891Z",
     "iopub.status.idle": "2023-10-23T10:34:26.934265Z",
     "shell.execute_reply": "2023-10-23T10:34:26.932913Z"
    },
    "slideshow": {
     "slide_type": ""
    },
    "tags": [
     "clear_answer_cell"
    ]
   },
   "outputs": [],
   "source": []
  },
  {
   "cell_type": "markdown",
   "id": "5b8a3d70-097d-4b5c-9ec5-df4088e3aef4",
   "metadata": {},
   "source": [
    "3. Use `pyplot` to plot these values. "
   ]
  },
  {
   "cell_type": "code",
   "execution_count": 14,
   "id": "1b9a20ad-17e3-425f-a105-9bb1a4b9dafb",
   "metadata": {
    "editable": true,
    "execution": {
     "iopub.execute_input": "2023-10-23T10:34:26.937452Z",
     "iopub.status.busy": "2023-10-23T10:34:26.937111Z",
     "iopub.status.idle": "2023-10-23T10:34:27.053409Z",
     "shell.execute_reply": "2023-10-23T10:34:27.052570Z"
    },
    "slideshow": {
     "slide_type": ""
    },
    "tags": [
     "clear_answer_cell"
    ]
   },
   "outputs": [],
   "source": []
  },
  {
   "cell_type": "markdown",
   "id": "d48c4111-b92e-4c90-a9f7-40a4c8ddb4d5",
   "metadata": {},
   "source": [
    "4. Plot a cos graph on the same graph as the sin curve. Add a legend and axis labels. Customise the colours too if you like."
   ]
  },
  {
   "cell_type": "code",
   "execution_count": 15,
   "id": "5bcb653e-bbc4-4f1c-af03-5e5961b55cb6",
   "metadata": {
    "editable": true,
    "execution": {
     "iopub.execute_input": "2023-10-23T10:34:27.058912Z",
     "iopub.status.busy": "2023-10-23T10:34:27.058691Z",
     "iopub.status.idle": "2023-10-23T10:34:27.306970Z",
     "shell.execute_reply": "2023-10-23T10:34:27.306081Z"
    },
    "slideshow": {
     "slide_type": ""
    },
    "tags": [
     "clear_answer_cell"
    ]
   },
   "outputs": [],
   "source": []
  },
  {
   "cell_type": "markdown",
   "id": "0458ddf6-5e75-4778-8e2d-0768a350811a",
   "metadata": {},
   "source": [
    "5. Save your plot to a file in the `images` folder using `plt.savefig('filename')`."
   ]
  },
  {
   "cell_type": "code",
   "execution_count": 16,
   "id": "89fe847f-891d-46d1-b369-5059128a95bb",
   "metadata": {
    "editable": true,
    "execution": {
     "iopub.execute_input": "2023-10-23T10:34:27.312939Z",
     "iopub.status.busy": "2023-10-23T10:34:27.312584Z",
     "iopub.status.idle": "2023-10-23T10:34:27.328308Z",
     "shell.execute_reply": "2023-10-23T10:34:27.327521Z"
    },
    "slideshow": {
     "slide_type": ""
    },
    "tags": [
     "clear_answer_cell"
    ]
   },
   "outputs": [],
   "source": []
  }
 ],
 "metadata": {
  "kernelspec": {
   "display_name": "Python 3 + Jaspy",
   "language": "python",
   "name": "jaspy"
  },
  "language_info": {
   "codemirror_mode": {
    "name": "ipython",
    "version": 3
   },
   "file_extension": ".py",
   "mimetype": "text/x-python",
   "name": "python",
   "nbconvert_exporter": "python",
   "pygments_lexer": "ipython3",
   "version": "3.11.9"
  }
 },
 "nbformat": 4,
 "nbformat_minor": 5
}
